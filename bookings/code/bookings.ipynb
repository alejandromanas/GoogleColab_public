{
  "nbformat": 4,
  "nbformat_minor": 0,
  "metadata": {
    "colab": {
      "name": "Bookings.ipynb",
      "provenance": [],
      "collapsed_sections": [],
      "toc_visible": true,
      "authorship_tag": "ABX9TyPJd0iK0i468Ecme1U7rztj",
      "include_colab_link": true
    },
    "kernelspec": {
      "name": "python3",
      "display_name": "Python 3"
    }
  },
  "cells": [
    {
      "cell_type": "markdown",
      "metadata": {
        "id": "view-in-github",
        "colab_type": "text"
      },
      "source": [
        "<a href=\"https://colab.research.google.com/github/alejandromanas/GoogleColab_public/blob/master/bookings/code/bookings.ipynb\" target=\"_parent\"><img src=\"https://colab.research.google.com/assets/colab-badge.svg\" alt=\"Open In Colab\"/></a>"
      ]
    },
    {
      "cell_type": "markdown",
      "metadata": {
        "id": "2cyv7rxFtQ2F",
        "colab_type": "text"
      },
      "source": [
        "# **Booking cancellation prediction**\n",
        "\n",
        "Before you begin, I recommend you to open this notebook in Google colab. You will be able to run python code without having a powerful computer and you can browse quickly through different sections of the document.\n",
        "\n",
        "\n",
        "Booking cancellations generates a big impact on transport and hotel industries and contributes negatively to the generation of accurate forecasts. Cancellation rate can range from 20% to 60% depending on the hotel type and location. A good predictive model of cancellation could reduces losses ensuring better decision-making in the following areas:\n",
        "\n",
        "* Booking management- Get a better forecast of net demand (bookings - cancellations)\n",
        "\n",
        "* Revenue Management- Improves information quality (net demanad) to optimize pricing management\n",
        "\n",
        "* Resource management- Optimize purchasing planning, services of external suppliers and staff organization. \n",
        "\n",
        "* Overbooking policies- Reduce the additional costs of acomodate guests in other hotels and the loss of confidence and bad publicity (bad reviews) that it can cause.\n",
        "\n",
        "The purpose of this notebook is to show several supervised classification models that allows to predict if a hotel booking will be canceled in the future. \n",
        "\n",
        "The algorithms used are: \n",
        "* Logistic regression\n",
        "* SVM (Support Vector Machine)\n",
        "* XGBoost\n",
        "* LightGBM \n",
        "* Neural network"
      ]
    },
    {
      "cell_type": "markdown",
      "metadata": {
        "id": "UM_f4iFGabfl",
        "colab_type": "text"
      },
      "source": [
        "### Libraries & basic functions"
      ]
    },
    {
      "cell_type": "code",
      "metadata": {
        "id": "Qk6izRTUaYsy",
        "colab_type": "code",
        "colab": {}
      },
      "source": [
        "#import matplotlib.pyplot as plt\n",
        "\n",
        "#import xgboost as xgb\n",
        "#from xgboost import XGBClassifier\n",
        "#from sklearn.model_selection import GridSearchCV\n",
        "#import lightgbm as lgb\n",
        "#from sklearn.model_selection import KFold\n",
        "\n",
        "#import warnings\n",
        "#warnings.filterwarnings(\"ignore\")\n",
        "\n"
      ],
      "execution_count": 0,
      "outputs": []
    },
    {
      "cell_type": "markdown",
      "metadata": {
        "id": "sqd54bXZbGuQ",
        "colab_type": "text"
      },
      "source": [
        "### Loading Data\n",
        "\n",
        "Data used in the analysis was obtained from an article entitled \"Hotel booking demand datasets\"  and written by Nuno Antonio, Anade Almeid and Luis Nunes (https://www.sciencedirect.com/science/article/pii/S2352340918315191).\n",
        "\n",
        "The article includes a dataset with 120,000 reservations from two hotels of one of the major portuguese hotels brand. Both hotels have more than 200 rooms and a four stars rating. One is a city hotel located in Lisbon and the other is a resort hotel in the Algarve. The reservations have an arrival date between 1st July 2015 and 31th August 2017. \n",
        "\n",
        "Each reservation includes about 31 features or columns. Some of them are:\n",
        "* Booking status (cancelled or not cancelled)\n",
        "* Lead time\n",
        "* Number of nights (weekdays and weekends)\n",
        "* Average price per night\n",
        "* Distribution channel\n",
        "* Market segment\n",
        "* Room type\n",
        "* Number of guests (babes, childs or adults)"
      ]
    },
    {
      "cell_type": "markdown",
      "metadata": {
        "id": "ey058_GDMNQW",
        "colab_type": "text"
      },
      "source": [
        "Importing data from public github repository "
      ]
    },
    {
      "cell_type": "code",
      "metadata": {
        "id": "IgaDoxhdUUex",
        "colab_type": "code",
        "colab": {}
      },
      "source": [
        "import pandas as pd\n",
        "\n",
        "H1 = pd.read_csv(\"https://raw.githubusercontent.com/alejandromanas/GoogleColab_public/master/bookings/files/H1.csv\", delimiter = ',')\n",
        "H1['Hotel']='Resort'\n",
        "\n",
        "#outcome 'IsCancelled'\n",
        "H2 = pd.read_csv(\"https://raw.githubusercontent.com/alejandromanas/GoogleColab_public/master/bookings/files/H2.csv\", delimiter = ',')\n",
        "H2['Hotel']='Urban'\n",
        "\n",
        "df_raw=[]\n",
        "df_data=[]\n",
        "df_raw=pd.concat([H1,H2], axis=0,ignore_index=True)"
      ],
      "execution_count": 0,
      "outputs": []
    },
    {
      "cell_type": "markdown",
      "metadata": {
        "id": "rZTyCYynjBjZ",
        "colab_type": "text"
      },
      "source": [
        "### Data Analysis"
      ]
    },
    {
      "cell_type": "markdown",
      "metadata": {
        "id": "daA09XHeB3IC",
        "colab_type": "text"
      },
      "source": [
        "**Data overview**"
      ]
    },
    {
      "cell_type": "code",
      "metadata": {
        "id": "jQegvKkjAQh-",
        "colab_type": "code",
        "outputId": "b49fce6b-f741-45cc-b3a2-6045a6c4fa91",
        "colab": {
          "base_uri": "https://localhost:8080/",
          "height": 320
        }
      },
      "source": [
        "df_analysis = df_raw.copy()\n",
        "df_analysis.describe()"
      ],
      "execution_count": 2,
      "outputs": [
        {
          "output_type": "execute_result",
          "data": {
            "text/html": [
              "<div>\n",
              "<style scoped>\n",
              "    .dataframe tbody tr th:only-of-type {\n",
              "        vertical-align: middle;\n",
              "    }\n",
              "\n",
              "    .dataframe tbody tr th {\n",
              "        vertical-align: top;\n",
              "    }\n",
              "\n",
              "    .dataframe thead th {\n",
              "        text-align: right;\n",
              "    }\n",
              "</style>\n",
              "<table border=\"1\" class=\"dataframe\">\n",
              "  <thead>\n",
              "    <tr style=\"text-align: right;\">\n",
              "      <th></th>\n",
              "      <th>IsCanceled</th>\n",
              "      <th>LeadTime</th>\n",
              "      <th>ArrivalDateYear</th>\n",
              "      <th>ArrivalDateWeekNumber</th>\n",
              "      <th>ArrivalDateDayOfMonth</th>\n",
              "      <th>StaysInWeekendNights</th>\n",
              "      <th>StaysInWeekNights</th>\n",
              "      <th>Adults</th>\n",
              "      <th>Children</th>\n",
              "      <th>Babies</th>\n",
              "      <th>IsRepeatedGuest</th>\n",
              "      <th>PreviousCancellations</th>\n",
              "      <th>PreviousBookingsNotCanceled</th>\n",
              "      <th>BookingChanges</th>\n",
              "      <th>DaysInWaitingList</th>\n",
              "      <th>ADR</th>\n",
              "      <th>RequiredCarParkingSpaces</th>\n",
              "      <th>TotalOfSpecialRequests</th>\n",
              "    </tr>\n",
              "  </thead>\n",
              "  <tbody>\n",
              "    <tr>\n",
              "      <th>count</th>\n",
              "      <td>119390.000000</td>\n",
              "      <td>119390.000000</td>\n",
              "      <td>119390.000000</td>\n",
              "      <td>119390.000000</td>\n",
              "      <td>119390.000000</td>\n",
              "      <td>119390.000000</td>\n",
              "      <td>119390.000000</td>\n",
              "      <td>119390.000000</td>\n",
              "      <td>119386.000000</td>\n",
              "      <td>119390.000000</td>\n",
              "      <td>119390.000000</td>\n",
              "      <td>119390.000000</td>\n",
              "      <td>119390.000000</td>\n",
              "      <td>119390.000000</td>\n",
              "      <td>119390.000000</td>\n",
              "      <td>119390.000000</td>\n",
              "      <td>119390.000000</td>\n",
              "      <td>119390.000000</td>\n",
              "    </tr>\n",
              "    <tr>\n",
              "      <th>mean</th>\n",
              "      <td>0.370416</td>\n",
              "      <td>104.011416</td>\n",
              "      <td>2016.156554</td>\n",
              "      <td>27.165173</td>\n",
              "      <td>15.798241</td>\n",
              "      <td>0.927599</td>\n",
              "      <td>2.500302</td>\n",
              "      <td>1.856403</td>\n",
              "      <td>0.103890</td>\n",
              "      <td>0.007949</td>\n",
              "      <td>0.031912</td>\n",
              "      <td>0.087118</td>\n",
              "      <td>0.137097</td>\n",
              "      <td>0.221124</td>\n",
              "      <td>2.321149</td>\n",
              "      <td>101.831122</td>\n",
              "      <td>0.062518</td>\n",
              "      <td>0.571363</td>\n",
              "    </tr>\n",
              "    <tr>\n",
              "      <th>std</th>\n",
              "      <td>0.482918</td>\n",
              "      <td>106.863097</td>\n",
              "      <td>0.707476</td>\n",
              "      <td>13.605138</td>\n",
              "      <td>8.780829</td>\n",
              "      <td>0.998613</td>\n",
              "      <td>1.908286</td>\n",
              "      <td>0.579261</td>\n",
              "      <td>0.398561</td>\n",
              "      <td>0.097436</td>\n",
              "      <td>0.175767</td>\n",
              "      <td>0.844336</td>\n",
              "      <td>1.497437</td>\n",
              "      <td>0.652306</td>\n",
              "      <td>17.594721</td>\n",
              "      <td>50.535790</td>\n",
              "      <td>0.245291</td>\n",
              "      <td>0.792798</td>\n",
              "    </tr>\n",
              "    <tr>\n",
              "      <th>min</th>\n",
              "      <td>0.000000</td>\n",
              "      <td>0.000000</td>\n",
              "      <td>2015.000000</td>\n",
              "      <td>1.000000</td>\n",
              "      <td>1.000000</td>\n",
              "      <td>0.000000</td>\n",
              "      <td>0.000000</td>\n",
              "      <td>0.000000</td>\n",
              "      <td>0.000000</td>\n",
              "      <td>0.000000</td>\n",
              "      <td>0.000000</td>\n",
              "      <td>0.000000</td>\n",
              "      <td>0.000000</td>\n",
              "      <td>0.000000</td>\n",
              "      <td>0.000000</td>\n",
              "      <td>-6.380000</td>\n",
              "      <td>0.000000</td>\n",
              "      <td>0.000000</td>\n",
              "    </tr>\n",
              "    <tr>\n",
              "      <th>25%</th>\n",
              "      <td>0.000000</td>\n",
              "      <td>18.000000</td>\n",
              "      <td>2016.000000</td>\n",
              "      <td>16.000000</td>\n",
              "      <td>8.000000</td>\n",
              "      <td>0.000000</td>\n",
              "      <td>1.000000</td>\n",
              "      <td>2.000000</td>\n",
              "      <td>0.000000</td>\n",
              "      <td>0.000000</td>\n",
              "      <td>0.000000</td>\n",
              "      <td>0.000000</td>\n",
              "      <td>0.000000</td>\n",
              "      <td>0.000000</td>\n",
              "      <td>0.000000</td>\n",
              "      <td>69.290000</td>\n",
              "      <td>0.000000</td>\n",
              "      <td>0.000000</td>\n",
              "    </tr>\n",
              "    <tr>\n",
              "      <th>50%</th>\n",
              "      <td>0.000000</td>\n",
              "      <td>69.000000</td>\n",
              "      <td>2016.000000</td>\n",
              "      <td>28.000000</td>\n",
              "      <td>16.000000</td>\n",
              "      <td>1.000000</td>\n",
              "      <td>2.000000</td>\n",
              "      <td>2.000000</td>\n",
              "      <td>0.000000</td>\n",
              "      <td>0.000000</td>\n",
              "      <td>0.000000</td>\n",
              "      <td>0.000000</td>\n",
              "      <td>0.000000</td>\n",
              "      <td>0.000000</td>\n",
              "      <td>0.000000</td>\n",
              "      <td>94.575000</td>\n",
              "      <td>0.000000</td>\n",
              "      <td>0.000000</td>\n",
              "    </tr>\n",
              "    <tr>\n",
              "      <th>75%</th>\n",
              "      <td>1.000000</td>\n",
              "      <td>160.000000</td>\n",
              "      <td>2017.000000</td>\n",
              "      <td>38.000000</td>\n",
              "      <td>23.000000</td>\n",
              "      <td>2.000000</td>\n",
              "      <td>3.000000</td>\n",
              "      <td>2.000000</td>\n",
              "      <td>0.000000</td>\n",
              "      <td>0.000000</td>\n",
              "      <td>0.000000</td>\n",
              "      <td>0.000000</td>\n",
              "      <td>0.000000</td>\n",
              "      <td>0.000000</td>\n",
              "      <td>0.000000</td>\n",
              "      <td>126.000000</td>\n",
              "      <td>0.000000</td>\n",
              "      <td>1.000000</td>\n",
              "    </tr>\n",
              "    <tr>\n",
              "      <th>max</th>\n",
              "      <td>1.000000</td>\n",
              "      <td>737.000000</td>\n",
              "      <td>2017.000000</td>\n",
              "      <td>53.000000</td>\n",
              "      <td>31.000000</td>\n",
              "      <td>19.000000</td>\n",
              "      <td>50.000000</td>\n",
              "      <td>55.000000</td>\n",
              "      <td>10.000000</td>\n",
              "      <td>10.000000</td>\n",
              "      <td>1.000000</td>\n",
              "      <td>26.000000</td>\n",
              "      <td>72.000000</td>\n",
              "      <td>21.000000</td>\n",
              "      <td>391.000000</td>\n",
              "      <td>5400.000000</td>\n",
              "      <td>8.000000</td>\n",
              "      <td>5.000000</td>\n",
              "    </tr>\n",
              "  </tbody>\n",
              "</table>\n",
              "</div>"
            ],
            "text/plain": [
              "          IsCanceled  ...  TotalOfSpecialRequests\n",
              "count  119390.000000  ...           119390.000000\n",
              "mean        0.370416  ...                0.571363\n",
              "std         0.482918  ...                0.792798\n",
              "min         0.000000  ...                0.000000\n",
              "25%         0.000000  ...                0.000000\n",
              "50%         0.000000  ...                0.000000\n",
              "75%         1.000000  ...                1.000000\n",
              "max         1.000000  ...                5.000000\n",
              "\n",
              "[8 rows x 18 columns]"
            ]
          },
          "metadata": {
            "tags": []
          },
          "execution_count": 2
        }
      ]
    },
    {
      "cell_type": "markdown",
      "metadata": {
        "id": "Jy-LSopT7p6j",
        "colab_type": "text"
      },
      "source": [
        "**Analysing cancelation rates**\n"
      ]
    },
    {
      "cell_type": "code",
      "metadata": {
        "id": "WrSCAB6CjNvy",
        "colab_type": "code",
        "colab": {}
      },
      "source": [
        "import matplotlib.pyplot as plt\n",
        "\n",
        "#overall cancelation rate\n",
        "canc_rate=df_analysis.IsCanceled.sum()/len(df_analysis)*100\n",
        "print('Cancelation rate mean: %.2f' % canc_rate)\n",
        "\n",
        "\n",
        "df_analysis['ArrivalDateMonthNum']=df_analysis.ArrivalDateMonth.replace({ 'January' : '01', 'February' : '02', 'March' : '03', 'April' :'04', 'May': '05', 'June' : '06', 'July':'07', 'August' : '08', 'September' : '09', 'October' : '10', 'November': '11', 'December' : '12' })\n",
        "df_analysis['ArrivalDateYearMonth'] = df_analysis['ArrivalDateYear'].astype('str')+'-'+ df_analysis['ArrivalDateMonthNum'].astype('str')\n",
        "\n",
        "# GROUP BY\n",
        "col_name= 'ArrivalDateYearMonth'\n",
        "df=(df_analysis.groupby(['Hotel',col_name]).mean()['IsCanceled']*100).to_frame()\n",
        "df.reset_index(inplace=True)\n",
        "\n",
        "import seaborn as sns; sns.set()\n",
        "import matplotlib.pyplot as plt\n",
        "\n",
        "plt.figure(figsize=(14, 6))\n",
        "sns.set(style=\"whitegrid\")\n",
        "ax = sns.lineplot(x=\"ArrivalDateYearMonth\", y=\"IsCanceled\", hue=\"Hotel\", data=df,linewidth=5,palette=\"tab10\")\n",
        "ax.set_title(' % Booking cancelation by Hotel',fontsize=14)\n",
        "ax.set_xlabel('Year/Month',fontsize=14);\n",
        "ax.set_ylabel('% Cancellation',fontsize=14);\n",
        "ax.set_xticklabels(labels=df.ArrivalDateYearMonth,rotation=70,size=12);\n",
        "#plt.plot([df.ArrivalDateYearMonth[0], canc_rate], [df.ArrivalDateYearMonth.iloc[-1], canc_rate], linewidth=2)\n",
        "plt.axhline(y=canc_rate, color='grey', linestyle='--',linewidth=3)\n",
        "plt.show()"
      ],
      "execution_count": 0,
      "outputs": []
    },
    {
      "cell_type": "markdown",
      "metadata": {
        "id": "zpyJbtKZ9CoO",
        "colab_type": "text"
      },
      "source": [
        "**Agent**"
      ]
    },
    {
      "cell_type": "code",
      "metadata": {
        "id": "OEPjGnC1v85P",
        "colab_type": "code",
        "outputId": "58595251-f3ef-4b03-b5e8-fc18196f2b18",
        "colab": {
          "base_uri": "https://localhost:8080/",
          "height": 431
        }
      },
      "source": [
        "df_analysis.Agent.nunique() #334 unique values\n",
        "\n",
        "def levels_analysis(feature,n):\n",
        "  df=(df_analysis.groupby([feature]).count()['IsCanceled']\n",
        "      .sort_values(ascending=False).head(n)).to_frame().reset_index()\n",
        "  ax = sns.catplot(x=feature, y=\"IsCanceled\", kind=\"bar\", data=df)\n",
        "  ax.fig.set_figwidth(14)\n",
        "  ax.fig.set_figheight(6)\n",
        "  ax.fig.suptitle('Number of cancelations by ' + feature)\n",
        "\n",
        "  plt.show()\n",
        "\n",
        "levels_analysis('Agent',20)"
      ],
      "execution_count": 18,
      "outputs": [
        {
          "output_type": "display_data",
          "data": {
            "image/png": "[encoded data removed]",
            "text/plain": [
              "<Figure size 1008x432 with 1 Axes>"
            ]
          },
          "metadata": {
            "tags": []
          }
        }
      ]
    },
    {
      "cell_type": "code",
      "metadata": {
        "id": "ZSleqDpot_IJ",
        "colab_type": "code",
        "outputId": "f2793727-93db-4da6-9536-53ceab71ce72",
        "colab": {
          "base_uri": "https://localhost:8080/",
          "height": 235
        }
      },
      "source": [
        "df=(df_analysis.groupby(['Agent']).count()['IsCanceled']/len(df_analysis))*100\n",
        "df.sort_values(ascending=False).head(10)"
      ],
      "execution_count": 0,
      "outputs": [
        {
          "output_type": "execute_result",
          "data": {
            "text/plain": [
              "Agent\n",
              "          9    26.770249\n",
              "       NULL    13.686238\n",
              "        240    11.660943\n",
              "          1     6.023118\n",
              "         14     3.048832\n",
              "          7     2.964235\n",
              "          6     2.755675\n",
              "        250     2.403886\n",
              "        241     1.441494\n",
              "         28     1.395427\n",
              "Name: IsCanceled, dtype: float64"
            ]
          },
          "metadata": {
            "tags": []
          },
          "execution_count": 65
        }
      ]
    },
    {
      "cell_type": "markdown",
      "metadata": {
        "id": "vzmr4Fdd9H6P",
        "colab_type": "text"
      },
      "source": [
        "**Company**"
      ]
    },
    {
      "cell_type": "code",
      "metadata": {
        "id": "3Ir28293wPhz",
        "colab_type": "code",
        "outputId": "c70d2663-35bb-46ad-d06d-a87dc00e4784",
        "colab": {
          "base_uri": "https://localhost:8080/",
          "height": 431
        }
      },
      "source": [
        "df_analysis.Company.nunique() #353 unique values\n",
        "\n",
        "levels_analysis('Company',15)"
      ],
      "execution_count": 19,
      "outputs": [
        {
          "output_type": "display_data",
          "data": {
            "image/png": "[encoded data removed]",
            "text/plain": [
              "<Figure size 1008x432 with 1 Axes>"
            ]
          },
          "metadata": {
            "tags": []
          }
        }
      ]
    },
    {
      "cell_type": "markdown",
      "metadata": {
        "id": "V-UCDeDKXyRf",
        "colab_type": "text"
      },
      "source": [
        "For Company, 94% of rows are 'NULL'"
      ]
    },
    {
      "cell_type": "code",
      "metadata": {
        "id": "MH8bWUsbVTRE",
        "colab_type": "code",
        "outputId": "7e1ba258-0ca1-4e24-fecc-abad41d3c92b",
        "colab": {
          "base_uri": "https://localhost:8080/",
          "height": 235
        }
      },
      "source": [
        "  df=(df_analysis.groupby(['Company']).count()['IsCanceled']/len(df_analysis))*100\n",
        "  df.sort_values(ascending=False).head(10)"
      ],
      "execution_count": 0,
      "outputs": [
        {
          "output_type": "execute_result",
          "data": {
            "text/plain": [
              "Company\n",
              "       NULL    94.306893\n",
              "         40     0.776447\n",
              "        223     0.656671\n",
              "         67     0.223637\n",
              "         45     0.209398\n",
              "        153     0.180082\n",
              "        174     0.124801\n",
              "        219     0.118100\n",
              "        281     0.115588\n",
              "        154     0.111400\n",
              "Name: IsCanceled, dtype: float64"
            ]
          },
          "metadata": {
            "tags": []
          },
          "execution_count": 6
        }
      ]
    },
    {
      "cell_type": "markdown",
      "metadata": {
        "id": "5OGLmohrCOhN",
        "colab_type": "text"
      },
      "source": [
        "**ADR (Average daily rate)**"
      ]
    },
    {
      "cell_type": "code",
      "metadata": {
        "id": "GXzYJbyiCHtu",
        "colab_type": "code",
        "outputId": "a0e23af5-92e0-4719-abd4-38981609c284",
        "colab": {
          "base_uri": "https://localhost:8080/",
          "height": 383
        }
      },
      "source": [
        "df=df_analysis[df_analysis['ADR']< 5000][['IsCanceled','ADR']]\n",
        "#df.IsCanceled=df.IsCanceled.astype('str')\n",
        "sns.catplot(x=\"IsCanceled\", y=\"ADR\", kind=\"violin\", data=df)"
      ],
      "execution_count": 0,
      "outputs": [
        {
          "output_type": "execute_result",
          "data": {
            "text/plain": [
              "<seaborn.axisgrid.FacetGrid at 0x7f7729a5d9e8>"
            ]
          },
          "metadata": {
            "tags": []
          },
          "execution_count": 7
        },
        {
          "output_type": "display_data",
          "data": {
            "image/png": "[encoded data removed]",
            "text/plain": [
              "<Figure size 360x360 with 1 Axes>"
            ]
          },
          "metadata": {
            "tags": []
          }
        }
      ]
    },
    {
      "cell_type": "markdown",
      "metadata": {
        "id": "3Ak8rmKzEy_t",
        "colab_type": "text"
      },
      "source": [
        "ADR of 5400 EUR for 1 night x 2 Adults. Seems to be an error and will be deleted in preprocessing"
      ]
    },
    {
      "cell_type": "code",
      "metadata": {
        "id": "7fLQvqjRDBUM",
        "colab_type": "code",
        "outputId": "e332a892-9669-4035-81c7-93d7edc27cea",
        "colab": {
          "base_uri": "https://localhost:8080/",
          "height": 101
        }
      },
      "source": [
        "df_analysis[df_analysis['ADR']> 5000]"
      ],
      "execution_count": 0,
      "outputs": [
        {
          "output_type": "execute_result",
          "data": {
            "text/html": [
              "<div>\n",
              "<style scoped>\n",
              "    .dataframe tbody tr th:only-of-type {\n",
              "        vertical-align: middle;\n",
              "    }\n",
              "\n",
              "    .dataframe tbody tr th {\n",
              "        vertical-align: top;\n",
              "    }\n",
              "\n",
              "    .dataframe thead th {\n",
              "        text-align: right;\n",
              "    }\n",
              "</style>\n",
              "<table border=\"1\" class=\"dataframe\">\n",
              "  <thead>\n",
              "    <tr style=\"text-align: right;\">\n",
              "      <th></th>\n",
              "      <th>IsCanceled</th>\n",
              "      <th>LeadTime</th>\n",
              "      <th>ArrivalDateYear</th>\n",
              "      <th>ArrivalDateMonth</th>\n",
              "      <th>ArrivalDateWeekNumber</th>\n",
              "      <th>ArrivalDateDayOfMonth</th>\n",
              "      <th>StaysInWeekendNights</th>\n",
              "      <th>StaysInWeekNights</th>\n",
              "      <th>Adults</th>\n",
              "      <th>Children</th>\n",
              "      <th>Babies</th>\n",
              "      <th>Meal</th>\n",
              "      <th>Country</th>\n",
              "      <th>MarketSegment</th>\n",
              "      <th>DistributionChannel</th>\n",
              "      <th>IsRepeatedGuest</th>\n",
              "      <th>PreviousCancellations</th>\n",
              "      <th>PreviousBookingsNotCanceled</th>\n",
              "      <th>ReservedRoomType</th>\n",
              "      <th>AssignedRoomType</th>\n",
              "      <th>BookingChanges</th>\n",
              "      <th>DepositType</th>\n",
              "      <th>Agent</th>\n",
              "      <th>Company</th>\n",
              "      <th>DaysInWaitingList</th>\n",
              "      <th>CustomerType</th>\n",
              "      <th>ADR</th>\n",
              "      <th>RequiredCarParkingSpaces</th>\n",
              "      <th>TotalOfSpecialRequests</th>\n",
              "      <th>ReservationStatus</th>\n",
              "      <th>ReservationStatusDate</th>\n",
              "      <th>Hotel</th>\n",
              "      <th>ArrivalDateMonthNum</th>\n",
              "      <th>ArrivalDateYearMonth</th>\n",
              "    </tr>\n",
              "  </thead>\n",
              "  <tbody>\n",
              "    <tr>\n",
              "      <th>48515</th>\n",
              "      <td>1</td>\n",
              "      <td>35</td>\n",
              "      <td>2016</td>\n",
              "      <td>March</td>\n",
              "      <td>13</td>\n",
              "      <td>25</td>\n",
              "      <td>0</td>\n",
              "      <td>1</td>\n",
              "      <td>2</td>\n",
              "      <td>0.0</td>\n",
              "      <td>0</td>\n",
              "      <td>BB</td>\n",
              "      <td>PRT</td>\n",
              "      <td>Offline TA/TO</td>\n",
              "      <td>TA/TO</td>\n",
              "      <td>0</td>\n",
              "      <td>0</td>\n",
              "      <td>0</td>\n",
              "      <td>A</td>\n",
              "      <td>A</td>\n",
              "      <td>1</td>\n",
              "      <td>Non Refund</td>\n",
              "      <td>12</td>\n",
              "      <td>NULL</td>\n",
              "      <td>0</td>\n",
              "      <td>Transient</td>\n",
              "      <td>5400.0</td>\n",
              "      <td>0</td>\n",
              "      <td>0</td>\n",
              "      <td>Canceled</td>\n",
              "      <td>2016-02-19</td>\n",
              "      <td>Urban</td>\n",
              "      <td>03</td>\n",
              "      <td>2016-03</td>\n",
              "    </tr>\n",
              "  </tbody>\n",
              "</table>\n",
              "</div>"
            ],
            "text/plain": [
              "       IsCanceled  LeadTime  ...  ArrivalDateMonthNum ArrivalDateYearMonth\n",
              "48515           1        35  ...                   03              2016-03\n",
              "\n",
              "[1 rows x 34 columns]"
            ]
          },
          "metadata": {
            "tags": []
          },
          "execution_count": 51
        }
      ]
    },
    {
      "cell_type": "markdown",
      "metadata": {
        "id": "622dI-riFDfK",
        "colab_type": "text"
      },
      "source": [
        "Found booking with ADR **negative**. Sign reversed in preprocesing"
      ]
    },
    {
      "cell_type": "code",
      "metadata": {
        "id": "YXipKvozEgVT",
        "colab_type": "code",
        "outputId": "c5f8ee6a-9569-45ea-b6ff-1398313becab",
        "colab": {
          "base_uri": "https://localhost:8080/",
          "height": 53
        }
      },
      "source": [
        "index=df_analysis[df_analysis.ADR<0].index\n",
        "df_analysis.ADR.loc[index]"
      ],
      "execution_count": 0,
      "outputs": [
        {
          "output_type": "execute_result",
          "data": {
            "text/plain": [
              "14969   -6.38\n",
              "Name: ADR, dtype: float64"
            ]
          },
          "metadata": {
            "tags": []
          },
          "execution_count": 87
        }
      ]
    },
    {
      "cell_type": "markdown",
      "metadata": {
        "id": "_FBq88k_wnEH",
        "colab_type": "text"
      },
      "source": [
        "**Lead time**"
      ]
    },
    {
      "cell_type": "code",
      "metadata": {
        "id": "WGTbVt_Yx2lx",
        "colab_type": "code",
        "outputId": "9ab46d1b-1bb8-4c53-ed6f-935672e63f11",
        "colab": {
          "base_uri": "https://localhost:8080/",
          "height": 383
        }
      },
      "source": [
        "sns.catplot(x=\"IsCanceled\", y=\"LeadTime\", kind=\"box\", data=df_analysis)"
      ],
      "execution_count": 0,
      "outputs": [
        {
          "output_type": "execute_result",
          "data": {
            "text/plain": [
              "<seaborn.axisgrid.FacetGrid at 0x7f7727aecd68>"
            ]
          },
          "metadata": {
            "tags": []
          },
          "execution_count": 8
        },
        {
          "output_type": "display_data",
          "data": {
            "image/png": "[encoded data removed]",
            "text/plain": [
              "<Figure size 360x360 with 1 Axes>"
            ]
          },
          "metadata": {
            "tags": []
          }
        }
      ]
    },
    {
      "cell_type": "markdown",
      "metadata": {
        "id": "DNfVi3cLYyRt",
        "colab_type": "text"
      },
      "source": [
        "Lead time is diferent for canceled and not canceled bookings"
      ]
    },
    {
      "cell_type": "markdown",
      "metadata": {
        "id": "b7LCfPXU21Ld",
        "colab_type": "text"
      },
      "source": [
        "**Booking changes**"
      ]
    },
    {
      "cell_type": "code",
      "metadata": {
        "id": "EqUhCNit23Xv",
        "colab_type": "code",
        "outputId": "5b5f61e6-fa86-4e4b-c693-7c423ae13f34",
        "colab": {
          "base_uri": "https://localhost:8080/",
          "height": 303
        }
      },
      "source": [
        "sns.boxenplot(x=\"IsCanceled\", y=\"BookingChanges\", scale=\"linear\", data=df_analysis)"
      ],
      "execution_count": 0,
      "outputs": [
        {
          "output_type": "execute_result",
          "data": {
            "text/plain": [
              "<matplotlib.axes._subplots.AxesSubplot at 0x7fe2b843e5c0>"
            ]
          },
          "metadata": {
            "tags": []
          },
          "execution_count": 254
        },
        {
          "output_type": "display_data",
          "data": {
            "image/png": "[encoded data removed]",
            "text/plain": [
              "<Figure size 432x288 with 1 Axes>"
            ]
          },
          "metadata": {
            "tags": []
          }
        }
      ]
    },
    {
      "cell_type": "markdown",
      "metadata": {
        "id": "ABa876beO2kq",
        "colab_type": "text"
      },
      "source": [
        "**Reservation Status**"
      ]
    },
    {
      "cell_type": "code",
      "metadata": {
        "id": "OBvofvZSO8Up",
        "colab_type": "code",
        "outputId": "caadc603-f93c-4308-9783-07ff807dccb8",
        "colab": {
          "base_uri": "https://localhost:8080/",
          "height": 90
        }
      },
      "source": [
        "df_analysis.ReservationStatus.value_counts()"
      ],
      "execution_count": 0,
      "outputs": [
        {
          "output_type": "execute_result",
          "data": {
            "text/plain": [
              "Check-Out    75166\n",
              "Canceled     43017\n",
              "No-Show       1207\n",
              "Name: ReservationStatus, dtype: int64"
            ]
          },
          "metadata": {
            "tags": []
          },
          "execution_count": 124
        }
      ]
    },
    {
      "cell_type": "markdown",
      "metadata": {
        "id": "jQphSd1ZPEKi",
        "colab_type": "text"
      },
      "source": [
        "Reservation Status is fixed after booking is closed (will be deleted in preprocessing)"
      ]
    },
    {
      "cell_type": "markdown",
      "metadata": {
        "id": "ppVf1rIEyScz",
        "colab_type": "text"
      },
      "source": [
        "### Preprocessing\n",
        "\n",
        "This section includes manipulation, data cleaning and functions used in next sections"
      ]
    },
    {
      "cell_type": "code",
      "metadata": {
        "id": "1JUOMiiayWHT",
        "colab_type": "code",
        "outputId": "e64b7179-f8ea-4708-b539-6e6811e73b5d",
        "colab": {
          "base_uri": "https://localhost:8080/",
          "height": 108
        }
      },
      "source": [
        "#Libraries\n",
        "import numpy as np\n",
        "from sklearn.linear_model import LogisticRegression\n",
        "from sklearn import model_selection\n",
        "from sklearn import metrics\n",
        "from sklearn import preprocessing\n",
        "from sklearn.model_selection import train_test_split\n",
        "from sklearn.metrics import confusion_matrix\n",
        "from sklearn.model_selection import cross_val_score\n",
        "#from sklearn.pipeline import make_pipeline\n",
        "from sklearn.pipeline import Pipeline\n",
        "from sklearn.model_selection import GridSearchCV\n",
        "import time\n",
        "\n",
        "import warnings\n",
        "warnings.filterwarnings(\"ignore\")\n",
        "\n",
        "#Preprocessing\n",
        "df_data=df_raw.copy()\n",
        "\n",
        "# NAN\n",
        "df_data.isnull().any() # nan found in Country & Children\n",
        "\n",
        "# the value of the country is unreliable\n",
        "# country is deleted\n",
        "df_data.drop(columns = 'Country', inplace = True)\n",
        "\n",
        "# nan in Children are replaced by 0\n",
        "df_data.Children.replace(np.nan, 0,inplace = True)\n",
        "\n",
        "# Month converted to numeric\n",
        "df_data['ArrivalDateMonthNum']=df_data.ArrivalDateMonth.replace({ 'January' : 1, 'February' : 2, 'March' : 3, 'April' :4, 'May': 5, 'June' : 6, 'July':7, 'August' : 8, 'September' : 9, 'October' : 10, 'November': 11, 'December' : 12 })\n",
        "df_data.drop(columns='ArrivalDateMonth',inplace=True)\n",
        "\n",
        "# Deleting last booking change\n",
        "df_data.drop(columns = 'ReservationStatusDate', inplace = True)\n",
        "\n",
        "#Deleting Reservation Status\n",
        "df_data.drop(columns = ['ReservationStatus'], inplace = True)\n",
        "\n",
        "#ADR negative\n",
        "index=df_data[df_data.ADR<0].index\n",
        "df_data.ADR.loc[index]=df_data.ADR.loc[index]*-1\n",
        "\n",
        "# ADR deleting outliers  >= 5000\n",
        "df_data=df_data[df_data['ADR'] < 5000]\n",
        "\n",
        "# Agent\n",
        "#9\n",
        "df_data[\"Agent_9\"] = [1 if x == \"          9\" else 0 for x in df_data[\"Agent\"]]\n",
        "#null\n",
        "df_data[\"Agent_null\"] = [1 if x == \"       NULL\" else 0 for x in df_data[\"Agent\"]]\n",
        "#240\n",
        "df_data[\"Agent_240\"] = [1 if x == \"        240\" else 0 for x in df_data[\"Agent\"]]\n",
        "\n",
        "df_data.drop(columns = 'Agent', inplace = True)\n",
        "\n",
        "# Company\n",
        "# Company null = 1, if Company is NULL \n",
        "df_data[\"Company_null\"] = [1 if x == \"       NULL\" else 0 for x in df_data[\"Company\"]]\n",
        "\n",
        "df_data.drop(columns = 'Company', inplace = True)\n",
        "\n",
        "# AssignedRoomType is fixed when the customer arrives to hotel (blank for cancelated bookings) \n",
        "df_data.drop(columns = 'AssignedRoomType', inplace = True)\n",
        "\n",
        "# Time execution mesure\n",
        "\n",
        "def tic():\n",
        "  global _start_time \n",
        "  _start_time = time.time()\n",
        "\n",
        "def tac():\n",
        "  t_sec = round(time.time() - _start_time)\n",
        "  (t_min, t_sec) = divmod(t_sec,60)\n",
        "  (t_hour,t_min) = divmod(t_min,60) \n",
        "  time_elapsed=print('Time elapsed: {}hour:{}min:{}sec'.format(t_hour,t_min,t_sec))\n",
        "\n",
        "# Metrics function\n",
        "\n",
        "def clf_metrics(X,y,model):\n",
        "  y_pred = pd.Series(model.predict(X))\n",
        "  y_prob= model.predict_proba(X) \n",
        "    \n",
        "  # Accuracy  \n",
        "  print('Accuracy =',str(metrics.accuracy_score(y,y_pred)))\n",
        "        \n",
        "  # AUC\n",
        "  fpr, tpr, threshold = metrics.roc_curve(y, y_prob[:,1])\n",
        "  roc_auc = metrics.auc(fpr, tpr)\n",
        "  print('AUC = %0.2f' % roc_auc)\n",
        "        \n",
        "  # Logloss\n",
        "  Logloss = metrics.log_loss(y, y_prob[:,1])\n",
        "  print('LogLoss = %0.2f' % Logloss)\n",
        "\n",
        "  # F1-score\n",
        "  F1_score = metrics.f1_score(y, y_pred)\n",
        "  print('F1_score = %0.2f' % F1_score)\n",
        "\n",
        "  # Mathews correlation      \n",
        "  matthews_corr = metrics.matthews_corrcoef(y, y_pred)\n",
        "  print('Matthews_corr = %0.2f' % matthews_corr)\n",
        "  return y_pred,y_prob\n",
        "\n",
        "#New dataframes\n",
        "X=[]\n",
        "y=[]\n",
        "Z=[]\n",
        "\n",
        "X=df_data.loc[:, df_data.columns != 'IsCanceled'] #Features\n",
        "y=df_data['IsCanceled'] #Outcome\n",
        "Z=df_data.copy() #all data\n",
        "\n",
        "#dummification\n",
        "\n",
        "X=pd.get_dummies(X,drop_first=True)\n",
        "\n",
        "#Spliting train, test\n",
        "\n",
        "X_train, X_test, y_train, y_test = train_test_split(X, y, test_size=0.10, random_state=42)\n",
        "y_train= y_train.to_numpy().ravel()"
      ],
      "execution_count": 45,
      "outputs": [
        {
          "output_type": "stream",
          "text": [
            "/usr/local/lib/python3.6/dist-packages/pandas/core/indexing.py:671: SettingWithCopyWarning: \n",
            "A value is trying to be set on a copy of a slice from a DataFrame\n",
            "\n",
            "See the caveats in the documentation: https://pandas.pydata.org/pandas-docs/stable/user_guide/indexing.html#returning-a-view-versus-a-copy\n",
            "  self._setitem_with_indexer(indexer, value)\n"
          ],
          "name": "stderr"
        }
      ]
    },
    {
      "cell_type": "markdown",
      "metadata": {
        "id": "OK8GDGMeFL2K",
        "colab_type": "text"
      },
      "source": [
        "### Logistic Regresion\n",
        "\n",
        "Logistic regresion analyzes a set of data points with one or more independent variables (input variables, which may affect the outcome) and finds the best fitting model to describe the data points, using the logistic regression equation: \n",
        "\n",
        "![imagen.png](data:image/png;base64,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)"
      ]
    },
    {
      "cell_type": "code",
      "metadata": {
        "id": "JCE3gEX3KsZn",
        "colab_type": "code",
        "outputId": "d404759a-60dd-4b11-891b-a3f9d56c4205",
        "colab": {
          "base_uri": "https://localhost:8080/",
          "height": 617
        }
      },
      "source": [
        "# Logistic regresion using pipeline with SantandarScaler & Stratified crossValidation\n",
        "# scoring AUC\n",
        "print('Logistic regresion pipeline')\n",
        "\n",
        "def f_pipe_CV_logreg(X,Y):\n",
        "  tic() #time mesure\n",
        "  seed = 15\n",
        "  scoring='roc_auc'\n",
        "  sscaler = preprocessing.StandardScaler()\n",
        "  log_reg = LogisticRegression(random_state=seed, solver='lbfgs', max_iter=1000)\n",
        "  kfold = model_selection.StratifiedKFold(n_splits=3, random_state=seed, shuffle=True)\n",
        "  \n",
        "  #pipe_logreg = make_pipeline('sscaler',sscaler,'log_reg',log_reg)\n",
        "  pipe_logreg = Pipeline([\n",
        "    ('sscaler',sscaler),\n",
        "    ('clf',log_reg)])\n",
        "  \n",
        "  results_pipe_logreg = cross_val_score(pipe_logreg, X_train, y_train, cv=kfold, scoring=scoring)\n",
        "  \n",
        "  model_pipe_logreg=pipe_logreg.fit(X_train,y_train)\n",
        "  tac()\n",
        "  return model_pipe_logreg,results_pipe_logreg\n",
        "\n",
        "model_pipe_logreg, results_pipe_logreg = f_pipe_CV_logreg(X_train,y_train)\n",
        "\n",
        "# print metrics\n",
        "\n",
        "print('\\n***** TRAIN *****')\n",
        "print('Cross validation AUC:%.4f' % results_pipe_logreg.mean(),'( +- %.4f' %results_pipe_logreg.std(),')')\n",
        "y_pred_train,y_prob_train=clf_metrics(X_train,y_train,model_pipe_logreg)\n",
        "        \n",
        "print('\\n***** TEST *****')\n",
        "y_pred_test,y_prob_test=clf_metrics(X_test,y_test,model_pipe_logreg)\n",
        "    \n",
        "print('\\n***** ALL DATA *****')\n",
        "y_pred_all,y_prob_all=clf_metrics(X,y,model_pipe_logreg)\n",
        "\n",
        "print('\\n Confusion matrix')\n",
        "pd.crosstab(y_pred_all, y, rownames=['Actual'], colnames=['Predicted'])\n",
        "  "
      ],
      "execution_count": 19,
      "outputs": [
        {
          "output_type": "stream",
          "text": [
            "Logistic regresion pipeline\n",
            "Time elapsed: 0hour:0min:23sec\n",
            "\n",
            "***** TRAIN *****\n",
            "Cross validation AUC:0.8712 ( +- 0.0023 )\n",
            "Accuracy = 0.819004187994416\n",
            "AUC = 0.87\n",
            "LogLoss = 0.41\n",
            "F1_score = 0.72\n",
            "Matthews_corr = 0.60\n",
            "\n",
            "***** TEST *****\n",
            "Accuracy = 0.8215930982494346\n",
            "AUC = 0.88\n",
            "LogLoss = 0.41\n",
            "F1_score = 0.73\n",
            "Matthews_corr = 0.61\n",
            "\n",
            "***** ALL DATA *****\n",
            "Accuracy = 0.8192630811883842\n",
            "AUC = 0.87\n",
            "LogLoss = 0.41\n",
            "F1_score = 0.73\n",
            "Matthews_corr = 0.60\n",
            "\n",
            " Confusion matrix\n"
          ],
          "name": "stdout"
        },
        {
          "output_type": "execute_result",
          "data": {
            "text/html": [
              "<div>\n",
              "<style scoped>\n",
              "    .dataframe tbody tr th:only-of-type {\n",
              "        vertical-align: middle;\n",
              "    }\n",
              "\n",
              "    .dataframe tbody tr th {\n",
              "        vertical-align: top;\n",
              "    }\n",
              "\n",
              "    .dataframe thead th {\n",
              "        text-align: right;\n",
              "    }\n",
              "</style>\n",
              "<table border=\"1\" class=\"dataframe\">\n",
              "  <thead>\n",
              "    <tr style=\"text-align: right;\">\n",
              "      <th>Predicted</th>\n",
              "      <th>0</th>\n",
              "      <th>1</th>\n",
              "    </tr>\n",
              "    <tr>\n",
              "      <th>Actual</th>\n",
              "      <th></th>\n",
              "      <th></th>\n",
              "    </tr>\n",
              "  </thead>\n",
              "  <tbody>\n",
              "    <tr>\n",
              "      <th>0</th>\n",
              "      <td>68845</td>\n",
              "      <td>16168</td>\n",
              "    </tr>\n",
              "    <tr>\n",
              "      <th>1</th>\n",
              "      <td>6320</td>\n",
              "      <td>28055</td>\n",
              "    </tr>\n",
              "  </tbody>\n",
              "</table>\n",
              "</div>"
            ],
            "text/plain": [
              "Predicted      0      1\n",
              "Actual                 \n",
              "0          68845  16168\n",
              "1           6320  28055"
            ]
          },
          "metadata": {
            "tags": []
          },
          "execution_count": 19
        }
      ]
    },
    {
      "cell_type": "markdown",
      "metadata": {
        "id": "iZ4NMmdfrZPs",
        "colab_type": "text"
      },
      "source": [
        "### SVM (Support vector machine)"
      ]
    },
    {
      "cell_type": "code",
      "metadata": {
        "id": "kaZY7ELAGoeb",
        "colab_type": "code",
        "colab": {}
      },
      "source": [
        "from sklearn.svm import SVC\n",
        "from sklearn.model_selection import GridSearchCV\n",
        "\n",
        "def f_SVM_pipe_Gridsearch(X,Y):\n",
        "  tic() #time mesure\n",
        "  seed = 15\n",
        "  scoring='roc_auc'\n",
        "  sscaler = preprocessing.StandardScaler()\n",
        "  SVC = SVC()\n",
        "  kfold = model_selection.StratifiedKFold(n_splits=3, random_state=seed, shuffle=True)\n",
        "  #parameters = {'kernels': ['linear', 'rbf', 'poly']}\n",
        "  parameters = {'kernels': ['linear']}\n",
        "  pipe_SVC = Pipeline([ ('sscaler',sscaler), ('SVC',SVC)])\n",
        "  \n",
        "  #results_SVC_GridCV = cross_val_score(pipe_SVC, X_train, y_train, cv=kfold, scoring=scoring)\n",
        "  SVC_GridCV = GridSearchCV(pipe_SVC, parameters, cv=2, n_jobs=1, scoring=scoring)\n",
        "  model_SVC_GridCV = SVC_GridCV.fit(X_train,y_train)\n",
        "\n",
        "  tac()\n",
        "  return model_SVC_GridCV,results_SVC_GridCV\n",
        "\n",
        "  model_SVC_GridCV,results_SVC_GridCV = f_SVM_pipe_Gridsearch(X_train,y_train)"
      ],
      "execution_count": 0,
      "outputs": []
    },
    {
      "cell_type": "code",
      "metadata": {
        "id": "LCA-2AzmeuoJ",
        "colab_type": "code",
        "colab": {}
      },
      "source": [
        "from sklearn import svm\n",
        "from sklearn.model_selection import GridSearchCV\n",
        "\n",
        "tic() #time mesure\n",
        "seed = 15\n",
        "scoring='roc_auc'\n",
        "sscaler = preprocessing.StandardScaler()\n",
        "SVM = svm.SVC()\n",
        "kfold = model_selection.StratifiedKFold(n_splits=3, random_state=seed, shuffle=True)\n",
        "\n",
        "#parameters = {'kernels': ['linear']}\n",
        "# Specify the hyperparameter space\n",
        "    # Specify the hyperparameter space\n",
        "parameters = {}\n",
        "\n",
        "\n",
        "pipe_SVC = Pipeline([ ('sscaler',sscaler), ('SVC',SVM)])\n",
        "  \n",
        "#results_SVC_GridCV = cross_val_score(pipe_SVC, X_train, y_train, cv=kfold, scoring=scoring)\n",
        "#SVC_GridCV = GridSearchCV(pipe_SVC, parameters, cv=2, n_jobs=1, scoring=scoring)\n",
        "SVC_GridCV = GridSearchCV(pipe_SVC, parameters, cv=2, scoring=scoring)\n",
        "model_SVC_GridCV = SVC_GridCV.fit(X_train,y_train)\n",
        "\n",
        "SVM.get_params().keys()"
      ],
      "execution_count": 0,
      "outputs": []
    },
    {
      "cell_type": "code",
      "metadata": {
        "id": "jP4zmpdm5gik",
        "colab_type": "code",
        "colab": {}
      },
      "source": [
        "from sklearn import svm\n",
        "clf = svm.SVC()\n",
        "clf.fit(X, y)"
      ],
      "execution_count": 0,
      "outputs": []
    },
    {
      "cell_type": "code",
      "metadata": {
        "id": "dEuNY_MZ7L-N",
        "colab_type": "code",
        "colab": {
          "base_uri": "https://localhost:8080/",
          "height": 299
        },
        "outputId": "6153fafe-dd22-4c5e-a3e8-2847031efe9f"
      },
      "source": [
        "from sklearn import svm\n",
        "X.ax[:51,'LeadTime']\n",
        "x_prueba=X['LeadTime'].to_numpy()\n",
        "x_prueba=x_prueba.reshape(-1, 1)\n",
        "sscaler = preprocessing.StandardScaler().fit(x_prueba)\n",
        "X_ss = sscaler.transform(x_prueba)\n",
        "clf = svm.SVC()\n",
        "clf.fit(x_prueba, y)\n"
      ],
      "execution_count": 7,
      "outputs": [
        {
          "output_type": "error",
          "ename": "AttributeError",
          "evalue": "ignored",
          "traceback": [
            "\u001b[0;31m---------------------------------------------------------------------------\u001b[0m",
            "\u001b[0;31mAttributeError\u001b[0m                            Traceback (most recent call last)",
            "\u001b[0;32m<ipython-input-7-cdb1145c591a>\u001b[0m in \u001b[0;36m<module>\u001b[0;34m()\u001b[0m\n\u001b[0;32m----> 1\u001b[0;31m \u001b[0mX\u001b[0m\u001b[0;34m.\u001b[0m\u001b[0max\u001b[0m\u001b[0;34m[\u001b[0m\u001b[0;34m:\u001b[0m\u001b[0;36m51\u001b[0m\u001b[0;34m,\u001b[0m\u001b[0;34m'LeadTime'\u001b[0m\u001b[0;34m]\u001b[0m\u001b[0;34m\u001b[0m\u001b[0;34m\u001b[0m\u001b[0m\n\u001b[0m",
            "\u001b[0;32m/usr/local/lib/python3.6/dist-packages/pandas/core/generic.py\u001b[0m in \u001b[0;36m__getattr__\u001b[0;34m(self, name)\u001b[0m\n\u001b[1;32m   5272\u001b[0m             \u001b[0;32mif\u001b[0m \u001b[0mself\u001b[0m\u001b[0;34m.\u001b[0m\u001b[0m_info_axis\u001b[0m\u001b[0;34m.\u001b[0m\u001b[0m_can_hold_identifiers_and_holds_name\u001b[0m\u001b[0;34m(\u001b[0m\u001b[0mname\u001b[0m\u001b[0;34m)\u001b[0m\u001b[0;34m:\u001b[0m\u001b[0;34m\u001b[0m\u001b[0;34m\u001b[0m\u001b[0m\n\u001b[1;32m   5273\u001b[0m                 \u001b[0;32mreturn\u001b[0m \u001b[0mself\u001b[0m\u001b[0;34m[\u001b[0m\u001b[0mname\u001b[0m\u001b[0;34m]\u001b[0m\u001b[0;34m\u001b[0m\u001b[0;34m\u001b[0m\u001b[0m\n\u001b[0;32m-> 5274\u001b[0;31m             \u001b[0;32mreturn\u001b[0m \u001b[0mobject\u001b[0m\u001b[0;34m.\u001b[0m\u001b[0m__getattribute__\u001b[0m\u001b[0;34m(\u001b[0m\u001b[0mself\u001b[0m\u001b[0;34m,\u001b[0m \u001b[0mname\u001b[0m\u001b[0;34m)\u001b[0m\u001b[0;34m\u001b[0m\u001b[0;34m\u001b[0m\u001b[0m\n\u001b[0m\u001b[1;32m   5275\u001b[0m \u001b[0;34m\u001b[0m\u001b[0m\n\u001b[1;32m   5276\u001b[0m     \u001b[0;32mdef\u001b[0m \u001b[0m__setattr__\u001b[0m\u001b[0;34m(\u001b[0m\u001b[0mself\u001b[0m\u001b[0;34m,\u001b[0m \u001b[0mname\u001b[0m\u001b[0;34m:\u001b[0m \u001b[0mstr\u001b[0m\u001b[0;34m,\u001b[0m \u001b[0mvalue\u001b[0m\u001b[0;34m)\u001b[0m \u001b[0;34m->\u001b[0m \u001b[0;32mNone\u001b[0m\u001b[0;34m:\u001b[0m\u001b[0;34m\u001b[0m\u001b[0;34m\u001b[0m\u001b[0m\n",
            "\u001b[0;31mAttributeError\u001b[0m: 'DataFrame' object has no attribute 'ax'"
          ]
        }
      ]
    },
    {
      "cell_type": "markdown",
      "metadata": {
        "id": "CAYXJvdPetPr",
        "colab_type": "text"
      },
      "source": [
        "### XGboost\n",
        "\n",
        "XGBoost is a popular and efficient open-source implementation of the gradient boosted trees algorithm. Gradient boosting is a supervised learning algorithm, which attempts to accurately predict a target variable by combining the estimates of a set of simpler, weaker models. \n",
        "\n",
        "In boosting, the trees are built sequentially such that each subsequent tree aims to reduce the errors of the previous tree. Each tree learns from its predecessors and updates the residual errors. Hence, the tree that grows next in the sequence will learn from an updated version of the residuals."
      ]
    },
    {
      "cell_type": "code",
      "metadata": {
        "id": "t7qUyRrSeyzS",
        "colab_type": "code",
        "outputId": "31117061-e72c-401c-bb77-5b965d16dd27",
        "colab": {
          "base_uri": "https://localhost:8080/",
          "height": 653
        }
      },
      "source": [
        "### Function\n",
        "import xgboost as xgb\n",
        "from xgboost import XGBClassifier\n",
        "### XG Boosting with stratified CV and GridSearch\n",
        "\n",
        "def XGBC_Boss(X,Y,params):\n",
        "    \n",
        "  tic()\n",
        "  \n",
        "  # Splitting train and test\n",
        "  \n",
        "  X_train, X_test, y_train, y_test = train_test_split(X, Y, test_size=0.10, random_state=42)   \n",
        "  y_train= y_train.to_numpy().ravel()   #convert to (n,) array\n",
        "  y_test = y_test.to_numpy().ravel()    \n",
        "    \n",
        "  # Model\n",
        "    \n",
        "  xgbmodel=XGBClassifier()\n",
        "     \n",
        "  print('Fitting...')\n",
        "    \n",
        "  scoring = ['roc_auc']\n",
        "  refit='roc_auc'\n",
        "\n",
        "  kfold = model_selection.StratifiedShuffleSplit(n_splits=3, random_state=15)\n",
        "  grid_solver = GridSearchCV(estimator = xgbmodel, # model to train\n",
        "                     param_grid = params, # param_grid\n",
        "                     scoring = scoring,\n",
        "                     cv = kfold,\n",
        "                     n_jobs=3, \n",
        "                     refit = refit,\n",
        "                     verbose = 2)\n",
        "    \n",
        "  model_result_xgboost = grid_solver.fit(X_train,y_train)\n",
        "    \n",
        " # print('Best parameters: ',model_result_xgboost.best_estimator_)\n",
        "\n",
        "  # return predictions\n",
        "  Y_pred = pd.Series(model_result_xgboost.predict(X_train))\n",
        "  Y_prob= model_result_xgboost.predict_proba(X_train)\n",
        "    \n",
        "  tac() # time elapsed\n",
        "      \n",
        "  return Y_pred,Y_prob,model_result_xgboost\n",
        "\n",
        "# parameters\n",
        "\n",
        "params={'base_score': [0.8], \n",
        "         'booster': ['gbtree'],\n",
        "         'colsample_bylevel': [1], \n",
        "         'colsample_bytree': [0.8], \n",
        "         'gamma': [0.01],\n",
        "         'learning_rate': [0.01], \n",
        "         'max_depth': [6],\n",
        "         'min_child_weight': [1],\n",
        "         'missing': [None],\n",
        "         'n_estimators': [400],\n",
        "         'n_jobs': [-1], \n",
        "         'objective': ['binary:logistic'],\n",
        "         'random_state': [15], \n",
        "         'reg_alpha': [0.01], \n",
        "         'reg_lambda': [0.01],\n",
        "         'scale_pos_weight': [1],\n",
        "         'subsample': [0.9]}  \n",
        "\n",
        "Y_pred,Y_prob,model_result_xgboost=XGBC_Boss(X,y,params)\n",
        "\n",
        "# print metrics\n",
        "\n",
        "print('\\n***** TRAIN *****')\n",
        "y_pred_train,y_prob_train=clf_metrics(X_train,y_train,model_result_xgboost)\n",
        "        \n",
        "print('\\n***** TEST *****')\n",
        "y_pred_test,y_prob_test=clf_metrics(X_test,y_test,model_result_xgboost)\n",
        "    \n",
        "print('\\n***** ALL DATA *****')\n",
        "y_pred_all,y_prob_all=clf_metrics(X,y,model_result_xgboost)\n",
        "\n",
        "print('\\n Confusion matrix')\n",
        "pd.crosstab(y_pred_all, y, rownames=['Actual'], colnames=['Predicted'])"
      ],
      "execution_count": 39,
      "outputs": [
        {
          "output_type": "stream",
          "text": [
            "Fitting...\n",
            "Fitting 3 folds for each of 1 candidates, totalling 3 fits\n"
          ],
          "name": "stdout"
        },
        {
          "output_type": "stream",
          "text": [
            "[Parallel(n_jobs=3)]: Using backend LokyBackend with 3 concurrent workers.\n",
            "[Parallel(n_jobs=3)]: Done   3 out of   3 | elapsed:  4.2min finished\n"
          ],
          "name": "stderr"
        },
        {
          "output_type": "stream",
          "text": [
            "Time elapsed: 0hour:5min:51sec\n",
            "\n",
            "***** TRAIN *****\n",
            "Accuracy = 0.8279106561191252\n",
            "AUC = 0.90\n",
            "LogLoss = 0.38\n",
            "F1_score = 0.73\n",
            "Matthews_corr = 0.63\n",
            "\n",
            "***** TEST *****\n",
            "Accuracy = 0.8258648127983919\n",
            "AUC = 0.90\n",
            "LogLoss = 0.38\n",
            "F1_score = 0.73\n",
            "Matthews_corr = 0.63\n",
            "\n",
            "***** ALL DATA *****\n",
            "Accuracy = 0.8277060700734573\n",
            "AUC = 0.90\n",
            "LogLoss = 0.38\n",
            "F1_score = 0.73\n",
            "Matthews_corr = 0.63\n",
            "\n",
            " Confusion matrix\n"
          ],
          "name": "stdout"
        },
        {
          "output_type": "execute_result",
          "data": {
            "text/html": [
              "<div>\n",
              "<style scoped>\n",
              "    .dataframe tbody tr th:only-of-type {\n",
              "        vertical-align: middle;\n",
              "    }\n",
              "\n",
              "    .dataframe tbody tr th {\n",
              "        vertical-align: top;\n",
              "    }\n",
              "\n",
              "    .dataframe thead th {\n",
              "        text-align: right;\n",
              "    }\n",
              "</style>\n",
              "<table border=\"1\" class=\"dataframe\">\n",
              "  <thead>\n",
              "    <tr style=\"text-align: right;\">\n",
              "      <th>Predicted</th>\n",
              "      <th>0</th>\n",
              "      <th>1</th>\n",
              "    </tr>\n",
              "    <tr>\n",
              "      <th>Actual</th>\n",
              "      <th></th>\n",
              "      <th></th>\n",
              "    </tr>\n",
              "  </thead>\n",
              "  <tbody>\n",
              "    <tr>\n",
              "      <th>0</th>\n",
              "      <td>70742</td>\n",
              "      <td>17135</td>\n",
              "    </tr>\n",
              "    <tr>\n",
              "      <th>1</th>\n",
              "      <td>4423</td>\n",
              "      <td>27088</td>\n",
              "    </tr>\n",
              "  </tbody>\n",
              "</table>\n",
              "</div>"
            ],
            "text/plain": [
              "Predicted      0      1\n",
              "Actual                 \n",
              "0          70742  17135\n",
              "1           4423  27088"
            ]
          },
          "metadata": {
            "tags": []
          },
          "execution_count": 39
        }
      ]
    },
    {
      "cell_type": "markdown",
      "metadata": {
        "id": "GFZvH3r5-VCD",
        "colab_type": "text"
      },
      "source": [
        "Features used in the model"
      ]
    },
    {
      "cell_type": "code",
      "metadata": {
        "id": "Zy5YAEWH9Xgt",
        "colab_type": "code",
        "outputId": "63452818-f785-48fe-f914-43b6491078e2",
        "colab": {
          "base_uri": "https://localhost:8080/",
          "height": 531
        }
      },
      "source": [
        "#xgbm=model_result_xgboost.best_estimator_\n",
        "\n",
        "# Plot importance\n",
        "fig, ax = plt.subplots(figsize=(12, 8))\n",
        "xgb.plot_importance(model_result_xgboost.best_estimator_,ax=ax)"
      ],
      "execution_count": 42,
      "outputs": [
        {
          "output_type": "execute_result",
          "data": {
            "text/plain": [
              "<matplotlib.axes._subplots.AxesSubplot at 0x7f7dbe5fc978>"
            ]
          },
          "metadata": {
            "tags": []
          },
          "execution_count": 42
        },
        {
          "output_type": "display_data",
          "data": {
            "image/png": "[encoded data removed]",
            "text/plain": [
              "<Figure size 864x576 with 1 Axes>"
            ]
          },
          "metadata": {
            "tags": [],
            "needs_background": "light"
          }
        }
      ]
    },
    {
      "cell_type": "markdown",
      "metadata": {
        "id": "UeOLRS26tSKw",
        "colab_type": "text"
      },
      "source": [
        "### LightGBM"
      ]
    },
    {
      "cell_type": "code",
      "metadata": {
        "id": "x8eJZk-Ormlk",
        "colab_type": "code",
        "outputId": "8fcdc1cc-94a2-44c3-a7cf-74f8b166455c",
        "colab": {
          "base_uri": "https://localhost:8080/",
          "height": 1000
        }
      },
      "source": [
        "### Function\n",
        "from sklearn.model_selection import StratifiedKFold\n",
        "import lightgbm as lgb\n",
        "from sklearn.model_selection import GridSearchCV\n",
        "from sklearn.model_selection import KFold\n",
        "\n",
        "### LightGBM using stratified cross validation and GridSearch\n",
        "\n",
        "def light_LGBM(X,y,param_grid):\n",
        "  tic()\n",
        "  seed=15\n",
        "  indexes_of_categories=[]\n",
        "    \n",
        "  lbl = preprocessing.LabelEncoder()\n",
        "    \n",
        "  for i in range(X.shape[1]):\n",
        "      if X.dtypes[i]=='object':\n",
        "          indexes_of_categories.append(i)\n",
        "          lbl.fit(X.iloc[:,i])\n",
        "          X.iloc[:,i]=lbl.transform(X.iloc[:,i])\n",
        "        \n",
        "  # Splitting\n",
        "           \n",
        "  #X_train, X_test, y_train, y_test = train_test_split(X, y, test_size=0.10, random_state=42)    \n",
        "  #y_train= y_train.to_numpy().ravel()   #convert to (n,) array\n",
        "  #y_test = y_test.to_numpy().ravel()         \n",
        "          \n",
        "  gkf = StratifiedKFold(n_splits=5, shuffle=True, random_state=42).split(X=X, y=y)\n",
        "     \n",
        "  lgb_estimator = lgb.LGBMClassifier(boosting_type='gbdt',  objective='binary') \n",
        "\n",
        "  print('Fitting...')\n",
        "    \n",
        "  scoring = ['roc_auc']\n",
        "  refit='roc_auc'\n",
        "     \n",
        "  gsearch = GridSearchCV(estimator=lgb_estimator, \n",
        "                         param_grid=param_grid, \n",
        "                         cv=gkf,scoring=scoring,\n",
        "                         refit=refit,\n",
        "                         verbose = 2)\n",
        "    \n",
        "  lgb_model = gsearch.fit(X=X_train, y=y_train)\n",
        "    \n",
        "  print('Results ********** ')\n",
        "      \n",
        "  print('Best parameters:',str(lgb_model.best_params_))\n",
        "   \n",
        "  print('********** TRAIN ********** ')\n",
        "  clf_metrics(X_train,y_train,lgb_model)\n",
        "        \n",
        "  print('********** TEST ********** ')\n",
        "  clf_metrics(X_test,y_test,lgb_model)\n",
        "    \n",
        "  print('********** ALL DATA ********** ')\n",
        "  y_pred,y_prob=clf_metrics(X,y,lgb_model)\n",
        "     \n",
        "  tac()\n",
        "    \n",
        "  return y_pred,y_prob,lgb_model\n",
        "\n",
        "\n",
        "param_grid = {\n",
        "'num_leaves': [31],\n",
        "'learning_rate':[0.1],\n",
        "'min_data_in_leaf': [30],\n",
        "'lambda_l1': [0],\n",
        "'lambda_l2': [0],\n",
        "'max_depth': [3],\n",
        "}  \n",
        "\n",
        "y_pred,y_prob = light_LGBM(X,y,param_grid)\n",
        "\n",
        "# print metrics\n",
        "\n",
        "print('\\n***** TRAIN *****')\n",
        "y_pred_train,y_prob_train=clf_metrics(X_train,y_train,lgb_model)\n",
        "        \n",
        "print('\\n***** TEST *****')\n",
        "y_pred_test,y_prob_test=clf_metrics(X_test,y_test,lgb_model)\n",
        "    \n",
        "print('\\n***** ALL DATA *****')\n",
        "y_pred_all,y_prob_all=clf_metrics(X,y,lgb_model)\n",
        "\n",
        "print('\\n Confusion matrix')\n",
        "pd.crosstab(y_pred_all, y, rownames=['Actual'], colnames=['Predicted'])"
      ],
      "execution_count": 68,
      "outputs": [
        {
          "output_type": "stream",
          "text": [
            "Fitting...\n",
            "Fitting 5 folds for each of 1 candidates, totalling 5 fits\n",
            "[CV] lambda_l1=0, lambda_l2=0, learning_rate=0.1, max_depth=3, min_data_in_leaf=30, num_leaves=31 \n"
          ],
          "name": "stdout"
        },
        {
          "output_type": "stream",
          "text": [
            "[Parallel(n_jobs=1)]: Using backend SequentialBackend with 1 concurrent workers.\n"
          ],
          "name": "stderr"
        },
        {
          "output_type": "error",
          "ename": "IndexError",
          "evalue": "ignored",
          "traceback": [
            "\u001b[0;31m---------------------------------------------------------------------------\u001b[0m",
            "\u001b[0;31mIndexError\u001b[0m                                Traceback (most recent call last)",
            "\u001b[0;32m/usr/local/lib/python3.6/dist-packages/pandas/core/indexing.py\u001b[0m in \u001b[0;36m_get_list_axis\u001b[0;34m(self, key, axis)\u001b[0m\n\u001b[1;32m   2110\u001b[0m         \u001b[0;32mtry\u001b[0m\u001b[0;34m:\u001b[0m\u001b[0;34m\u001b[0m\u001b[0;34m\u001b[0m\u001b[0m\n\u001b[0;32m-> 2111\u001b[0;31m             \u001b[0;32mreturn\u001b[0m \u001b[0mself\u001b[0m\u001b[0;34m.\u001b[0m\u001b[0mobj\u001b[0m\u001b[0;34m.\u001b[0m\u001b[0m_take_with_is_copy\u001b[0m\u001b[0;34m(\u001b[0m\u001b[0mkey\u001b[0m\u001b[0;34m,\u001b[0m \u001b[0maxis\u001b[0m\u001b[0;34m=\u001b[0m\u001b[0maxis\u001b[0m\u001b[0;34m)\u001b[0m\u001b[0;34m\u001b[0m\u001b[0;34m\u001b[0m\u001b[0m\n\u001b[0m\u001b[1;32m   2112\u001b[0m         \u001b[0;32mexcept\u001b[0m \u001b[0mIndexError\u001b[0m\u001b[0;34m:\u001b[0m\u001b[0;34m\u001b[0m\u001b[0;34m\u001b[0m\u001b[0m\n",
            "\u001b[0;32m/usr/local/lib/python3.6/dist-packages/pandas/core/generic.py\u001b[0m in \u001b[0;36m_take_with_is_copy\u001b[0;34m(self, indices, axis, **kwargs)\u001b[0m\n\u001b[1;32m   3408\u001b[0m         \"\"\"\n\u001b[0;32m-> 3409\u001b[0;31m         \u001b[0mresult\u001b[0m \u001b[0;34m=\u001b[0m \u001b[0mself\u001b[0m\u001b[0;34m.\u001b[0m\u001b[0mtake\u001b[0m\u001b[0;34m(\u001b[0m\u001b[0mindices\u001b[0m\u001b[0;34m=\u001b[0m\u001b[0mindices\u001b[0m\u001b[0;34m,\u001b[0m \u001b[0maxis\u001b[0m\u001b[0;34m=\u001b[0m\u001b[0maxis\u001b[0m\u001b[0;34m,\u001b[0m \u001b[0;34m**\u001b[0m\u001b[0mkwargs\u001b[0m\u001b[0;34m)\u001b[0m\u001b[0;34m\u001b[0m\u001b[0;34m\u001b[0m\u001b[0m\n\u001b[0m\u001b[1;32m   3410\u001b[0m         \u001b[0;31m# Maybe set copy if we didn't actually change the index.\u001b[0m\u001b[0;34m\u001b[0m\u001b[0;34m\u001b[0m\u001b[0;34m\u001b[0m\u001b[0m\n",
            "\u001b[0;32m/usr/local/lib/python3.6/dist-packages/pandas/core/generic.py\u001b[0m in \u001b[0;36mtake\u001b[0;34m(self, indices, axis, is_copy, **kwargs)\u001b[0m\n\u001b[1;32m   3394\u001b[0m         new_data = self._data.take(\n\u001b[0;32m-> 3395\u001b[0;31m             \u001b[0mindices\u001b[0m\u001b[0;34m,\u001b[0m \u001b[0maxis\u001b[0m\u001b[0;34m=\u001b[0m\u001b[0mself\u001b[0m\u001b[0;34m.\u001b[0m\u001b[0m_get_block_manager_axis\u001b[0m\u001b[0;34m(\u001b[0m\u001b[0maxis\u001b[0m\u001b[0;34m)\u001b[0m\u001b[0;34m,\u001b[0m \u001b[0mverify\u001b[0m\u001b[0;34m=\u001b[0m\u001b[0;32mTrue\u001b[0m\u001b[0;34m\u001b[0m\u001b[0;34m\u001b[0m\u001b[0m\n\u001b[0m\u001b[1;32m   3396\u001b[0m         )\n",
            "\u001b[0;32m/usr/local/lib/python3.6/dist-packages/pandas/core/internals/managers.py\u001b[0m in \u001b[0;36mtake\u001b[0;34m(self, indexer, axis, verify, convert)\u001b[0m\n\u001b[1;32m   1385\u001b[0m         \u001b[0;32mif\u001b[0m \u001b[0mconvert\u001b[0m\u001b[0;34m:\u001b[0m\u001b[0;34m\u001b[0m\u001b[0;34m\u001b[0m\u001b[0m\n\u001b[0;32m-> 1386\u001b[0;31m             \u001b[0mindexer\u001b[0m \u001b[0;34m=\u001b[0m \u001b[0mmaybe_convert_indices\u001b[0m\u001b[0;34m(\u001b[0m\u001b[0mindexer\u001b[0m\u001b[0;34m,\u001b[0m \u001b[0mn\u001b[0m\u001b[0;34m)\u001b[0m\u001b[0;34m\u001b[0m\u001b[0;34m\u001b[0m\u001b[0m\n\u001b[0m\u001b[1;32m   1387\u001b[0m \u001b[0;34m\u001b[0m\u001b[0m\n",
            "\u001b[0;32m/usr/local/lib/python3.6/dist-packages/pandas/core/indexers.py\u001b[0m in \u001b[0;36mmaybe_convert_indices\u001b[0;34m(indices, n)\u001b[0m\n\u001b[1;32m    212\u001b[0m     \u001b[0;32mif\u001b[0m \u001b[0mmask\u001b[0m\u001b[0;34m.\u001b[0m\u001b[0many\u001b[0m\u001b[0;34m(\u001b[0m\u001b[0;34m)\u001b[0m\u001b[0;34m:\u001b[0m\u001b[0;34m\u001b[0m\u001b[0;34m\u001b[0m\u001b[0m\n\u001b[0;32m--> 213\u001b[0;31m         \u001b[0;32mraise\u001b[0m \u001b[0mIndexError\u001b[0m\u001b[0;34m(\u001b[0m\u001b[0;34m\"indices are out-of-bounds\"\u001b[0m\u001b[0;34m)\u001b[0m\u001b[0;34m\u001b[0m\u001b[0;34m\u001b[0m\u001b[0m\n\u001b[0m\u001b[1;32m    214\u001b[0m     \u001b[0;32mreturn\u001b[0m \u001b[0mindices\u001b[0m\u001b[0;34m\u001b[0m\u001b[0;34m\u001b[0m\u001b[0m\n",
            "\u001b[0;31mIndexError\u001b[0m: indices are out-of-bounds",
            "\nDuring handling of the above exception, another exception occurred:\n",
            "\u001b[0;31mIndexError\u001b[0m                                Traceback (most recent call last)",
            "\u001b[0;32m<ipython-input-68-80b2d378e4f4>\u001b[0m in \u001b[0;36m<module>\u001b[0;34m()\u001b[0m\n\u001b[1;32m     70\u001b[0m }  \n\u001b[1;32m     71\u001b[0m \u001b[0;34m\u001b[0m\u001b[0m\n\u001b[0;32m---> 72\u001b[0;31m \u001b[0my_pred\u001b[0m\u001b[0;34m,\u001b[0m\u001b[0my_prob\u001b[0m \u001b[0;34m=\u001b[0m \u001b[0mlight_LGBM\u001b[0m\u001b[0;34m(\u001b[0m\u001b[0mX\u001b[0m\u001b[0;34m,\u001b[0m\u001b[0my\u001b[0m\u001b[0;34m,\u001b[0m\u001b[0mparam_grid\u001b[0m\u001b[0;34m)\u001b[0m\u001b[0;34m\u001b[0m\u001b[0;34m\u001b[0m\u001b[0m\n\u001b[0m\u001b[1;32m     73\u001b[0m \u001b[0;34m\u001b[0m\u001b[0m\n\u001b[1;32m     74\u001b[0m \u001b[0;31m# print metrics\u001b[0m\u001b[0;34m\u001b[0m\u001b[0;34m\u001b[0m\u001b[0;34m\u001b[0m\u001b[0m\n",
            "\u001b[0;32m<ipython-input-68-80b2d378e4f4>\u001b[0m in \u001b[0;36mlight_LGBM\u001b[0;34m(X, y, param_grid)\u001b[0m\n\u001b[1;32m     41\u001b[0m                          verbose = 2)\n\u001b[1;32m     42\u001b[0m \u001b[0;34m\u001b[0m\u001b[0m\n\u001b[0;32m---> 43\u001b[0;31m   \u001b[0mlgb_model\u001b[0m \u001b[0;34m=\u001b[0m \u001b[0mgsearch\u001b[0m\u001b[0;34m.\u001b[0m\u001b[0mfit\u001b[0m\u001b[0;34m(\u001b[0m\u001b[0mX\u001b[0m\u001b[0;34m=\u001b[0m\u001b[0mX_train\u001b[0m\u001b[0;34m,\u001b[0m \u001b[0my\u001b[0m\u001b[0;34m=\u001b[0m\u001b[0my_train\u001b[0m\u001b[0;34m)\u001b[0m\u001b[0;34m\u001b[0m\u001b[0;34m\u001b[0m\u001b[0m\n\u001b[0m\u001b[1;32m     44\u001b[0m \u001b[0;34m\u001b[0m\u001b[0m\n\u001b[1;32m     45\u001b[0m   \u001b[0mprint\u001b[0m\u001b[0;34m(\u001b[0m\u001b[0;34m'Results ********** '\u001b[0m\u001b[0;34m)\u001b[0m\u001b[0;34m\u001b[0m\u001b[0;34m\u001b[0m\u001b[0m\n",
            "\u001b[0;32m/usr/local/lib/python3.6/dist-packages/sklearn/model_selection/_search.py\u001b[0m in \u001b[0;36mfit\u001b[0;34m(self, X, y, groups, **fit_params)\u001b[0m\n\u001b[1;32m    708\u001b[0m                 \u001b[0;32mreturn\u001b[0m \u001b[0mresults\u001b[0m\u001b[0;34m\u001b[0m\u001b[0;34m\u001b[0m\u001b[0m\n\u001b[1;32m    709\u001b[0m \u001b[0;34m\u001b[0m\u001b[0m\n\u001b[0;32m--> 710\u001b[0;31m             \u001b[0mself\u001b[0m\u001b[0;34m.\u001b[0m\u001b[0m_run_search\u001b[0m\u001b[0;34m(\u001b[0m\u001b[0mevaluate_candidates\u001b[0m\u001b[0;34m)\u001b[0m\u001b[0;34m\u001b[0m\u001b[0;34m\u001b[0m\u001b[0m\n\u001b[0m\u001b[1;32m    711\u001b[0m \u001b[0;34m\u001b[0m\u001b[0m\n\u001b[1;32m    712\u001b[0m         \u001b[0;31m# For multi-metric evaluation, store the best_index_, best_params_ and\u001b[0m\u001b[0;34m\u001b[0m\u001b[0;34m\u001b[0m\u001b[0;34m\u001b[0m\u001b[0m\n",
            "\u001b[0;32m/usr/local/lib/python3.6/dist-packages/sklearn/model_selection/_search.py\u001b[0m in \u001b[0;36m_run_search\u001b[0;34m(self, evaluate_candidates)\u001b[0m\n\u001b[1;32m   1149\u001b[0m     \u001b[0;32mdef\u001b[0m \u001b[0m_run_search\u001b[0m\u001b[0;34m(\u001b[0m\u001b[0mself\u001b[0m\u001b[0;34m,\u001b[0m \u001b[0mevaluate_candidates\u001b[0m\u001b[0;34m)\u001b[0m\u001b[0;34m:\u001b[0m\u001b[0;34m\u001b[0m\u001b[0;34m\u001b[0m\u001b[0m\n\u001b[1;32m   1150\u001b[0m         \u001b[0;34m\"\"\"Search all candidates in param_grid\"\"\"\u001b[0m\u001b[0;34m\u001b[0m\u001b[0;34m\u001b[0m\u001b[0m\n\u001b[0;32m-> 1151\u001b[0;31m         \u001b[0mevaluate_candidates\u001b[0m\u001b[0;34m(\u001b[0m\u001b[0mParameterGrid\u001b[0m\u001b[0;34m(\u001b[0m\u001b[0mself\u001b[0m\u001b[0;34m.\u001b[0m\u001b[0mparam_grid\u001b[0m\u001b[0;34m)\u001b[0m\u001b[0;34m)\u001b[0m\u001b[0;34m\u001b[0m\u001b[0;34m\u001b[0m\u001b[0m\n\u001b[0m\u001b[1;32m   1152\u001b[0m \u001b[0;34m\u001b[0m\u001b[0m\n\u001b[1;32m   1153\u001b[0m \u001b[0;34m\u001b[0m\u001b[0m\n",
            "\u001b[0;32m/usr/local/lib/python3.6/dist-packages/sklearn/model_selection/_search.py\u001b[0m in \u001b[0;36mevaluate_candidates\u001b[0;34m(candidate_params)\u001b[0m\n\u001b[1;32m    687\u001b[0m                                \u001b[0;32mfor\u001b[0m \u001b[0mparameters\u001b[0m\u001b[0;34m,\u001b[0m \u001b[0;34m(\u001b[0m\u001b[0mtrain\u001b[0m\u001b[0;34m,\u001b[0m \u001b[0mtest\u001b[0m\u001b[0;34m)\u001b[0m\u001b[0;34m\u001b[0m\u001b[0;34m\u001b[0m\u001b[0m\n\u001b[1;32m    688\u001b[0m                                in product(candidate_params,\n\u001b[0;32m--> 689\u001b[0;31m                                           cv.split(X, y, groups)))\n\u001b[0m\u001b[1;32m    690\u001b[0m \u001b[0;34m\u001b[0m\u001b[0m\n\u001b[1;32m    691\u001b[0m                 \u001b[0;32mif\u001b[0m \u001b[0mlen\u001b[0m\u001b[0;34m(\u001b[0m\u001b[0mout\u001b[0m\u001b[0;34m)\u001b[0m \u001b[0;34m<\u001b[0m \u001b[0;36m1\u001b[0m\u001b[0;34m:\u001b[0m\u001b[0;34m\u001b[0m\u001b[0;34m\u001b[0m\u001b[0m\n",
            "\u001b[0;32m/usr/local/lib/python3.6/dist-packages/joblib/parallel.py\u001b[0m in \u001b[0;36m__call__\u001b[0;34m(self, iterable)\u001b[0m\n\u001b[1;32m   1027\u001b[0m             \u001b[0;31m# remaining jobs.\u001b[0m\u001b[0;34m\u001b[0m\u001b[0;34m\u001b[0m\u001b[0;34m\u001b[0m\u001b[0m\n\u001b[1;32m   1028\u001b[0m             \u001b[0mself\u001b[0m\u001b[0;34m.\u001b[0m\u001b[0m_iterating\u001b[0m \u001b[0;34m=\u001b[0m \u001b[0;32mFalse\u001b[0m\u001b[0;34m\u001b[0m\u001b[0;34m\u001b[0m\u001b[0m\n\u001b[0;32m-> 1029\u001b[0;31m             \u001b[0;32mif\u001b[0m \u001b[0mself\u001b[0m\u001b[0;34m.\u001b[0m\u001b[0mdispatch_one_batch\u001b[0m\u001b[0;34m(\u001b[0m\u001b[0miterator\u001b[0m\u001b[0;34m)\u001b[0m\u001b[0;34m:\u001b[0m\u001b[0;34m\u001b[0m\u001b[0;34m\u001b[0m\u001b[0m\n\u001b[0m\u001b[1;32m   1030\u001b[0m                 \u001b[0mself\u001b[0m\u001b[0;34m.\u001b[0m\u001b[0m_iterating\u001b[0m \u001b[0;34m=\u001b[0m \u001b[0mself\u001b[0m\u001b[0;34m.\u001b[0m\u001b[0m_original_iterator\u001b[0m \u001b[0;32mis\u001b[0m \u001b[0;32mnot\u001b[0m \u001b[0;32mNone\u001b[0m\u001b[0;34m\u001b[0m\u001b[0;34m\u001b[0m\u001b[0m\n\u001b[1;32m   1031\u001b[0m \u001b[0;34m\u001b[0m\u001b[0m\n",
            "\u001b[0;32m/usr/local/lib/python3.6/dist-packages/joblib/parallel.py\u001b[0m in \u001b[0;36mdispatch_one_batch\u001b[0;34m(self, iterator)\u001b[0m\n\u001b[1;32m    845\u001b[0m                 \u001b[0;32mreturn\u001b[0m \u001b[0;32mFalse\u001b[0m\u001b[0;34m\u001b[0m\u001b[0;34m\u001b[0m\u001b[0m\n\u001b[1;32m    846\u001b[0m             \u001b[0;32melse\u001b[0m\u001b[0;34m:\u001b[0m\u001b[0;34m\u001b[0m\u001b[0;34m\u001b[0m\u001b[0m\n\u001b[0;32m--> 847\u001b[0;31m                 \u001b[0mself\u001b[0m\u001b[0;34m.\u001b[0m\u001b[0m_dispatch\u001b[0m\u001b[0;34m(\u001b[0m\u001b[0mtasks\u001b[0m\u001b[0;34m)\u001b[0m\u001b[0;34m\u001b[0m\u001b[0;34m\u001b[0m\u001b[0m\n\u001b[0m\u001b[1;32m    848\u001b[0m                 \u001b[0;32mreturn\u001b[0m \u001b[0;32mTrue\u001b[0m\u001b[0;34m\u001b[0m\u001b[0;34m\u001b[0m\u001b[0m\n\u001b[1;32m    849\u001b[0m \u001b[0;34m\u001b[0m\u001b[0m\n",
            "\u001b[0;32m/usr/local/lib/python3.6/dist-packages/joblib/parallel.py\u001b[0m in \u001b[0;36m_dispatch\u001b[0;34m(self, batch)\u001b[0m\n\u001b[1;32m    763\u001b[0m         \u001b[0;32mwith\u001b[0m \u001b[0mself\u001b[0m\u001b[0;34m.\u001b[0m\u001b[0m_lock\u001b[0m\u001b[0;34m:\u001b[0m\u001b[0;34m\u001b[0m\u001b[0;34m\u001b[0m\u001b[0m\n\u001b[1;32m    764\u001b[0m             \u001b[0mjob_idx\u001b[0m \u001b[0;34m=\u001b[0m \u001b[0mlen\u001b[0m\u001b[0;34m(\u001b[0m\u001b[0mself\u001b[0m\u001b[0;34m.\u001b[0m\u001b[0m_jobs\u001b[0m\u001b[0;34m)\u001b[0m\u001b[0;34m\u001b[0m\u001b[0;34m\u001b[0m\u001b[0m\n\u001b[0;32m--> 765\u001b[0;31m             \u001b[0mjob\u001b[0m \u001b[0;34m=\u001b[0m \u001b[0mself\u001b[0m\u001b[0;34m.\u001b[0m\u001b[0m_backend\u001b[0m\u001b[0;34m.\u001b[0m\u001b[0mapply_async\u001b[0m\u001b[0;34m(\u001b[0m\u001b[0mbatch\u001b[0m\u001b[0;34m,\u001b[0m \u001b[0mcallback\u001b[0m\u001b[0;34m=\u001b[0m\u001b[0mcb\u001b[0m\u001b[0;34m)\u001b[0m\u001b[0;34m\u001b[0m\u001b[0;34m\u001b[0m\u001b[0m\n\u001b[0m\u001b[1;32m    766\u001b[0m             \u001b[0;31m# A job can complete so quickly than its callback is\u001b[0m\u001b[0;34m\u001b[0m\u001b[0;34m\u001b[0m\u001b[0;34m\u001b[0m\u001b[0m\n\u001b[1;32m    767\u001b[0m             \u001b[0;31m# called before we get here, causing self._jobs to\u001b[0m\u001b[0;34m\u001b[0m\u001b[0;34m\u001b[0m\u001b[0;34m\u001b[0m\u001b[0m\n",
            "\u001b[0;32m/usr/local/lib/python3.6/dist-packages/joblib/_parallel_backends.py\u001b[0m in \u001b[0;36mapply_async\u001b[0;34m(self, func, callback)\u001b[0m\n\u001b[1;32m    204\u001b[0m     \u001b[0;32mdef\u001b[0m \u001b[0mapply_async\u001b[0m\u001b[0;34m(\u001b[0m\u001b[0mself\u001b[0m\u001b[0;34m,\u001b[0m \u001b[0mfunc\u001b[0m\u001b[0;34m,\u001b[0m \u001b[0mcallback\u001b[0m\u001b[0;34m=\u001b[0m\u001b[0;32mNone\u001b[0m\u001b[0;34m)\u001b[0m\u001b[0;34m:\u001b[0m\u001b[0;34m\u001b[0m\u001b[0;34m\u001b[0m\u001b[0m\n\u001b[1;32m    205\u001b[0m         \u001b[0;34m\"\"\"Schedule a func to be run\"\"\"\u001b[0m\u001b[0;34m\u001b[0m\u001b[0;34m\u001b[0m\u001b[0m\n\u001b[0;32m--> 206\u001b[0;31m         \u001b[0mresult\u001b[0m \u001b[0;34m=\u001b[0m \u001b[0mImmediateResult\u001b[0m\u001b[0;34m(\u001b[0m\u001b[0mfunc\u001b[0m\u001b[0;34m)\u001b[0m\u001b[0;34m\u001b[0m\u001b[0;34m\u001b[0m\u001b[0m\n\u001b[0m\u001b[1;32m    207\u001b[0m         \u001b[0;32mif\u001b[0m \u001b[0mcallback\u001b[0m\u001b[0;34m:\u001b[0m\u001b[0;34m\u001b[0m\u001b[0;34m\u001b[0m\u001b[0m\n\u001b[1;32m    208\u001b[0m             \u001b[0mcallback\u001b[0m\u001b[0;34m(\u001b[0m\u001b[0mresult\u001b[0m\u001b[0;34m)\u001b[0m\u001b[0;34m\u001b[0m\u001b[0;34m\u001b[0m\u001b[0m\n",
            "\u001b[0;32m/usr/local/lib/python3.6/dist-packages/joblib/_parallel_backends.py\u001b[0m in \u001b[0;36m__init__\u001b[0;34m(self, batch)\u001b[0m\n\u001b[1;32m    568\u001b[0m         \u001b[0;31m# Don't delay the application, to avoid keeping the input\u001b[0m\u001b[0;34m\u001b[0m\u001b[0;34m\u001b[0m\u001b[0;34m\u001b[0m\u001b[0m\n\u001b[1;32m    569\u001b[0m         \u001b[0;31m# arguments in memory\u001b[0m\u001b[0;34m\u001b[0m\u001b[0;34m\u001b[0m\u001b[0;34m\u001b[0m\u001b[0m\n\u001b[0;32m--> 570\u001b[0;31m         \u001b[0mself\u001b[0m\u001b[0;34m.\u001b[0m\u001b[0mresults\u001b[0m \u001b[0;34m=\u001b[0m \u001b[0mbatch\u001b[0m\u001b[0;34m(\u001b[0m\u001b[0;34m)\u001b[0m\u001b[0;34m\u001b[0m\u001b[0;34m\u001b[0m\u001b[0m\n\u001b[0m\u001b[1;32m    571\u001b[0m \u001b[0;34m\u001b[0m\u001b[0m\n\u001b[1;32m    572\u001b[0m     \u001b[0;32mdef\u001b[0m \u001b[0mget\u001b[0m\u001b[0;34m(\u001b[0m\u001b[0mself\u001b[0m\u001b[0;34m)\u001b[0m\u001b[0;34m:\u001b[0m\u001b[0;34m\u001b[0m\u001b[0;34m\u001b[0m\u001b[0m\n",
            "\u001b[0;32m/usr/local/lib/python3.6/dist-packages/joblib/parallel.py\u001b[0m in \u001b[0;36m__call__\u001b[0;34m(self)\u001b[0m\n\u001b[1;32m    251\u001b[0m         \u001b[0;32mwith\u001b[0m \u001b[0mparallel_backend\u001b[0m\u001b[0;34m(\u001b[0m\u001b[0mself\u001b[0m\u001b[0;34m.\u001b[0m\u001b[0m_backend\u001b[0m\u001b[0;34m,\u001b[0m \u001b[0mn_jobs\u001b[0m\u001b[0;34m=\u001b[0m\u001b[0mself\u001b[0m\u001b[0;34m.\u001b[0m\u001b[0m_n_jobs\u001b[0m\u001b[0;34m)\u001b[0m\u001b[0;34m:\u001b[0m\u001b[0;34m\u001b[0m\u001b[0;34m\u001b[0m\u001b[0m\n\u001b[1;32m    252\u001b[0m             return [func(*args, **kwargs)\n\u001b[0;32m--> 253\u001b[0;31m                     for func, args, kwargs in self.items]\n\u001b[0m\u001b[1;32m    254\u001b[0m \u001b[0;34m\u001b[0m\u001b[0m\n\u001b[1;32m    255\u001b[0m     \u001b[0;32mdef\u001b[0m \u001b[0m__reduce__\u001b[0m\u001b[0;34m(\u001b[0m\u001b[0mself\u001b[0m\u001b[0;34m)\u001b[0m\u001b[0;34m:\u001b[0m\u001b[0;34m\u001b[0m\u001b[0;34m\u001b[0m\u001b[0m\n",
            "\u001b[0;32m/usr/local/lib/python3.6/dist-packages/joblib/parallel.py\u001b[0m in \u001b[0;36m<listcomp>\u001b[0;34m(.0)\u001b[0m\n\u001b[1;32m    251\u001b[0m         \u001b[0;32mwith\u001b[0m \u001b[0mparallel_backend\u001b[0m\u001b[0;34m(\u001b[0m\u001b[0mself\u001b[0m\u001b[0;34m.\u001b[0m\u001b[0m_backend\u001b[0m\u001b[0;34m,\u001b[0m \u001b[0mn_jobs\u001b[0m\u001b[0;34m=\u001b[0m\u001b[0mself\u001b[0m\u001b[0;34m.\u001b[0m\u001b[0m_n_jobs\u001b[0m\u001b[0;34m)\u001b[0m\u001b[0;34m:\u001b[0m\u001b[0;34m\u001b[0m\u001b[0;34m\u001b[0m\u001b[0m\n\u001b[1;32m    252\u001b[0m             return [func(*args, **kwargs)\n\u001b[0;32m--> 253\u001b[0;31m                     for func, args, kwargs in self.items]\n\u001b[0m\u001b[1;32m    254\u001b[0m \u001b[0;34m\u001b[0m\u001b[0m\n\u001b[1;32m    255\u001b[0m     \u001b[0;32mdef\u001b[0m \u001b[0m__reduce__\u001b[0m\u001b[0;34m(\u001b[0m\u001b[0mself\u001b[0m\u001b[0;34m)\u001b[0m\u001b[0;34m:\u001b[0m\u001b[0;34m\u001b[0m\u001b[0;34m\u001b[0m\u001b[0m\n",
            "\u001b[0;32m/usr/local/lib/python3.6/dist-packages/sklearn/model_selection/_validation.py\u001b[0m in \u001b[0;36m_fit_and_score\u001b[0;34m(estimator, X, y, scorer, train, test, verbose, parameters, fit_params, return_train_score, return_parameters, return_n_test_samples, return_times, return_estimator, error_score)\u001b[0m\n\u001b[1;32m    506\u001b[0m     \u001b[0mstart_time\u001b[0m \u001b[0;34m=\u001b[0m \u001b[0mtime\u001b[0m\u001b[0;34m.\u001b[0m\u001b[0mtime\u001b[0m\u001b[0;34m(\u001b[0m\u001b[0;34m)\u001b[0m\u001b[0;34m\u001b[0m\u001b[0;34m\u001b[0m\u001b[0m\n\u001b[1;32m    507\u001b[0m \u001b[0;34m\u001b[0m\u001b[0m\n\u001b[0;32m--> 508\u001b[0;31m     \u001b[0mX_train\u001b[0m\u001b[0;34m,\u001b[0m \u001b[0my_train\u001b[0m \u001b[0;34m=\u001b[0m \u001b[0m_safe_split\u001b[0m\u001b[0;34m(\u001b[0m\u001b[0mestimator\u001b[0m\u001b[0;34m,\u001b[0m \u001b[0mX\u001b[0m\u001b[0;34m,\u001b[0m \u001b[0my\u001b[0m\u001b[0;34m,\u001b[0m \u001b[0mtrain\u001b[0m\u001b[0;34m)\u001b[0m\u001b[0;34m\u001b[0m\u001b[0;34m\u001b[0m\u001b[0m\n\u001b[0m\u001b[1;32m    509\u001b[0m     \u001b[0mX_test\u001b[0m\u001b[0;34m,\u001b[0m \u001b[0my_test\u001b[0m \u001b[0;34m=\u001b[0m \u001b[0m_safe_split\u001b[0m\u001b[0;34m(\u001b[0m\u001b[0mestimator\u001b[0m\u001b[0;34m,\u001b[0m \u001b[0mX\u001b[0m\u001b[0;34m,\u001b[0m \u001b[0my\u001b[0m\u001b[0;34m,\u001b[0m \u001b[0mtest\u001b[0m\u001b[0;34m,\u001b[0m \u001b[0mtrain\u001b[0m\u001b[0;34m)\u001b[0m\u001b[0;34m\u001b[0m\u001b[0;34m\u001b[0m\u001b[0m\n\u001b[1;32m    510\u001b[0m \u001b[0;34m\u001b[0m\u001b[0m\n",
            "\u001b[0;32m/usr/local/lib/python3.6/dist-packages/sklearn/utils/metaestimators.py\u001b[0m in \u001b[0;36m_safe_split\u001b[0;34m(estimator, X, y, indices, train_indices)\u001b[0m\n\u001b[1;32m    199\u001b[0m             \u001b[0mX_subset\u001b[0m \u001b[0;34m=\u001b[0m \u001b[0mX\u001b[0m\u001b[0;34m[\u001b[0m\u001b[0mnp\u001b[0m\u001b[0;34m.\u001b[0m\u001b[0mix_\u001b[0m\u001b[0;34m(\u001b[0m\u001b[0mindices\u001b[0m\u001b[0;34m,\u001b[0m \u001b[0mtrain_indices\u001b[0m\u001b[0;34m)\u001b[0m\u001b[0;34m]\u001b[0m\u001b[0;34m\u001b[0m\u001b[0;34m\u001b[0m\u001b[0m\n\u001b[1;32m    200\u001b[0m     \u001b[0;32melse\u001b[0m\u001b[0;34m:\u001b[0m\u001b[0;34m\u001b[0m\u001b[0;34m\u001b[0m\u001b[0m\n\u001b[0;32m--> 201\u001b[0;31m         \u001b[0mX_subset\u001b[0m \u001b[0;34m=\u001b[0m \u001b[0m_safe_indexing\u001b[0m\u001b[0;34m(\u001b[0m\u001b[0mX\u001b[0m\u001b[0;34m,\u001b[0m \u001b[0mindices\u001b[0m\u001b[0;34m)\u001b[0m\u001b[0;34m\u001b[0m\u001b[0;34m\u001b[0m\u001b[0m\n\u001b[0m\u001b[1;32m    202\u001b[0m \u001b[0;34m\u001b[0m\u001b[0m\n\u001b[1;32m    203\u001b[0m     \u001b[0;32mif\u001b[0m \u001b[0my\u001b[0m \u001b[0;32mis\u001b[0m \u001b[0;32mnot\u001b[0m \u001b[0;32mNone\u001b[0m\u001b[0;34m:\u001b[0m\u001b[0;34m\u001b[0m\u001b[0;34m\u001b[0m\u001b[0m\n",
            "\u001b[0;32m/usr/local/lib/python3.6/dist-packages/sklearn/utils/__init__.py\u001b[0m in \u001b[0;36m_safe_indexing\u001b[0;34m(X, indices, axis)\u001b[0m\n\u001b[1;32m    409\u001b[0m \u001b[0;34m\u001b[0m\u001b[0m\n\u001b[1;32m    410\u001b[0m     \u001b[0;32mif\u001b[0m \u001b[0mhasattr\u001b[0m\u001b[0;34m(\u001b[0m\u001b[0mX\u001b[0m\u001b[0;34m,\u001b[0m \u001b[0;34m\"iloc\"\u001b[0m\u001b[0;34m)\u001b[0m\u001b[0;34m:\u001b[0m\u001b[0;34m\u001b[0m\u001b[0;34m\u001b[0m\u001b[0m\n\u001b[0;32m--> 411\u001b[0;31m         \u001b[0;32mreturn\u001b[0m \u001b[0m_pandas_indexing\u001b[0m\u001b[0;34m(\u001b[0m\u001b[0mX\u001b[0m\u001b[0;34m,\u001b[0m \u001b[0mindices\u001b[0m\u001b[0;34m,\u001b[0m \u001b[0mindices_dtype\u001b[0m\u001b[0;34m,\u001b[0m \u001b[0maxis\u001b[0m\u001b[0;34m=\u001b[0m\u001b[0maxis\u001b[0m\u001b[0;34m)\u001b[0m\u001b[0;34m\u001b[0m\u001b[0;34m\u001b[0m\u001b[0m\n\u001b[0m\u001b[1;32m    412\u001b[0m     \u001b[0;32melif\u001b[0m \u001b[0mhasattr\u001b[0m\u001b[0;34m(\u001b[0m\u001b[0mX\u001b[0m\u001b[0;34m,\u001b[0m \u001b[0;34m\"shape\"\u001b[0m\u001b[0;34m)\u001b[0m\u001b[0;34m:\u001b[0m\u001b[0;34m\u001b[0m\u001b[0;34m\u001b[0m\u001b[0m\n\u001b[1;32m    413\u001b[0m         \u001b[0;32mreturn\u001b[0m \u001b[0m_array_indexing\u001b[0m\u001b[0;34m(\u001b[0m\u001b[0mX\u001b[0m\u001b[0;34m,\u001b[0m \u001b[0mindices\u001b[0m\u001b[0;34m,\u001b[0m \u001b[0mindices_dtype\u001b[0m\u001b[0;34m,\u001b[0m \u001b[0maxis\u001b[0m\u001b[0;34m=\u001b[0m\u001b[0maxis\u001b[0m\u001b[0;34m)\u001b[0m\u001b[0;34m\u001b[0m\u001b[0;34m\u001b[0m\u001b[0m\n",
            "\u001b[0;32m/usr/local/lib/python3.6/dist-packages/sklearn/utils/__init__.py\u001b[0m in \u001b[0;36m_pandas_indexing\u001b[0;34m(X, key, key_dtype, axis)\u001b[0m\n\u001b[1;32m    211\u001b[0m     \u001b[0;31m# check whether we should index with loc or iloc\u001b[0m\u001b[0;34m\u001b[0m\u001b[0;34m\u001b[0m\u001b[0;34m\u001b[0m\u001b[0m\n\u001b[1;32m    212\u001b[0m     \u001b[0mindexer\u001b[0m \u001b[0;34m=\u001b[0m \u001b[0mX\u001b[0m\u001b[0;34m.\u001b[0m\u001b[0miloc\u001b[0m \u001b[0;32mif\u001b[0m \u001b[0mkey_dtype\u001b[0m \u001b[0;34m==\u001b[0m \u001b[0;34m'int'\u001b[0m \u001b[0;32melse\u001b[0m \u001b[0mX\u001b[0m\u001b[0;34m.\u001b[0m\u001b[0mloc\u001b[0m\u001b[0;34m\u001b[0m\u001b[0;34m\u001b[0m\u001b[0m\n\u001b[0;32m--> 213\u001b[0;31m     \u001b[0;32mreturn\u001b[0m \u001b[0mindexer\u001b[0m\u001b[0;34m[\u001b[0m\u001b[0;34m:\u001b[0m\u001b[0;34m,\u001b[0m \u001b[0mkey\u001b[0m\u001b[0;34m]\u001b[0m \u001b[0;32mif\u001b[0m \u001b[0maxis\u001b[0m \u001b[0;32melse\u001b[0m \u001b[0mindexer\u001b[0m\u001b[0;34m[\u001b[0m\u001b[0mkey\u001b[0m\u001b[0;34m]\u001b[0m\u001b[0;34m\u001b[0m\u001b[0;34m\u001b[0m\u001b[0m\n\u001b[0m\u001b[1;32m    214\u001b[0m \u001b[0;34m\u001b[0m\u001b[0m\n\u001b[1;32m    215\u001b[0m \u001b[0;34m\u001b[0m\u001b[0m\n",
            "\u001b[0;32m/usr/local/lib/python3.6/dist-packages/pandas/core/indexing.py\u001b[0m in \u001b[0;36m__getitem__\u001b[0;34m(self, key)\u001b[0m\n\u001b[1;32m   1766\u001b[0m \u001b[0;34m\u001b[0m\u001b[0m\n\u001b[1;32m   1767\u001b[0m             \u001b[0mmaybe_callable\u001b[0m \u001b[0;34m=\u001b[0m \u001b[0mcom\u001b[0m\u001b[0;34m.\u001b[0m\u001b[0mapply_if_callable\u001b[0m\u001b[0;34m(\u001b[0m\u001b[0mkey\u001b[0m\u001b[0;34m,\u001b[0m \u001b[0mself\u001b[0m\u001b[0;34m.\u001b[0m\u001b[0mobj\u001b[0m\u001b[0;34m)\u001b[0m\u001b[0;34m\u001b[0m\u001b[0;34m\u001b[0m\u001b[0m\n\u001b[0;32m-> 1768\u001b[0;31m             \u001b[0;32mreturn\u001b[0m \u001b[0mself\u001b[0m\u001b[0;34m.\u001b[0m\u001b[0m_getitem_axis\u001b[0m\u001b[0;34m(\u001b[0m\u001b[0mmaybe_callable\u001b[0m\u001b[0;34m,\u001b[0m \u001b[0maxis\u001b[0m\u001b[0;34m=\u001b[0m\u001b[0maxis\u001b[0m\u001b[0;34m)\u001b[0m\u001b[0;34m\u001b[0m\u001b[0;34m\u001b[0m\u001b[0m\n\u001b[0m\u001b[1;32m   1769\u001b[0m \u001b[0;34m\u001b[0m\u001b[0m\n\u001b[1;32m   1770\u001b[0m     \u001b[0;32mdef\u001b[0m \u001b[0m_is_scalar_access\u001b[0m\u001b[0;34m(\u001b[0m\u001b[0mself\u001b[0m\u001b[0;34m,\u001b[0m \u001b[0mkey\u001b[0m\u001b[0;34m:\u001b[0m \u001b[0mTuple\u001b[0m\u001b[0;34m)\u001b[0m\u001b[0;34m:\u001b[0m\u001b[0;34m\u001b[0m\u001b[0;34m\u001b[0m\u001b[0m\n",
            "\u001b[0;32m/usr/local/lib/python3.6/dist-packages/pandas/core/indexing.py\u001b[0m in \u001b[0;36m_getitem_axis\u001b[0;34m(self, key, axis)\u001b[0m\n\u001b[1;32m   2127\u001b[0m         \u001b[0;31m# a list of integers\u001b[0m\u001b[0;34m\u001b[0m\u001b[0;34m\u001b[0m\u001b[0;34m\u001b[0m\u001b[0m\n\u001b[1;32m   2128\u001b[0m         \u001b[0;32melif\u001b[0m \u001b[0mis_list_like_indexer\u001b[0m\u001b[0;34m(\u001b[0m\u001b[0mkey\u001b[0m\u001b[0;34m)\u001b[0m\u001b[0;34m:\u001b[0m\u001b[0;34m\u001b[0m\u001b[0;34m\u001b[0m\u001b[0m\n\u001b[0;32m-> 2129\u001b[0;31m             \u001b[0;32mreturn\u001b[0m \u001b[0mself\u001b[0m\u001b[0;34m.\u001b[0m\u001b[0m_get_list_axis\u001b[0m\u001b[0;34m(\u001b[0m\u001b[0mkey\u001b[0m\u001b[0;34m,\u001b[0m \u001b[0maxis\u001b[0m\u001b[0;34m=\u001b[0m\u001b[0maxis\u001b[0m\u001b[0;34m)\u001b[0m\u001b[0;34m\u001b[0m\u001b[0;34m\u001b[0m\u001b[0m\n\u001b[0m\u001b[1;32m   2130\u001b[0m \u001b[0;34m\u001b[0m\u001b[0m\n\u001b[1;32m   2131\u001b[0m         \u001b[0;31m# a single integer\u001b[0m\u001b[0;34m\u001b[0m\u001b[0;34m\u001b[0m\u001b[0;34m\u001b[0m\u001b[0m\n",
            "\u001b[0;32m/usr/local/lib/python3.6/dist-packages/pandas/core/indexing.py\u001b[0m in \u001b[0;36m_get_list_axis\u001b[0;34m(self, key, axis)\u001b[0m\n\u001b[1;32m   2112\u001b[0m         \u001b[0;32mexcept\u001b[0m \u001b[0mIndexError\u001b[0m\u001b[0;34m:\u001b[0m\u001b[0;34m\u001b[0m\u001b[0;34m\u001b[0m\u001b[0m\n\u001b[1;32m   2113\u001b[0m             \u001b[0;31m# re-raise with different error message\u001b[0m\u001b[0;34m\u001b[0m\u001b[0;34m\u001b[0m\u001b[0;34m\u001b[0m\u001b[0m\n\u001b[0;32m-> 2114\u001b[0;31m             \u001b[0;32mraise\u001b[0m \u001b[0mIndexError\u001b[0m\u001b[0;34m(\u001b[0m\u001b[0;34m\"positional indexers are out-of-bounds\"\u001b[0m\u001b[0;34m)\u001b[0m\u001b[0;34m\u001b[0m\u001b[0;34m\u001b[0m\u001b[0m\n\u001b[0m\u001b[1;32m   2115\u001b[0m \u001b[0;34m\u001b[0m\u001b[0m\n\u001b[1;32m   2116\u001b[0m     \u001b[0;32mdef\u001b[0m \u001b[0m_getitem_axis\u001b[0m\u001b[0;34m(\u001b[0m\u001b[0mself\u001b[0m\u001b[0;34m,\u001b[0m \u001b[0mkey\u001b[0m\u001b[0;34m,\u001b[0m \u001b[0maxis\u001b[0m\u001b[0;34m:\u001b[0m \u001b[0mint\u001b[0m\u001b[0;34m)\u001b[0m\u001b[0;34m:\u001b[0m\u001b[0;34m\u001b[0m\u001b[0;34m\u001b[0m\u001b[0m\n",
            "\u001b[0;31mIndexError\u001b[0m: positional indexers are out-of-bounds"
          ]
        }
      ]
    },
    {
      "cell_type": "markdown",
      "metadata": {
        "id": "acDGua88rjzM",
        "colab_type": "text"
      },
      "source": [
        "### Neural network\n",
        "\n",
        "Artificial neural networks are constructed with simple elements called neurons, which take a real value, multiply it by a weight and run a nonlinear activation function. Building several layers of neurons, each of them receives some of the input variables, passing its results to the following layers, the network can learn very complex functions. A neural network is able to learn the form of any function, given enough computational power."
      ]
    },
    {
      "cell_type": "code",
      "metadata": {
        "id": "6S-6PcpLhNUe",
        "colab_type": "code",
        "colab": {
          "base_uri": "https://localhost:8080/",
          "height": 598
        },
        "outputId": "e3ff99f4-3008-4acf-e8f3-27d2bb267fc3"
      },
      "source": [
        "from sklearn.neural_network import MLPClassifier\n",
        "\n",
        "def f_pipe_CV_MLPClass(X,Y):\n",
        "  tic() #time mesure\n",
        "  seed = 15\n",
        "  scoring='roc_auc'\n",
        "  sscaler = preprocessing.StandardScaler()\n",
        "  mlp = MLPClassifier(hidden_layer_sizes=(13,13,13),max_iter=500)\n",
        "  kfold = model_selection.StratifiedKFold(n_splits=3, random_state=seed, shuffle=True)\n",
        "  \n",
        "  #pipe_MLPClass = make_pipeline('sscaler',sscaler,'log_reg',log_reg)\n",
        "  pipe_MLPClass = Pipeline([\n",
        "    ('sscaler',sscaler),\n",
        "    ('mlp',mlp)])\n",
        "  \n",
        "  results_pipe_MLPClass = cross_val_score(pipe_MLPClass, X_train, y_train, cv=kfold, scoring=scoring)\n",
        "  \n",
        "  model_pipe_MLPClass=pipe_MLPClass.fit(X_train,y_train)\n",
        "  tac()\n",
        "  return model_pipe_MLPClass,results_pipe_MLPClass\n",
        "\n",
        "model_pipe_MLPClass, results_pipe_MLPClass = f_pipe_CV_MLPClass(X_train,y_train)\n",
        "\n",
        "# print metrics\n",
        "\n",
        "print('\\n***** TRAIN *****')\n",
        "print('Cross validation AUC:%.4f' % results_pipe_MLPClass.mean(),'( +- %.4f' %results_pipe_MLPClass.std(),')')\n",
        "y_pred_train,y_prob_train=clf_metrics(X_train,y_train,model_pipe_MLPClass)\n",
        "        \n",
        "print('\\n***** TEST *****')\n",
        "y_pred_test,y_prob_test=clf_metrics(X_test,y_test,model_pipe_MLPClass)\n",
        "    \n",
        "print('\\n***** ALL DATA *****')\n",
        "y_pred_all,y_prob_all=clf_metrics(X,y,model_pipe_MLPClass)\n",
        "\n",
        "print('\\n Confusion matrix')\n",
        "pd.crosstab(y_pred_all, y, rownames=['Actual'], colnames=['Predicted'])\n",
        "  "
      ],
      "execution_count": 18,
      "outputs": [
        {
          "output_type": "stream",
          "text": [
            "Time elapsed: 0hour:4min:4sec\n",
            "\n",
            "***** TRAIN *****\n",
            "Cross validation AUC:0.9055 ( +- 0.0026 )\n",
            "Accuracy = 0.849455560725919\n",
            "AUC = 0.92\n",
            "LogLoss = 0.33\n",
            "F1_score = 0.78\n",
            "Matthews_corr = 0.67\n",
            "\n",
            "***** TEST *****\n",
            "Accuracy = 0.8434542256470391\n",
            "AUC = 0.91\n",
            "LogLoss = 0.35\n",
            "F1_score = 0.77\n",
            "Matthews_corr = 0.66\n",
            "\n",
            "***** ALL DATA *****\n",
            "Accuracy = 0.8488554221913241\n",
            "AUC = 0.92\n",
            "LogLoss = 0.33\n",
            "F1_score = 0.78\n",
            "Matthews_corr = 0.67\n",
            "\n",
            " Confusion matrix\n"
          ],
          "name": "stdout"
        },
        {
          "output_type": "execute_result",
          "data": {
            "text/html": [
              "<div>\n",
              "<style scoped>\n",
              "    .dataframe tbody tr th:only-of-type {\n",
              "        vertical-align: middle;\n",
              "    }\n",
              "\n",
              "    .dataframe tbody tr th {\n",
              "        vertical-align: top;\n",
              "    }\n",
              "\n",
              "    .dataframe thead th {\n",
              "        text-align: right;\n",
              "    }\n",
              "</style>\n",
              "<table border=\"1\" class=\"dataframe\">\n",
              "  <thead>\n",
              "    <tr style=\"text-align: right;\">\n",
              "      <th>Predicted</th>\n",
              "      <th>0</th>\n",
              "      <th>1</th>\n",
              "    </tr>\n",
              "    <tr>\n",
              "      <th>Actual</th>\n",
              "      <th></th>\n",
              "      <th></th>\n",
              "    </tr>\n",
              "  </thead>\n",
              "  <tbody>\n",
              "    <tr>\n",
              "      <th>0</th>\n",
              "      <td>69658</td>\n",
              "      <td>13644</td>\n",
              "    </tr>\n",
              "    <tr>\n",
              "      <th>1</th>\n",
              "      <td>5507</td>\n",
              "      <td>30579</td>\n",
              "    </tr>\n",
              "  </tbody>\n",
              "</table>\n",
              "</div>"
            ],
            "text/plain": [
              "Predicted      0      1\n",
              "Actual                 \n",
              "0          69658  13644\n",
              "1           5507  30579"
            ]
          },
          "metadata": {
            "tags": []
          },
          "execution_count": 18
        }
      ]
    }
  ]
}