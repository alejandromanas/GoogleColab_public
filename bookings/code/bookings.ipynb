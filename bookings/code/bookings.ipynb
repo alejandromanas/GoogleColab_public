{
  "nbformat": 4,
  "nbformat_minor": 0,
  "metadata": {
    "colab": {
      "name": "Bookings.ipynb",
      "provenance": [],
      "collapsed_sections": [],
      "toc_visible": true,
      "authorship_tag": "ABX9TyPMdx6MjKrOlMAgUqOY8v/D",
      "include_colab_link": true
    },
    "kernelspec": {
      "name": "python3",
      "display_name": "Python 3"
    }
  },
  "cells": [
    {
      "cell_type": "markdown",
      "metadata": {
        "id": "view-in-github",
        "colab_type": "text"
      },
      "source": [
        "<a href=\"https://colab.research.google.com/github/alejandromanas/GoogleColab_public/blob/master/bookings/code/bookings.ipynb\" target=\"_parent\"><img src=\"https://colab.research.google.com/assets/colab-badge.svg\" alt=\"Open In Colab\"/></a>"
      ]
    },
    {
      "cell_type": "markdown",
      "metadata": {
        "id": "moNucPTF2tVw",
        "colab_type": "text"
      },
      "source": [
        "Before you begin, I recommend you open this notebook with Google colab. You will be able to run the python code without having a powerful computer and to move through different sections of the document quickly\n",
        "\n",
        "# **Booking cancellation prediction**\n",
        "\n",
        "Booking cancellations generates a big impact on transport and hotel industries and contributes negatively to the generation of accurate forecasts. Cancellation rate can range from 20% to 60% depending on the hotel type and location. A good predictive model of cancellation could reduces losses ensuring better decision-making in the following areas:\n",
        "\n",
        "* Booking management- Get a better forecast of net demand (bookings - cancellations)\n",
        "\n",
        "* Revenue Management- Improve the data from which the pricing policy is set\n",
        "\n",
        "* Resource management- Optimize the planning of purchases, services of external suppliers and staff organization. \n",
        "\n",
        "* Overbooking policies- Reduce the additional costs of acomodate guests in other hotels and the loss of confidence and bad publicity (bad reviews) that it can cause."
      ]
    },
    {
      "cell_type": "markdown",
      "metadata": {
        "id": "UM_f4iFGabfl",
        "colab_type": "text"
      },
      "source": [
        "### Libraries & basic functions"
      ]
    },
    {
      "cell_type": "code",
      "metadata": {
        "id": "Qk6izRTUaYsy",
        "colab_type": "code",
        "colab": {}
      },
      "source": [
        "import matplotlib.pyplot as plt\n",
        "import time\n",
        "import xgboost as xgb\n",
        "from xgboost import XGBClassifier\n",
        "from sklearn.model_selection import GridSearchCV\n",
        "import lightgbm as lgb\n",
        "from sklearn.model_selection import KFold\n",
        "import seaborn as sn\n",
        "import warnings\n",
        "warnings.filterwarnings(\"ignore\")\n",
        "\n",
        "# Time execution mesure\n",
        "def tic():\n",
        "  global _start_time \n",
        "  _start_time = time.time()\n",
        "\n",
        "def tac():\n",
        "  t_sec = round(time.time() - _start_time)\n",
        "  (t_min, t_sec) = divmod(t_sec,60)\n",
        "  (t_hour,t_min) = divmod(t_min,60) \n",
        "  time_elapsed=print('Time passed: {}hour:{}min:{}sec'.format(t_hour,t_min,t_sec))"
      ],
      "execution_count": 0,
      "outputs": []
    },
    {
      "cell_type": "markdown",
      "metadata": {
        "id": "2cyv7rxFtQ2F",
        "colab_type": "text"
      },
      "source": [
        "The purpose of this notebook is to show several supervised clasification models that allows to predict if a hotel booking will be canceled in the future. \n",
        "\n",
        "The algorithms used are: \n",
        "* Logistic regression\n",
        "* SVM (Support Vector Machine)\n",
        "* XGBoost\n",
        "* LightGBM \n",
        "* Neural network\n",
        "\n"
      ]
    },
    {
      "cell_type": "markdown",
      "metadata": {
        "id": "sqd54bXZbGuQ",
        "colab_type": "text"
      },
      "source": [
        "### Loading Data\n",
        "\n",
        "The data used in the analysis was obtained from an article entitled \"Hotel booking demand datasets\"  and written by Nuno Antonio, Anade Almeid and Luis Nunes (https://www.sciencedirect.com/science/article/pii/S2352340918315191).\n",
        "\n",
        "The article includes a dataset with 120,000 reservations from two hotels of one of the major portuguese hotels brand. Both hotels have more than 200 rooms and a four stars rating. One is a city hotel located in Lisbon and the other is a resort hotel in the Algarve. The reservations have an arrival date between 1st July 2015 and 31th August 2017. \n",
        "\n",
        "Each reservation includes about 31 variables or columns. Some of them are:\n",
        "* Booking status (cancelled or not cancelled)\n",
        "* Lead time\n",
        "* Number of nights (weekdays and weekends)\n",
        "* Average price per night\n",
        "* Distribution channel\n",
        "* Market segment\n",
        "* Room type\n",
        "* Number of guests (babes, childs or adults)"
      ]
    },
    {
      "cell_type": "code",
      "metadata": {
        "id": "IgaDoxhdUUex",
        "colab_type": "code",
        "outputId": "a9350a4f-b266-427e-f4bc-fc705230002b",
        "colab": {
          "base_uri": "https://localhost:8080/",
          "height": 226
        }
      },
      "source": [
        "#Importing data from public github repository \n",
        "\n",
        "import pandas as pd\n",
        "\n",
        "H1 = pd.read_csv(\"https://raw.githubusercontent.com/alejandromanas/GoogleColab_public/master/bookings/files/H1.csv\", delimiter = ',')\n",
        "H1['Hotel']='Resort'\n",
        "\n",
        "#outcome 'IsCancelled'\n",
        "H2 = pd.read_csv(\"https://raw.githubusercontent.com/alejandromanas/GoogleColab_public/master/bookings/files/H2.csv\", delimiter = ',')\n",
        "H2['Hotel']='Urban'\n",
        "\n",
        "df_raw=[]\n",
        "df_data=[]\n",
        "df_raw=pd.concat([H1,H2], axis=0,ignore_index=True)\n",
        "\n",
        "df_raw.head(5)"
      ],
      "execution_count": 1,
      "outputs": [
        {
          "output_type": "execute_result",
          "data": {
            "text/html": [
              "<div>\n",
              "<style scoped>\n",
              "    .dataframe tbody tr th:only-of-type {\n",
              "        vertical-align: middle;\n",
              "    }\n",
              "\n",
              "    .dataframe tbody tr th {\n",
              "        vertical-align: top;\n",
              "    }\n",
              "\n",
              "    .dataframe thead th {\n",
              "        text-align: right;\n",
              "    }\n",
              "</style>\n",
              "<table border=\"1\" class=\"dataframe\">\n",
              "  <thead>\n",
              "    <tr style=\"text-align: right;\">\n",
              "      <th></th>\n",
              "      <th>IsCanceled</th>\n",
              "      <th>LeadTime</th>\n",
              "      <th>ArrivalDateYear</th>\n",
              "      <th>ArrivalDateMonth</th>\n",
              "      <th>ArrivalDateWeekNumber</th>\n",
              "      <th>ArrivalDateDayOfMonth</th>\n",
              "      <th>StaysInWeekendNights</th>\n",
              "      <th>StaysInWeekNights</th>\n",
              "      <th>Adults</th>\n",
              "      <th>Children</th>\n",
              "      <th>Babies</th>\n",
              "      <th>Meal</th>\n",
              "      <th>Country</th>\n",
              "      <th>MarketSegment</th>\n",
              "      <th>DistributionChannel</th>\n",
              "      <th>IsRepeatedGuest</th>\n",
              "      <th>PreviousCancellations</th>\n",
              "      <th>PreviousBookingsNotCanceled</th>\n",
              "      <th>ReservedRoomType</th>\n",
              "      <th>AssignedRoomType</th>\n",
              "      <th>BookingChanges</th>\n",
              "      <th>DepositType</th>\n",
              "      <th>Agent</th>\n",
              "      <th>Company</th>\n",
              "      <th>DaysInWaitingList</th>\n",
              "      <th>CustomerType</th>\n",
              "      <th>ADR</th>\n",
              "      <th>RequiredCarParkingSpaces</th>\n",
              "      <th>TotalOfSpecialRequests</th>\n",
              "      <th>ReservationStatus</th>\n",
              "      <th>ReservationStatusDate</th>\n",
              "      <th>Hotel</th>\n",
              "    </tr>\n",
              "  </thead>\n",
              "  <tbody>\n",
              "    <tr>\n",
              "      <th>0</th>\n",
              "      <td>0</td>\n",
              "      <td>342</td>\n",
              "      <td>2015</td>\n",
              "      <td>July</td>\n",
              "      <td>27</td>\n",
              "      <td>1</td>\n",
              "      <td>0</td>\n",
              "      <td>0</td>\n",
              "      <td>2</td>\n",
              "      <td>0.0</td>\n",
              "      <td>0</td>\n",
              "      <td>BB</td>\n",
              "      <td>PRT</td>\n",
              "      <td>Direct</td>\n",
              "      <td>Direct</td>\n",
              "      <td>0</td>\n",
              "      <td>0</td>\n",
              "      <td>0</td>\n",
              "      <td>C</td>\n",
              "      <td>C</td>\n",
              "      <td>3</td>\n",
              "      <td>No Deposit</td>\n",
              "      <td>NULL</td>\n",
              "      <td>NULL</td>\n",
              "      <td>0</td>\n",
              "      <td>Transient</td>\n",
              "      <td>0.0</td>\n",
              "      <td>0</td>\n",
              "      <td>0</td>\n",
              "      <td>Check-Out</td>\n",
              "      <td>2015-07-01</td>\n",
              "      <td>Resort</td>\n",
              "    </tr>\n",
              "    <tr>\n",
              "      <th>1</th>\n",
              "      <td>0</td>\n",
              "      <td>737</td>\n",
              "      <td>2015</td>\n",
              "      <td>July</td>\n",
              "      <td>27</td>\n",
              "      <td>1</td>\n",
              "      <td>0</td>\n",
              "      <td>0</td>\n",
              "      <td>2</td>\n",
              "      <td>0.0</td>\n",
              "      <td>0</td>\n",
              "      <td>BB</td>\n",
              "      <td>PRT</td>\n",
              "      <td>Direct</td>\n",
              "      <td>Direct</td>\n",
              "      <td>0</td>\n",
              "      <td>0</td>\n",
              "      <td>0</td>\n",
              "      <td>C</td>\n",
              "      <td>C</td>\n",
              "      <td>4</td>\n",
              "      <td>No Deposit</td>\n",
              "      <td>NULL</td>\n",
              "      <td>NULL</td>\n",
              "      <td>0</td>\n",
              "      <td>Transient</td>\n",
              "      <td>0.0</td>\n",
              "      <td>0</td>\n",
              "      <td>0</td>\n",
              "      <td>Check-Out</td>\n",
              "      <td>2015-07-01</td>\n",
              "      <td>Resort</td>\n",
              "    </tr>\n",
              "    <tr>\n",
              "      <th>2</th>\n",
              "      <td>0</td>\n",
              "      <td>7</td>\n",
              "      <td>2015</td>\n",
              "      <td>July</td>\n",
              "      <td>27</td>\n",
              "      <td>1</td>\n",
              "      <td>0</td>\n",
              "      <td>1</td>\n",
              "      <td>1</td>\n",
              "      <td>0.0</td>\n",
              "      <td>0</td>\n",
              "      <td>BB</td>\n",
              "      <td>GBR</td>\n",
              "      <td>Direct</td>\n",
              "      <td>Direct</td>\n",
              "      <td>0</td>\n",
              "      <td>0</td>\n",
              "      <td>0</td>\n",
              "      <td>A</td>\n",
              "      <td>C</td>\n",
              "      <td>0</td>\n",
              "      <td>No Deposit</td>\n",
              "      <td>NULL</td>\n",
              "      <td>NULL</td>\n",
              "      <td>0</td>\n",
              "      <td>Transient</td>\n",
              "      <td>75.0</td>\n",
              "      <td>0</td>\n",
              "      <td>0</td>\n",
              "      <td>Check-Out</td>\n",
              "      <td>2015-07-02</td>\n",
              "      <td>Resort</td>\n",
              "    </tr>\n",
              "    <tr>\n",
              "      <th>3</th>\n",
              "      <td>0</td>\n",
              "      <td>13</td>\n",
              "      <td>2015</td>\n",
              "      <td>July</td>\n",
              "      <td>27</td>\n",
              "      <td>1</td>\n",
              "      <td>0</td>\n",
              "      <td>1</td>\n",
              "      <td>1</td>\n",
              "      <td>0.0</td>\n",
              "      <td>0</td>\n",
              "      <td>BB</td>\n",
              "      <td>GBR</td>\n",
              "      <td>Corporate</td>\n",
              "      <td>Corporate</td>\n",
              "      <td>0</td>\n",
              "      <td>0</td>\n",
              "      <td>0</td>\n",
              "      <td>A</td>\n",
              "      <td>A</td>\n",
              "      <td>0</td>\n",
              "      <td>No Deposit</td>\n",
              "      <td>304</td>\n",
              "      <td>NULL</td>\n",
              "      <td>0</td>\n",
              "      <td>Transient</td>\n",
              "      <td>75.0</td>\n",
              "      <td>0</td>\n",
              "      <td>0</td>\n",
              "      <td>Check-Out</td>\n",
              "      <td>2015-07-02</td>\n",
              "      <td>Resort</td>\n",
              "    </tr>\n",
              "    <tr>\n",
              "      <th>4</th>\n",
              "      <td>0</td>\n",
              "      <td>14</td>\n",
              "      <td>2015</td>\n",
              "      <td>July</td>\n",
              "      <td>27</td>\n",
              "      <td>1</td>\n",
              "      <td>0</td>\n",
              "      <td>2</td>\n",
              "      <td>2</td>\n",
              "      <td>0.0</td>\n",
              "      <td>0</td>\n",
              "      <td>BB</td>\n",
              "      <td>GBR</td>\n",
              "      <td>Online TA</td>\n",
              "      <td>TA/TO</td>\n",
              "      <td>0</td>\n",
              "      <td>0</td>\n",
              "      <td>0</td>\n",
              "      <td>A</td>\n",
              "      <td>A</td>\n",
              "      <td>0</td>\n",
              "      <td>No Deposit</td>\n",
              "      <td>240</td>\n",
              "      <td>NULL</td>\n",
              "      <td>0</td>\n",
              "      <td>Transient</td>\n",
              "      <td>98.0</td>\n",
              "      <td>0</td>\n",
              "      <td>1</td>\n",
              "      <td>Check-Out</td>\n",
              "      <td>2015-07-03</td>\n",
              "      <td>Resort</td>\n",
              "    </tr>\n",
              "  </tbody>\n",
              "</table>\n",
              "</div>"
            ],
            "text/plain": [
              "   IsCanceled  LeadTime  ...  ReservationStatusDate   Hotel\n",
              "0           0       342  ...             2015-07-01  Resort\n",
              "1           0       737  ...             2015-07-01  Resort\n",
              "2           0         7  ...             2015-07-02  Resort\n",
              "3           0        13  ...             2015-07-02  Resort\n",
              "4           0        14  ...             2015-07-03  Resort\n",
              "\n",
              "[5 rows x 32 columns]"
            ]
          },
          "metadata": {
            "tags": []
          },
          "execution_count": 1
        }
      ]
    },
    {
      "cell_type": "markdown",
      "metadata": {
        "id": "rZTyCYynjBjZ",
        "colab_type": "text"
      },
      "source": [
        "### Data Analysis"
      ]
    },
    {
      "cell_type": "code",
      "metadata": {
        "id": "WrSCAB6CjNvy",
        "colab_type": "code",
        "outputId": "0948ee5b-d873-462e-a4c2-f70cfec556bc",
        "colab": {
          "base_uri": "https://localhost:8080/",
          "height": 453
        }
      },
      "source": [
        "#Libraries\n",
        "import matplotlib.pyplot as plt\n",
        "\n",
        "df_analysis = df_raw.copy()\n",
        "df_analysis.columns\n",
        "df_analysis['ArrivalDateMonthNum']=df_analysis.ArrivalDateMonth.replace({ 'January' : '01', 'February' : '02', 'March' : '03', 'April' :'04', 'May': '05', 'June' : '06', 'July':'07', 'August' : '08', 'September' : '09', 'October' : '10', 'November': '11', 'December' : '12' })\n",
        "df_analysis['ArrivalDateYearMonth'] = df_analysis['ArrivalDateYear'].astype('str')+'-'+ df_analysis['ArrivalDateMonthNum'].astype('str')\n",
        "\n",
        "# GROUP BY\n",
        "col_name= 'ArrivalDateYearMonth'\n",
        "df=(df_analysis.groupby(['Hotel',col_name]).sum()['IsCanceled']/df_analysis.groupby(['Hotel',col_name]).count()['IsCanceled'] *100).to_frame()\n",
        "df.reset_index(inplace=True)\n",
        "\n",
        "import seaborn as sns; sns.set()\n",
        "import matplotlib.pyplot as plt\n",
        "\n",
        "plt.figure(figsize=(14, 6))\n",
        "sns.set(style=\"whitegrid\")\n",
        "ax = sns.lineplot(x=\"ArrivalDateYearMonth\", y=\"IsCanceled\", hue=\"Hotel\", data=df,linewidth=5,palette=\"tab10\")\n",
        "ax.set_title(' % Booking cancelation by Hotel',fontsize=14)\n",
        "ax.set_xlabel('Year/Month',fontsize=14);\n",
        "ax.set_ylabel('% Cancellation',fontsize=14);\n",
        "ax.set_xticklabels(labels=df.ArrivalDateYearMonth,rotation=70,size=12);\n",
        "plt.show()"
      ],
      "execution_count": 4,
      "outputs": [
        {
          "output_type": "display_data",
          "data": {
            "image/png": "[encoded data removed]",
            "text/plain": [
              "<Figure size 1008x432 with 1 Axes>"
            ]
          },
          "metadata": {
            "tags": []
          }
        }
      ]
    },
    {
      "cell_type": "markdown",
      "metadata": {
        "id": "zpyJbtKZ9CoO",
        "colab_type": "text"
      },
      "source": [
        "Agent"
      ]
    },
    {
      "cell_type": "code",
      "metadata": {
        "id": "OEPjGnC1v85P",
        "colab_type": "code",
        "colab": {
          "base_uri": "https://localhost:8080/",
          "height": 824
        },
        "outputId": "9ecd5a28-17f1-48ae-bf98-db11be1a0105"
      },
      "source": [
        "def many_levels_analysis(feature):\n",
        "  print('values count')\n",
        "  df=(df_analysis.groupby([feature]).count()['IsCanceled']\n",
        "      .sort_values(ascending=False).head(15)).to_frame().reset_index()\n",
        "  ax = sns.catplot(x=feature, y=\"IsCanceled\", kind=\"bar\", data=df)\n",
        "  ax.fig.set_figwidth(14)\n",
        "  ax.fig.set_figheight(6)\n",
        "  plt.show()\n",
        "\n",
        "  col_name = feature\n",
        "  df=(df_analysis.groupby(['Hotel',col_name]).sum()['IsCanceled']/df_analysis.groupby(['Hotel',col_name]).count()['IsCanceled'] *100).to_frame()\n",
        "  df.reset_index(inplace=True)\n",
        "\n",
        "feature='Agent'\n",
        "levels_analysis(feature)"
      ],
      "execution_count": 146,
      "outputs": [
        {
          "output_type": "stream",
          "text": [
            "values count\n",
            "          9    31961\n",
            "       NULL    16340\n",
            "        240    13922\n",
            "          1     7191\n",
            "         14     3640\n",
            "               ...  \n",
            "        451        1\n",
            "        294        1\n",
            "        408        1\n",
            "        480        1\n",
            "        358        1\n",
            "Name: Agent, Length: 334, dtype: int64\n"
          ],
          "name": "stdout"
        },
        {
          "output_type": "display_data",
          "data": {
            "image/png": "[encoded data removed]",
            "text/plain": [
              "<Figure size 1008x432 with 1 Axes>"
            ]
          },
          "metadata": {
            "tags": []
          }
        },
        {
          "output_type": "stream",
          "text": [
            "         IsCanceled\n",
            "count     15.000000\n",
            "mean    2330.200000\n",
            "std     3518.634195\n",
            "min      427.000000\n",
            "25%      509.500000\n",
            "50%      717.000000\n",
            "75%     2527.500000\n",
            "max    13264.000000\n"
          ],
          "name": "stdout"
        }
      ]
    },
    {
      "cell_type": "markdown",
      "metadata": {
        "id": "vzmr4Fdd9H6P",
        "colab_type": "text"
      },
      "source": [
        "Company"
      ]
    },
    {
      "cell_type": "code",
      "metadata": {
        "id": "3Ir28293wPhz",
        "colab_type": "code",
        "colab": {
          "base_uri": "https://localhost:8080/",
          "height": 824
        },
        "outputId": "fc5c60fc-20a1-4d5d-f1e9-f8c6801b71f3"
      },
      "source": [
        "feature='Company'\n",
        "levels_analysis(feature)"
      ],
      "execution_count": 101,
      "outputs": [
        {
          "output_type": "stream",
          "text": [
            "values count\n",
            "       NULL    112593\n",
            "         40       927\n",
            "        223       784\n",
            "         67       267\n",
            "         45       250\n",
            "                ...  \n",
            "         18         1\n",
            "        415         1\n",
            "        531         1\n",
            "        258         1\n",
            "        101         1\n",
            "Name: Company, Length: 353, dtype: int64\n"
          ],
          "name": "stdout"
        },
        {
          "output_type": "display_data",
          "data": {
            "image/png": "[encoded data removed]",
            "text/plain": [
              "<Figure size 1008x432 with 1 Axes>"
            ]
          },
          "metadata": {
            "tags": []
          }
        },
        {
          "output_type": "stream",
          "text": [
            "         IsCanceled\n",
            "count     15.000000\n",
            "mean    2916.866667\n",
            "std    11097.879301\n",
            "min       18.000000\n",
            "25%       24.500000\n",
            "50%       35.000000\n",
            "75%       68.000000\n",
            "max    43033.000000\n"
          ],
          "name": "stdout"
        }
      ]
    },
    {
      "cell_type": "markdown",
      "metadata": {
        "id": "5OGLmohrCOhN",
        "colab_type": "text"
      },
      "source": [
        "ADR (Average daily rate)"
      ]
    },
    {
      "cell_type": "code",
      "metadata": {
        "id": "GXzYJbyiCHtu",
        "colab_type": "code",
        "colab": {
          "base_uri": "https://localhost:8080/",
          "height": 383
        },
        "outputId": "6b3eb9fd-453d-4a1b-d75e-0ba54bc15391"
      },
      "source": [
        "df=df_analysis[df_analysis['ADR']< 5000][['IsCanceled','ADR']]\n",
        "#df.IsCanceled=df.IsCanceled.astype('str')\n",
        "sns.catplot(x=\"IsCanceled\", y=\"ADR\", kind=\"box\", data=df)"
      ],
      "execution_count": 188,
      "outputs": [
        {
          "output_type": "execute_result",
          "data": {
            "text/plain": [
              "<seaborn.axisgrid.FacetGrid at 0x7fe2b4d7c080>"
            ]
          },
          "metadata": {
            "tags": []
          },
          "execution_count": 188
        },
        {
          "output_type": "display_data",
          "data": {
            "image/png": "[encoded data removed]",
            "text/plain": [
              "<Figure size 360x360 with 1 Axes>"
            ]
          },
          "metadata": {
            "tags": []
          }
        }
      ]
    },
    {
      "cell_type": "markdown",
      "metadata": {
        "id": "ppVf1rIEyScz",
        "colab_type": "text"
      },
      "source": [
        "### Preprocessing"
      ]
    },
    {
      "cell_type": "code",
      "metadata": {
        "id": "1JUOMiiayWHT",
        "colab_type": "code",
        "outputId": "fb0c341d-b9b0-464a-d7ab-3ed0a955e49b",
        "colab": {
          "base_uri": "https://localhost:8080/",
          "height": 461
        }
      },
      "source": [
        "#Libraries\n",
        "\n",
        "!pip install vtreat\n",
        "import vtreat\n",
        "import numpy as np\n",
        "\n",
        "#Preprocessing\n",
        "df_data=df_raw.copy()\n",
        "\n",
        "# NAN\n",
        "df_data.isnull().any() # nan found in Country & Children\n",
        "\n",
        "df_data['ArrivalDateMonthNum']=df_data.ArrivalDateMonth.replace({ 'January' : 1, 'February' : 2, 'March' : 3, 'April' :4, 'May': 5, 'June' : 6, 'July':7, 'August' : 8, 'September' : 9, 'October' : 10, 'November': 11, 'December' : 12 })\n",
        "df_data.drop(columns='ArrivalDateMonth',inplace=True)\n",
        "\n",
        "# the value of the country is unreliable\n",
        "# country is deleted\n",
        "df_data.drop(columns = 'Country', inplace = True)\n",
        "\n",
        "# Deleting last booking change\n",
        "df_data.drop(columns = 'ReservationStatusDate', inplace = True)\n",
        "\n",
        "# nan in Children are replaced by 0\n",
        "df_data.Children.replace(np.nan, 0,inplace = True)\n",
        "\n",
        "# Agent\n",
        "# replace NULL by 0\n",
        "df_data.Agent.replace({'       NULL':0},inplace = True)\n",
        "df_data.Agent.nunique() #334 unique values\n",
        "\n",
        "# Company\n",
        "# replace NULL by 0\n",
        "df_data.Company.replace({'       NULL':0},inplace = True)\n",
        "# df_data.Company=df_data.Company.astype('int')\n",
        "\n",
        "df_data.Company.nunique() #353 unique values\n",
        "\n",
        "# Using vtreat for Agent & Company\n",
        "df_vtreat=[]\n",
        "df_vtreat =pd.concat([df_data[['IsCanceled']],df_data[['Company','Agent']]], axis=1)\n",
        "\n",
        "transform = vtreat.BinomialOutcomeTreatment(\n",
        "outcome_name='IsCanceled',    # outcome variable\n",
        "outcome_target=True)  # outcome of interest\n",
        "\n",
        "d_prepared = transform.fit_transform(df_vtreat, df_vtreat['IsCanceled'])\n",
        "transform.score_frame_\n",
        "\n",
        "df_data.drop(columns = ['Agent','Company'], inplace = True)\n",
        "\n",
        "df_pdata=[] #df processed data -> pdata\n",
        "df_pdata = pd.concat([df_data,d_prepared.loc[:, d_prepared.columns != 'IsCanceled']], axis=1)\n",
        "\n",
        "X=[]\n",
        "Y=[]\n",
        "Z=[]\n",
        "\n",
        "X=df_data.loc[:, df_data.columns != 'IsCanceled'] #Features\n",
        "Y=df_data['IsCanceled'] #Outcome\n",
        "Z=df_pdata.copy() #all data\n",
        "df_data.head()"
      ],
      "execution_count": 8,
      "outputs": [
        {
          "output_type": "execute_result",
          "data": {
            "text/html": [
              "<div>\n",
              "<style scoped>\n",
              "    .dataframe tbody tr th:only-of-type {\n",
              "        vertical-align: middle;\n",
              "    }\n",
              "\n",
              "    .dataframe tbody tr th {\n",
              "        vertical-align: top;\n",
              "    }\n",
              "\n",
              "    .dataframe thead th {\n",
              "        text-align: right;\n",
              "    }\n",
              "</style>\n",
              "<table border=\"1\" class=\"dataframe\">\n",
              "  <thead>\n",
              "    <tr style=\"text-align: right;\">\n",
              "      <th></th>\n",
              "      <th>IsCanceled</th>\n",
              "      <th>Company_logit_code</th>\n",
              "      <th>Company_prevalence_code</th>\n",
              "      <th>Company_lev_0</th>\n",
              "      <th>Agent_logit_code</th>\n",
              "      <th>Agent_prevalence_code</th>\n",
              "      <th>Agent_lev_          9</th>\n",
              "      <th>Agent_lev_0</th>\n",
              "      <th>Agent_lev_        240</th>\n",
              "    </tr>\n",
              "  </thead>\n",
              "  <tbody>\n",
              "    <tr>\n",
              "      <th>0</th>\n",
              "      <td>0</td>\n",
              "      <td>0.030871</td>\n",
              "      <td>0.943069</td>\n",
              "      <td>1.0</td>\n",
              "      <td>-0.406209</td>\n",
              "      <td>0.136862</td>\n",
              "      <td>0.0</td>\n",
              "      <td>1.0</td>\n",
              "      <td>0.0</td>\n",
              "    </tr>\n",
              "    <tr>\n",
              "      <th>1</th>\n",
              "      <td>0</td>\n",
              "      <td>0.030624</td>\n",
              "      <td>0.943069</td>\n",
              "      <td>1.0</td>\n",
              "      <td>-0.405164</td>\n",
              "      <td>0.136862</td>\n",
              "      <td>0.0</td>\n",
              "      <td>1.0</td>\n",
              "      <td>0.0</td>\n",
              "    </tr>\n",
              "    <tr>\n",
              "      <th>2</th>\n",
              "      <td>0</td>\n",
              "      <td>0.030624</td>\n",
              "      <td>0.943069</td>\n",
              "      <td>1.0</td>\n",
              "      <td>-0.405164</td>\n",
              "      <td>0.136862</td>\n",
              "      <td>0.0</td>\n",
              "      <td>1.0</td>\n",
              "      <td>0.0</td>\n",
              "    </tr>\n",
              "    <tr>\n",
              "      <th>3</th>\n",
              "      <td>0</td>\n",
              "      <td>0.030624</td>\n",
              "      <td>0.943069</td>\n",
              "      <td>1.0</td>\n",
              "      <td>0.000000</td>\n",
              "      <td>0.000008</td>\n",
              "      <td>0.0</td>\n",
              "      <td>0.0</td>\n",
              "      <td>0.0</td>\n",
              "    </tr>\n",
              "    <tr>\n",
              "      <th>4</th>\n",
              "      <td>0</td>\n",
              "      <td>0.032507</td>\n",
              "      <td>0.943069</td>\n",
              "      <td>1.0</td>\n",
              "      <td>0.059447</td>\n",
              "      <td>0.116609</td>\n",
              "      <td>0.0</td>\n",
              "      <td>0.0</td>\n",
              "      <td>1.0</td>\n",
              "    </tr>\n",
              "    <tr>\n",
              "      <th>...</th>\n",
              "      <td>...</td>\n",
              "      <td>...</td>\n",
              "      <td>...</td>\n",
              "      <td>...</td>\n",
              "      <td>...</td>\n",
              "      <td>...</td>\n",
              "      <td>...</td>\n",
              "      <td>...</td>\n",
              "      <td>...</td>\n",
              "    </tr>\n",
              "    <tr>\n",
              "      <th>119385</th>\n",
              "      <td>0</td>\n",
              "      <td>0.032507</td>\n",
              "      <td>0.943069</td>\n",
              "      <td>1.0</td>\n",
              "      <td>-1.886552</td>\n",
              "      <td>0.000276</td>\n",
              "      <td>0.0</td>\n",
              "      <td>0.0</td>\n",
              "      <td>0.0</td>\n",
              "    </tr>\n",
              "    <tr>\n",
              "      <th>119386</th>\n",
              "      <td>0</td>\n",
              "      <td>0.030624</td>\n",
              "      <td>0.943069</td>\n",
              "      <td>1.0</td>\n",
              "      <td>0.105332</td>\n",
              "      <td>0.267702</td>\n",
              "      <td>1.0</td>\n",
              "      <td>0.0</td>\n",
              "      <td>0.0</td>\n",
              "    </tr>\n",
              "    <tr>\n",
              "      <th>119387</th>\n",
              "      <td>0</td>\n",
              "      <td>0.031162</td>\n",
              "      <td>0.943069</td>\n",
              "      <td>1.0</td>\n",
              "      <td>0.113992</td>\n",
              "      <td>0.267702</td>\n",
              "      <td>1.0</td>\n",
              "      <td>0.0</td>\n",
              "      <td>0.0</td>\n",
              "    </tr>\n",
              "    <tr>\n",
              "      <th>119388</th>\n",
              "      <td>0</td>\n",
              "      <td>0.032507</td>\n",
              "      <td>0.943069</td>\n",
              "      <td>1.0</td>\n",
              "      <td>-1.934605</td>\n",
              "      <td>0.000829</td>\n",
              "      <td>0.0</td>\n",
              "      <td>0.0</td>\n",
              "      <td>0.0</td>\n",
              "    </tr>\n",
              "    <tr>\n",
              "      <th>119389</th>\n",
              "      <td>0</td>\n",
              "      <td>0.030871</td>\n",
              "      <td>0.943069</td>\n",
              "      <td>1.0</td>\n",
              "      <td>0.116765</td>\n",
              "      <td>0.267702</td>\n",
              "      <td>1.0</td>\n",
              "      <td>0.0</td>\n",
              "      <td>0.0</td>\n",
              "    </tr>\n",
              "  </tbody>\n",
              "</table>\n",
              "<p>119390 rows × 9 columns</p>\n",
              "</div>"
            ],
            "text/plain": [
              "        IsCanceled  Company_logit_code  ...  Agent_lev_0  Agent_lev_        240\n",
              "0                0            0.030871  ...          1.0                    0.0\n",
              "1                0            0.030624  ...          1.0                    0.0\n",
              "2                0            0.030624  ...          1.0                    0.0\n",
              "3                0            0.030624  ...          0.0                    0.0\n",
              "4                0            0.032507  ...          0.0                    1.0\n",
              "...            ...                 ...  ...          ...                    ...\n",
              "119385           0            0.032507  ...          0.0                    0.0\n",
              "119386           0            0.030624  ...          0.0                    0.0\n",
              "119387           0            0.031162  ...          0.0                    0.0\n",
              "119388           0            0.032507  ...          0.0                    0.0\n",
              "119389           0            0.030871  ...          0.0                    0.0\n",
              "\n",
              "[119390 rows x 9 columns]"
            ]
          },
          "metadata": {
            "tags": []
          },
          "execution_count": 8
        }
      ]
    },
    {
      "cell_type": "markdown",
      "metadata": {
        "id": "OK8GDGMeFL2K",
        "colab_type": "text"
      },
      "source": [
        "### Logistic Regresion"
      ]
    },
    {
      "cell_type": "code",
      "metadata": {
        "id": "JuFmOVJDFWaE",
        "colab_type": "code",
        "outputId": "066278d7-6824-4071-ed1e-c4656367a5f2",
        "colab": {
          "base_uri": "https://localhost:8080/",
          "height": 325
        }
      },
      "source": [
        "from sklearn.linear_model import LogisticRegression\n",
        "from sklearn import model_selection\n",
        "from sklearn import metrics\n",
        "from sklearn import preprocessing\n",
        "from sklearn.model_selection import train_test_split\n",
        "from sklearn.metrics import confusion_matrix\n",
        "\n",
        "# Metrics function\n",
        "\n",
        "def clf_metrics(X,y,model):\n",
        "  y_pred = pd.Series(model.predict(X))\n",
        "  y_prob= model.predict_proba(X) \n",
        "    \n",
        "  # Accuracy  \n",
        "  print('Accuracy =',str(metrics.accuracy_score(y,y_pred)))\n",
        "        \n",
        "  # AUC\n",
        "  fpr, tpr, threshold = metrics.roc_curve(y, y_prob[:,1])\n",
        "  roc_auc = metrics.auc(fpr, tpr)\n",
        "  print('AUC = %0.2f' % roc_auc)\n",
        "        \n",
        "  # Logloss\n",
        "  Logloss = metrics.log_loss(y, y_prob[:,1])\n",
        "  print('LogLoss = %0.2f' % Logloss)\n",
        "\n",
        "  # F1-score\n",
        "  F1_score = metrics.f1_score(y, y_pred)\n",
        "  print('F1_score = %0.2f' % Logloss)\n",
        "\n",
        "  # Mathews correlation      \n",
        "  matthews_corr = metrics.matthews_corrcoef(y, y_pred)\n",
        "  print('Matthews_corr = %0.2f' % matthews_corr)\n",
        "  #return y_pred,y_prob\n",
        "\n",
        "# Lead Time\n",
        "\n",
        "x_train, x_test, y_train, y_test = train_test_split(X, Y, test_size=0.10, random_state=42)\n",
        "y_train= y_train.to_numpy().ravel()\n",
        "\n",
        "feature = 'LeadTime'\n",
        "\n",
        "print('feature :',feature)\n",
        "\n",
        "clf = LogisticRegression(random_state=0, solver='lbfgs')\n",
        "clf=clf.fit(x_train[[feature]],y_train)\n",
        "y_pred = clf.predict(x_train[[feature]])\n",
        "\n",
        "print('coefficient:',clf.coef_)\n",
        "print('intercept:',clf.intercept_)\n",
        "\n",
        "y_pred.shape\n",
        "clf_metrics(x_train[[feature]],y_train,clf)\n",
        "print('\\n Confusion matrix')\n",
        "pd.crosstab(y_pred, y_train, rownames=['Actual'], colnames=['Predicted'])\n",
        "\n"
      ],
      "execution_count": 0,
      "outputs": [
        {
          "output_type": "stream",
          "text": [
            "feature : LeadTime\n",
            "coefficient: [[0.0058354]]\n",
            "intercept: [-1.16668895]\n",
            "Accuracy = 0.6612502442974006\n",
            "AUC = 0.69\n",
            "LogLoss = 0.62\n",
            "F1_score = 0.62\n",
            "Matthews_corr = 0.21\n",
            "\n",
            " Confusion matrix\n"
          ],
          "name": "stdout"
        },
        {
          "output_type": "execute_result",
          "data": {
            "text/html": [
              "<div>\n",
              "<style scoped>\n",
              "    .dataframe tbody tr th:only-of-type {\n",
              "        vertical-align: middle;\n",
              "    }\n",
              "\n",
              "    .dataframe tbody tr th {\n",
              "        vertical-align: top;\n",
              "    }\n",
              "\n",
              "    .dataframe thead th {\n",
              "        text-align: right;\n",
              "    }\n",
              "</style>\n",
              "<table border=\"1\" class=\"dataframe\">\n",
              "  <thead>\n",
              "    <tr style=\"text-align: right;\">\n",
              "      <th>Predicted</th>\n",
              "      <th>0</th>\n",
              "      <th>1</th>\n",
              "    </tr>\n",
              "    <tr>\n",
              "      <th>Actual</th>\n",
              "      <th></th>\n",
              "      <th></th>\n",
              "    </tr>\n",
              "  </thead>\n",
              "  <tbody>\n",
              "    <tr>\n",
              "      <th>0</th>\n",
              "      <td>60064</td>\n",
              "      <td>28725</td>\n",
              "    </tr>\n",
              "    <tr>\n",
              "      <th>1</th>\n",
              "      <td>7674</td>\n",
              "      <td>10988</td>\n",
              "    </tr>\n",
              "  </tbody>\n",
              "</table>\n",
              "</div>"
            ],
            "text/plain": [
              "Predicted      0      1\n",
              "Actual                 \n",
              "0          60064  28725\n",
              "1           7674  10988"
            ]
          },
          "metadata": {
            "tags": []
          },
          "execution_count": 13
        }
      ]
    },
    {
      "cell_type": "code",
      "metadata": {
        "id": "ZB7k6TwRzFeQ",
        "colab_type": "code",
        "colab": {}
      },
      "source": [
        ""
      ],
      "execution_count": 0,
      "outputs": []
    },
    {
      "cell_type": "markdown",
      "metadata": {
        "id": "iZ4NMmdfrZPs",
        "colab_type": "text"
      },
      "source": [
        "### SVM (Support vector machine)"
      ]
    },
    {
      "cell_type": "markdown",
      "metadata": {
        "id": "CAYXJvdPetPr",
        "colab_type": "text"
      },
      "source": [
        "### XGboost\n",
        "\n",
        " “Extreme Gradient Boosting” is a method of converting weak learners into strong learners. In boosting, each new tree is a fit on a modified version of the original data set. "
      ]
    },
    {
      "cell_type": "code",
      "metadata": {
        "id": "t7qUyRrSeyzS",
        "colab_type": "code",
        "outputId": "0f2f0f95-4193-4102-e852-50f2272abdf2",
        "colab": {
          "base_uri": "https://localhost:8080/",
          "height": 470
        }
      },
      "source": [
        "### Function\n",
        "### XG Boosting with stratified CV and GridSearch\n",
        "\n",
        "def XGBC_Boss(X,Y,params):\n",
        "    \n",
        "  # time \n",
        "  _start_time = time.time()\n",
        "    \n",
        "  tic()\n",
        "  \n",
        "  # Splitting train and test\n",
        "  \n",
        "  x_train, x_test, y_train, y_test = train_test_split(X, Y, test_size=0.10, random_state=42)   \n",
        "  y_train= y_train.to_numpy().ravel()   #convert to (n,) array\n",
        "  y_test = y_test.to_numpy().ravel()    \n",
        "    \n",
        "  # Model\n",
        "    \n",
        "  xgbmodel=XGBClassifier()\n",
        "     \n",
        "  print('Fitting...')\n",
        "    \n",
        "  scoring = ['roc_auc']\n",
        "  refit='roc_auc'\n",
        "\n",
        "  kfold = model_selection.StratifiedShuffleSplit(n_splits=3, random_state=15)\n",
        "  grid_solver = GridSearchCV(estimator = xgbmodel, # model to train\n",
        "                     param_grid = params, # param_grid\n",
        "                     scoring = scoring,\n",
        "                     cv = kfold,\n",
        "                     n_jobs=3, \n",
        "                     refit = refit,\n",
        "                     verbose = 2)\n",
        "    \n",
        "  model_result_xgboost = grid_solver.fit(x_train,y_train)\n",
        "    \n",
        "  print('Best parameters: ',model_result_xgboost.best_estimator_)\n",
        "\n",
        "  # return predictions\n",
        "  Y_pred = pd.Series(model_result_xgboost.predict(x_train))\n",
        "  Y_prob= model_result_xgboost.predict_proba(x_train)\n",
        "    \n",
        "  # Metrics\n",
        "\n",
        "  print('***** RESULTS ***** \\n***** TRAIN *****')\n",
        "  clf_metrics(x_train,y_train,model_result_xgboost)\n",
        "        \n",
        "  print('***** TEST *****')\n",
        "  clf_metrics(x_test,y_test,model_result_xgboost)\n",
        "    \n",
        "  print('***** ALL DATA *****')\n",
        "  Y_pd = pd.DataFrame(Y_array)\n",
        "  y_pred,y_prob=clf_metrics(X,Y,model_result_xgboost)\n",
        "\n",
        "  tac() # time elapsed\n",
        "      \n",
        "  return Y_pred,Y_prob,model_result_xgboost\n",
        "\n",
        "# parameters\n",
        "\n",
        "params={'base_score': [0.8], \n",
        "         'booster': ['gbtree'],\n",
        "         'colsample_bylevel': [1], \n",
        "         'colsample_bytree': [0.8], \n",
        "         'gamma': [0.01],\n",
        "         'learning_rate': [0.01], \n",
        "         'max_depth': [6],\n",
        "         'min_child_weight': [1],\n",
        "         'missing': [None],\n",
        "         'n_estimators': [400],\n",
        "         'n_jobs': [-1], \n",
        "         'objective': ['binary:logistic'],\n",
        "         'random_state': [15], \n",
        "         'reg_alpha': [0.01], \n",
        "         'reg_lambda': [0.01],\n",
        "         'scale_pos_weight': [1],\n",
        "         'subsample': [0.9]}  \n",
        "\n",
        "Y_pred,Y_prob,model_result_xgboost=XGBC_Boss(X,Y,params)"
      ],
      "execution_count": 0,
      "outputs": [
        {
          "output_type": "stream",
          "text": [
            "Fitting...\n",
            "Fitting 3 folds for each of 1 candidates, totalling 3 fits\n"
          ],
          "name": "stdout"
        },
        {
          "output_type": "stream",
          "text": [
            "[Parallel(n_jobs=3)]: Using backend LokyBackend with 3 concurrent workers.\n",
            "[Parallel(n_jobs=3)]: Done   3 out of   3 | elapsed:    2.1s finished\n"
          ],
          "name": "stderr"
        },
        {
          "output_type": "error",
          "ename": "ValueError",
          "evalue": "ignored",
          "traceback": [
            "\u001b[0;31m---------------------------------------------------------------------------\u001b[0m",
            "\u001b[0;31mValueError\u001b[0m                                Traceback (most recent call last)",
            "\u001b[0;32m<ipython-input-14-5ddb97abb157>\u001b[0m in \u001b[0;36m<module>\u001b[0;34m()\u001b[0m\n\u001b[1;32m     77\u001b[0m          'subsample': [0.9]}  \n\u001b[1;32m     78\u001b[0m \u001b[0;34m\u001b[0m\u001b[0m\n\u001b[0;32m---> 79\u001b[0;31m \u001b[0mY_pred\u001b[0m\u001b[0;34m,\u001b[0m\u001b[0mY_prob\u001b[0m\u001b[0;34m,\u001b[0m\u001b[0mmodel_result_xgboost\u001b[0m\u001b[0;34m=\u001b[0m\u001b[0mXGBC_Boss\u001b[0m\u001b[0;34m(\u001b[0m\u001b[0mX\u001b[0m\u001b[0;34m,\u001b[0m\u001b[0mY\u001b[0m\u001b[0;34m,\u001b[0m\u001b[0mparams\u001b[0m\u001b[0;34m)\u001b[0m\u001b[0;34m\u001b[0m\u001b[0;34m\u001b[0m\u001b[0m\n\u001b[0m",
            "\u001b[0;32m<ipython-input-14-5ddb97abb157>\u001b[0m in \u001b[0;36mXGBC_Boss\u001b[0;34m(X, Y, params)\u001b[0m\n\u001b[1;32m     33\u001b[0m                      verbose = 2)\n\u001b[1;32m     34\u001b[0m \u001b[0;34m\u001b[0m\u001b[0m\n\u001b[0;32m---> 35\u001b[0;31m   \u001b[0mmodel_result_xgboost\u001b[0m \u001b[0;34m=\u001b[0m \u001b[0mgrid_solver\u001b[0m\u001b[0;34m.\u001b[0m\u001b[0mfit\u001b[0m\u001b[0;34m(\u001b[0m\u001b[0mx_train\u001b[0m\u001b[0;34m,\u001b[0m\u001b[0my_train\u001b[0m\u001b[0;34m)\u001b[0m\u001b[0;34m\u001b[0m\u001b[0;34m\u001b[0m\u001b[0m\n\u001b[0m\u001b[1;32m     36\u001b[0m \u001b[0;34m\u001b[0m\u001b[0m\n\u001b[1;32m     37\u001b[0m   \u001b[0mprint\u001b[0m\u001b[0;34m(\u001b[0m\u001b[0;34m'Best parameters: '\u001b[0m\u001b[0;34m,\u001b[0m\u001b[0mmodel_result_xgboost\u001b[0m\u001b[0;34m.\u001b[0m\u001b[0mbest_estimator_\u001b[0m\u001b[0;34m)\u001b[0m\u001b[0;34m\u001b[0m\u001b[0;34m\u001b[0m\u001b[0m\n",
            "\u001b[0;32m/usr/local/lib/python3.6/dist-packages/sklearn/model_selection/_search.py\u001b[0m in \u001b[0;36mfit\u001b[0;34m(self, X, y, groups, **fit_params)\u001b[0m\n\u001b[1;32m    737\u001b[0m             \u001b[0mrefit_start_time\u001b[0m \u001b[0;34m=\u001b[0m \u001b[0mtime\u001b[0m\u001b[0;34m.\u001b[0m\u001b[0mtime\u001b[0m\u001b[0;34m(\u001b[0m\u001b[0;34m)\u001b[0m\u001b[0;34m\u001b[0m\u001b[0;34m\u001b[0m\u001b[0m\n\u001b[1;32m    738\u001b[0m             \u001b[0;32mif\u001b[0m \u001b[0my\u001b[0m \u001b[0;32mis\u001b[0m \u001b[0;32mnot\u001b[0m \u001b[0;32mNone\u001b[0m\u001b[0;34m:\u001b[0m\u001b[0;34m\u001b[0m\u001b[0;34m\u001b[0m\u001b[0m\n\u001b[0;32m--> 739\u001b[0;31m                 \u001b[0mself\u001b[0m\u001b[0;34m.\u001b[0m\u001b[0mbest_estimator_\u001b[0m\u001b[0;34m.\u001b[0m\u001b[0mfit\u001b[0m\u001b[0;34m(\u001b[0m\u001b[0mX\u001b[0m\u001b[0;34m,\u001b[0m \u001b[0my\u001b[0m\u001b[0;34m,\u001b[0m \u001b[0;34m**\u001b[0m\u001b[0mfit_params\u001b[0m\u001b[0;34m)\u001b[0m\u001b[0;34m\u001b[0m\u001b[0;34m\u001b[0m\u001b[0m\n\u001b[0m\u001b[1;32m    740\u001b[0m             \u001b[0;32melse\u001b[0m\u001b[0;34m:\u001b[0m\u001b[0;34m\u001b[0m\u001b[0;34m\u001b[0m\u001b[0m\n\u001b[1;32m    741\u001b[0m                 \u001b[0mself\u001b[0m\u001b[0;34m.\u001b[0m\u001b[0mbest_estimator_\u001b[0m\u001b[0;34m.\u001b[0m\u001b[0mfit\u001b[0m\u001b[0;34m(\u001b[0m\u001b[0mX\u001b[0m\u001b[0;34m,\u001b[0m \u001b[0;34m**\u001b[0m\u001b[0mfit_params\u001b[0m\u001b[0;34m)\u001b[0m\u001b[0;34m\u001b[0m\u001b[0;34m\u001b[0m\u001b[0m\n",
            "\u001b[0;32m/usr/local/lib/python3.6/dist-packages/xgboost/sklearn.py\u001b[0m in \u001b[0;36mfit\u001b[0;34m(self, X, y, sample_weight, eval_set, eval_metric, early_stopping_rounds, verbose, xgb_model, sample_weight_eval_set, callbacks)\u001b[0m\n\u001b[1;32m    724\u001b[0m         \u001b[0;32melse\u001b[0m\u001b[0;34m:\u001b[0m\u001b[0;34m\u001b[0m\u001b[0;34m\u001b[0m\u001b[0m\n\u001b[1;32m    725\u001b[0m             train_dmatrix = DMatrix(X, label=training_labels,\n\u001b[0;32m--> 726\u001b[0;31m                                     missing=self.missing, nthread=self.n_jobs)\n\u001b[0m\u001b[1;32m    727\u001b[0m \u001b[0;34m\u001b[0m\u001b[0m\n\u001b[1;32m    728\u001b[0m         self._Booster = train(xgb_options, train_dmatrix, self.get_num_boosting_rounds(),\n",
            "\u001b[0;32m/usr/local/lib/python3.6/dist-packages/xgboost/core.py\u001b[0m in \u001b[0;36m__init__\u001b[0;34m(self, data, label, missing, weight, silent, feature_names, feature_types, nthread)\u001b[0m\n\u001b[1;32m    378\u001b[0m         data, feature_names, feature_types = _maybe_pandas_data(data,\n\u001b[1;32m    379\u001b[0m                                                                 \u001b[0mfeature_names\u001b[0m\u001b[0;34m,\u001b[0m\u001b[0;34m\u001b[0m\u001b[0;34m\u001b[0m\u001b[0m\n\u001b[0;32m--> 380\u001b[0;31m                                                                 feature_types)\n\u001b[0m\u001b[1;32m    381\u001b[0m \u001b[0;34m\u001b[0m\u001b[0m\n\u001b[1;32m    382\u001b[0m         data, feature_names, feature_types = _maybe_dt_data(data,\n",
            "\u001b[0;32m/usr/local/lib/python3.6/dist-packages/xgboost/core.py\u001b[0m in \u001b[0;36m_maybe_pandas_data\u001b[0;34m(data, feature_names, feature_types)\u001b[0m\n\u001b[1;32m    237\u001b[0m         msg = \"\"\"DataFrame.dtypes for data must be int, float or bool.\n\u001b[1;32m    238\u001b[0m                 Did not expect the data types in fields \"\"\"\n\u001b[0;32m--> 239\u001b[0;31m         \u001b[0;32mraise\u001b[0m \u001b[0mValueError\u001b[0m\u001b[0;34m(\u001b[0m\u001b[0mmsg\u001b[0m \u001b[0;34m+\u001b[0m \u001b[0;34m', '\u001b[0m\u001b[0;34m.\u001b[0m\u001b[0mjoin\u001b[0m\u001b[0;34m(\u001b[0m\u001b[0mbad_fields\u001b[0m\u001b[0;34m)\u001b[0m\u001b[0;34m)\u001b[0m\u001b[0;34m\u001b[0m\u001b[0;34m\u001b[0m\u001b[0m\n\u001b[0m\u001b[1;32m    240\u001b[0m \u001b[0;34m\u001b[0m\u001b[0m\n\u001b[1;32m    241\u001b[0m     \u001b[0;32mif\u001b[0m \u001b[0mfeature_names\u001b[0m \u001b[0;32mis\u001b[0m \u001b[0;32mNone\u001b[0m\u001b[0;34m:\u001b[0m\u001b[0;34m\u001b[0m\u001b[0;34m\u001b[0m\u001b[0m\n",
            "\u001b[0;31mValueError\u001b[0m: DataFrame.dtypes for data must be int, float or bool.\n                Did not expect the data types in fields Meal, MarketSegment, DistributionChannel, ReservedRoomType, AssignedRoomType, DepositType, CustomerType, ReservationStatus, Hotel"
          ]
        }
      ]
    },
    {
      "cell_type": "markdown",
      "metadata": {
        "id": "RjDn7xBq60AG",
        "colab_type": "text"
      },
      "source": [
        "Results\n",
        "\n",
        ">Split | Accuracy |  AUC |  Logloss\n",
        ">--- | --- | --- | ---\n",
        ">TRAIN | 0.82902 | 0,90 | 0,37\n",
        ">TEST | 0.82988 | 0,90 | 0,37\n",
        ">ALL | 0.82911 | 0,90 | 0,37"
      ]
    },
    {
      "cell_type": "markdown",
      "metadata": {
        "id": "GFZvH3r5-VCD",
        "colab_type": "text"
      },
      "source": [
        "Features used in the model"
      ]
    },
    {
      "cell_type": "code",
      "metadata": {
        "id": "Zy5YAEWH9Xgt",
        "colab_type": "code",
        "outputId": "eef5667c-7b2b-456d-a8d4-7e59bd15e5e7",
        "colab": {
          "base_uri": "https://localhost:8080/",
          "height": 532
        }
      },
      "source": [
        "#xgbm=model_result_xgboost.best_estimator_\n",
        "\n",
        "# Plot importance\n",
        "#fig, ax = plt.subplots(figsize=(20, 15))\n",
        "fig, ax = plt.subplots(figsize=(12, 8))\n",
        "xgb.plot_importance(model_result_xgboost.best_estimator_,ax=ax)"
      ],
      "execution_count": 0,
      "outputs": [
        {
          "output_type": "execute_result",
          "data": {
            "text/plain": [
              "<matplotlib.axes._subplots.AxesSubplot at 0x7f8134aa6ac8>"
            ]
          },
          "metadata": {
            "tags": []
          },
          "execution_count": 76
        },
        {
          "output_type": "display_data",
          "data": {
            "image/png": "[encoded data removed]",
            "text/plain": [
              "<Figure size 864x576 with 1 Axes>"
            ]
          },
          "metadata": {
            "tags": [],
            "needs_background": "light"
          }
        }
      ]
    },
    {
      "cell_type": "markdown",
      "metadata": {
        "id": "UeOLRS26tSKw",
        "colab_type": "text"
      },
      "source": [
        "### LightGBM"
      ]
    },
    {
      "cell_type": "code",
      "metadata": {
        "id": "x8eJZk-Ormlk",
        "colab_type": "code",
        "outputId": "27c769f7-d9a8-4477-c1f1-026a6e5ae1bd",
        "colab": {
          "base_uri": "https://localhost:8080/",
          "height": 598
        }
      },
      "source": [
        "### Function\n",
        "### LightGBM using stratified cross validation and GridSearch\n",
        "\n",
        "def light_LGBM(X,y,param_grid):\n",
        "    \n",
        "  _start_time = time.time()\n",
        "  tic()\n",
        "     \n",
        "  indexes_of_categories=[]\n",
        "    \n",
        "  lbl = preprocessing.LabelEncoder()\n",
        "    \n",
        "  for i in range(X.shape[1]):\n",
        "      if X.dtypes[i]=='object':\n",
        "          indexes_of_categories.append(i)\n",
        "          lbl.fit(X.iloc[:,i])\n",
        "          X.iloc[:,i]=lbl.transform(X.iloc[:,i])\n",
        "        \n",
        "  # Splitting\n",
        "           \n",
        "  X_train, X_test, y_train, y_test = train_test_split(X, y, test_size=0.10, random_state=42)    \n",
        "  y_train= y_train.to_numpy().ravel()   #convert to (n,) array\n",
        "  y_test = y_test.to_numpy().ravel()         \n",
        "          \n",
        "  Kfold = model_selection.StratifiedShuffleSplit(n_splits=3, random_state=15)          \n",
        "  gkf = KFold(n_splits=5, shuffle=True, random_state=42).split(X=X_train, y=y_train)\n",
        "     \n",
        "  lgb_estimator = lgb.LGBMClassifier(boosting_type='gbdt',  objective='binary') \n",
        "\n",
        "  print('Fitting...')\n",
        "    \n",
        "  scoring = ['roc_auc']\n",
        "  refit='roc_auc'\n",
        "     \n",
        "  gsearch = GridSearchCV(estimator=lgb_estimator, \n",
        "                         param_grid=param_grid, \n",
        "                         cv=gkf,scoring=scoring,\n",
        "                         refit=refit,\n",
        "                         verbose = 2)\n",
        "    \n",
        "  lgb_model = gsearch.fit(X=X_train, y=y_train)\n",
        "    \n",
        "  print('Results ********** ')\n",
        "      \n",
        "  print('Best parameters:',str(lgb_model.best_params_))\n",
        "   \n",
        "  print('********** TRAIN ********** ')\n",
        "  clf_metrics(X_train,y_train,lgb_model)\n",
        "        \n",
        "  print('********** TEST ********** ')\n",
        "  clf_metrics(X_test,y_test,lgb_model)\n",
        "    \n",
        "  print('********** ALL DATA ********** ')\n",
        "  y_pred,y_prob=clf_metrics(X,y,lgb_model)\n",
        "     \n",
        "  # Plot importance PENDING\n",
        "  # fig, ax = plt.subplots(figsize=(20, 15))\n",
        "    \n",
        "  # lgb.plot_importance(lgb_estimator,ax=ax)\n",
        "  # lgb.plot_importance(gsearch.Booster,ax=ax)\n",
        "  # lgb.plot_importance(lgb_model.Booster_Booster,ax=ax)\n",
        "  # lgb.plot_importance(lgb_model,ax=ax)\n",
        "    \n",
        "  # plot_tree(lgb_model._Booster)\n",
        "    \n",
        "    \n",
        "  # lgb_model.plot_importance()\n",
        "  # # fig = plot_imp.figure\n",
        "  # # fig.set_size_inches(5, 10)\n",
        "  # plt.savefig('lightLGBM.png')\n",
        "         \n",
        "  # time\n",
        "  tac()\n",
        "    \n",
        "  return y_pred,y_prob,\n",
        "\n",
        "\n",
        "param_grid = {\n",
        "'num_leaves': [31],\n",
        "'learning_rate':[0.1],\n",
        "'min_data_in_leaf': [30],\n",
        "'lambda_l1': [0],\n",
        "'lambda_l2': [0],\n",
        "'max_depth': [3],\n",
        "}  \n",
        "\n",
        "y_pred,y_prob = light_LGBM(X,Y,param_grid)"
      ],
      "execution_count": 0,
      "outputs": [
        {
          "output_type": "stream",
          "text": [
            "Fitting...\n",
            "Fitting 5 folds for each of 1 candidates, totalling 5 fits\n",
            "[CV] lambda_l1=0, lambda_l2=0, learning_rate=0.1, max_depth=3, min_data_in_leaf=30, num_leaves=31 \n"
          ],
          "name": "stdout"
        },
        {
          "output_type": "stream",
          "text": [
            "[Parallel(n_jobs=1)]: Using backend SequentialBackend with 1 concurrent workers.\n"
          ],
          "name": "stderr"
        },
        {
          "output_type": "stream",
          "text": [
            "[CV]  lambda_l1=0, lambda_l2=0, learning_rate=0.1, max_depth=3, min_data_in_leaf=30, num_leaves=31, total=   1.5s\n",
            "[CV] lambda_l1=0, lambda_l2=0, learning_rate=0.1, max_depth=3, min_data_in_leaf=30, num_leaves=31 \n"
          ],
          "name": "stdout"
        },
        {
          "output_type": "stream",
          "text": [
            "[Parallel(n_jobs=1)]: Done   1 out of   1 | elapsed:    1.5s remaining:    0.0s\n"
          ],
          "name": "stderr"
        },
        {
          "output_type": "stream",
          "text": [
            "[CV]  lambda_l1=0, lambda_l2=0, learning_rate=0.1, max_depth=3, min_data_in_leaf=30, num_leaves=31, total=   1.5s\n",
            "[CV] lambda_l1=0, lambda_l2=0, learning_rate=0.1, max_depth=3, min_data_in_leaf=30, num_leaves=31 \n",
            "[CV]  lambda_l1=0, lambda_l2=0, learning_rate=0.1, max_depth=3, min_data_in_leaf=30, num_leaves=31, total=   1.6s\n",
            "[CV] lambda_l1=0, lambda_l2=0, learning_rate=0.1, max_depth=3, min_data_in_leaf=30, num_leaves=31 \n",
            "[CV]  lambda_l1=0, lambda_l2=0, learning_rate=0.1, max_depth=3, min_data_in_leaf=30, num_leaves=31, total=   1.5s\n",
            "[CV] lambda_l1=0, lambda_l2=0, learning_rate=0.1, max_depth=3, min_data_in_leaf=30, num_leaves=31 \n",
            "[CV]  lambda_l1=0, lambda_l2=0, learning_rate=0.1, max_depth=3, min_data_in_leaf=30, num_leaves=31, total=   1.5s\n"
          ],
          "name": "stdout"
        },
        {
          "output_type": "stream",
          "text": [
            "[Parallel(n_jobs=1)]: Done   5 out of   5 | elapsed:    7.6s finished\n"
          ],
          "name": "stderr"
        },
        {
          "output_type": "stream",
          "text": [
            "Results ********** \n",
            "Best parameters: {'lambda_l1': 0, 'lambda_l2': 0, 'learning_rate': 0.1, 'max_depth': 3, 'min_data_in_leaf': 30, 'num_leaves': 31}\n",
            "********** TRAIN ********** \n",
            "Accuracy = 0.8264418199923687\n",
            "AUC = 0.90\n",
            "LogLoss = 0.37\n",
            "********** TEST ********** \n",
            "Accuracy = 0.829047658932909\n",
            "AUC = 0.90\n",
            "LogLoss = 0.37\n",
            "********** ALL DATA ********** \n",
            "Accuracy = 0.8267024038864227\n",
            "AUC = 0.90\n",
            "LogLoss = 0.37\n",
            "Time passed: 0hour:0min:11sec\n"
          ],
          "name": "stdout"
        }
      ]
    },
    {
      "cell_type": "markdown",
      "metadata": {
        "id": "acDGua88rjzM",
        "colab_type": "text"
      },
      "source": [
        "### Neural network"
      ]
    }
  ]
}