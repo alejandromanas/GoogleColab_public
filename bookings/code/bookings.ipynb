{
  "nbformat": 4,
  "nbformat_minor": 0,
  "metadata": {
    "colab": {
      "name": "Bookings.ipynb",
      "provenance": [],
      "collapsed_sections": [],
      "toc_visible": true,
      "authorship_tag": "ABX9TyPRTj7eZOqbA2mc8c8wvIGP",
      "include_colab_link": true
    },
    "kernelspec": {
      "name": "python3",
      "display_name": "Python 3"
    }
  },
  "cells": [
    {
      "cell_type": "markdown",
      "metadata": {
        "id": "view-in-github",
        "colab_type": "text"
      },
      "source": [
        "<a href=\"https://colab.research.google.com/github/alejandromanas/GoogleColab_public/blob/master/bookings/code/bookings.ipynb\" target=\"_parent\"><img src=\"https://colab.research.google.com/assets/colab-badge.svg\" alt=\"Open In Colab\"/></a>"
      ]
    },
    {
      "cell_type": "markdown",
      "metadata": {
        "id": "2cyv7rxFtQ2F",
        "colab_type": "text"
      },
      "source": [
        "# **Booking cancellation prediction**\n",
        "\n",
        "Before you begin, I recommend you to open this notebook in Google colab. You will be able to run python code without having a powerful computer and you can browse quickly through different sections of the document.\n",
        "\n",
        "\n",
        "Booking cancellations generates a big impact on transport and hotel industries and contributes negatively to the generation of accurate forecasts. Cancellation rate can range from 20% to 60% depending on the hotel type and location. A good predictive model of cancellation could reduces losses ensuring better decision-making in the following areas:\n",
        "\n",
        "* Booking management- Get a better forecast of net demand (bookings - cancellations)\n",
        "\n",
        "* Revenue Management- Improves information quality (net demanad) to optimize pricing management\n",
        "\n",
        "* Resource management- Optimize purchasing planning, services of external suppliers and staff organization. \n",
        "\n",
        "* Overbooking policies- Reduce the additional costs of acomodate guests in other hotels and the loss of confidence and bad publicity (bad reviews) that it can cause.\n",
        "\n",
        "The purpose of this notebook is to show several supervised classification models that allows to predict if a hotel booking will be canceled in the future. \n",
        "\n",
        "The algorithms used are: \n",
        "* Logistic regression\n",
        "* SVM (Support Vector Machine)\n",
        "* XGBoost\n",
        "* LightGBM \n",
        "* Neural network"
      ]
    },
    {
      "cell_type": "markdown",
      "metadata": {
        "id": "UM_f4iFGabfl",
        "colab_type": "text"
      },
      "source": [
        "### Libraries & basic functions"
      ]
    },
    {
      "cell_type": "code",
      "metadata": {
        "id": "Qk6izRTUaYsy",
        "colab_type": "code",
        "colab": {}
      },
      "source": [
        "#import matplotlib.pyplot as plt\n",
        "\n",
        "#import xgboost as xgb\n",
        "#from xgboost import XGBClassifier\n",
        "#from sklearn.model_selection import GridSearchCV\n",
        "#import lightgbm as lgb\n",
        "#from sklearn.model_selection import KFold\n",
        "\n",
        "#import warnings\n",
        "#warnings.filterwarnings(\"ignore\")\n",
        "\n"
      ],
      "execution_count": 0,
      "outputs": []
    },
    {
      "cell_type": "markdown",
      "metadata": {
        "id": "sqd54bXZbGuQ",
        "colab_type": "text"
      },
      "source": [
        "### Loading Data\n",
        "\n",
        "Data used in the analysis was obtained from an article entitled \"Hotel booking demand datasets\"  and written by Nuno Antonio, Anade Almeid and Luis Nunes (https://www.sciencedirect.com/science/article/pii/S2352340918315191).\n",
        "\n",
        "The article includes a dataset with 120,000 reservations from two hotels of one of the major portuguese hotels brand. Both hotels have more than 200 rooms and a four stars rating. One is a city hotel located in Lisbon and the other is a resort hotel in the Algarve. The reservations have an arrival date between 1st July 2015 and 31th August 2017. \n",
        "\n",
        "Each reservation includes about 31 features or columns. Some of them are:\n",
        "* Booking status (cancelled or not cancelled)\n",
        "* Lead time\n",
        "* Number of nights (weekdays and weekends)\n",
        "* Average price per night\n",
        "* Distribution channel\n",
        "* Market segment\n",
        "* Room type\n",
        "* Number of guests (babes, childs or adults)"
      ]
    },
    {
      "cell_type": "markdown",
      "metadata": {
        "id": "ey058_GDMNQW",
        "colab_type": "text"
      },
      "source": [
        "Importing data from public github repository "
      ]
    },
    {
      "cell_type": "code",
      "metadata": {
        "id": "IgaDoxhdUUex",
        "colab_type": "code",
        "colab": {}
      },
      "source": [
        "import pandas as pd\n",
        "\n",
        "H1 = pd.read_csv(\"https://raw.githubusercontent.com/alejandromanas/GoogleColab_public/master/bookings/files/H1.csv\", delimiter = ',')\n",
        "H1['Hotel']='Resort'\n",
        "\n",
        "#outcome 'IsCancelled'\n",
        "H2 = pd.read_csv(\"https://raw.githubusercontent.com/alejandromanas/GoogleColab_public/master/bookings/files/H2.csv\", delimiter = ',')\n",
        "H2['Hotel']='Urban'\n",
        "\n",
        "df_raw=[]\n",
        "df_data=[]\n",
        "df_raw=pd.concat([H1,H2], axis=0,ignore_index=True)"
      ],
      "execution_count": 0,
      "outputs": []
    },
    {
      "cell_type": "markdown",
      "metadata": {
        "id": "rZTyCYynjBjZ",
        "colab_type": "text"
      },
      "source": [
        "### Data Analysis"
      ]
    },
    {
      "cell_type": "markdown",
      "metadata": {
        "id": "daA09XHeB3IC",
        "colab_type": "text"
      },
      "source": [
        "**Data overview**"
      ]
    },
    {
      "cell_type": "code",
      "metadata": {
        "id": "jQegvKkjAQh-",
        "colab_type": "code",
        "outputId": "b49fce6b-f741-45cc-b3a2-6045a6c4fa91",
        "colab": {
          "base_uri": "https://localhost:8080/",
          "height": 320
        }
      },
      "source": [
        "df_analysis = df_raw.copy()\n",
        "df_analysis.describe()"
      ],
      "execution_count": 0,
      "outputs": [
        {
          "output_type": "execute_result",
          "data": {
            "text/html": [
              "<div>\n",
              "<style scoped>\n",
              "    .dataframe tbody tr th:only-of-type {\n",
              "        vertical-align: middle;\n",
              "    }\n",
              "\n",
              "    .dataframe tbody tr th {\n",
              "        vertical-align: top;\n",
              "    }\n",
              "\n",
              "    .dataframe thead th {\n",
              "        text-align: right;\n",
              "    }\n",
              "</style>\n",
              "<table border=\"1\" class=\"dataframe\">\n",
              "  <thead>\n",
              "    <tr style=\"text-align: right;\">\n",
              "      <th></th>\n",
              "      <th>IsCanceled</th>\n",
              "      <th>LeadTime</th>\n",
              "      <th>ArrivalDateYear</th>\n",
              "      <th>ArrivalDateWeekNumber</th>\n",
              "      <th>ArrivalDateDayOfMonth</th>\n",
              "      <th>StaysInWeekendNights</th>\n",
              "      <th>StaysInWeekNights</th>\n",
              "      <th>Adults</th>\n",
              "      <th>Children</th>\n",
              "      <th>Babies</th>\n",
              "      <th>IsRepeatedGuest</th>\n",
              "      <th>PreviousCancellations</th>\n",
              "      <th>PreviousBookingsNotCanceled</th>\n",
              "      <th>BookingChanges</th>\n",
              "      <th>DaysInWaitingList</th>\n",
              "      <th>ADR</th>\n",
              "      <th>RequiredCarParkingSpaces</th>\n",
              "      <th>TotalOfSpecialRequests</th>\n",
              "    </tr>\n",
              "  </thead>\n",
              "  <tbody>\n",
              "    <tr>\n",
              "      <th>count</th>\n",
              "      <td>119390.000000</td>\n",
              "      <td>119390.000000</td>\n",
              "      <td>119390.000000</td>\n",
              "      <td>119390.000000</td>\n",
              "      <td>119390.000000</td>\n",
              "      <td>119390.000000</td>\n",
              "      <td>119390.000000</td>\n",
              "      <td>119390.000000</td>\n",
              "      <td>119386.000000</td>\n",
              "      <td>119390.000000</td>\n",
              "      <td>119390.000000</td>\n",
              "      <td>119390.000000</td>\n",
              "      <td>119390.000000</td>\n",
              "      <td>119390.000000</td>\n",
              "      <td>119390.000000</td>\n",
              "      <td>119390.000000</td>\n",
              "      <td>119390.000000</td>\n",
              "      <td>119390.000000</td>\n",
              "    </tr>\n",
              "    <tr>\n",
              "      <th>mean</th>\n",
              "      <td>0.370416</td>\n",
              "      <td>104.011416</td>\n",
              "      <td>2016.156554</td>\n",
              "      <td>27.165173</td>\n",
              "      <td>15.798241</td>\n",
              "      <td>0.927599</td>\n",
              "      <td>2.500302</td>\n",
              "      <td>1.856403</td>\n",
              "      <td>0.103890</td>\n",
              "      <td>0.007949</td>\n",
              "      <td>0.031912</td>\n",
              "      <td>0.087118</td>\n",
              "      <td>0.137097</td>\n",
              "      <td>0.221124</td>\n",
              "      <td>2.321149</td>\n",
              "      <td>101.831122</td>\n",
              "      <td>0.062518</td>\n",
              "      <td>0.571363</td>\n",
              "    </tr>\n",
              "    <tr>\n",
              "      <th>std</th>\n",
              "      <td>0.482918</td>\n",
              "      <td>106.863097</td>\n",
              "      <td>0.707476</td>\n",
              "      <td>13.605138</td>\n",
              "      <td>8.780829</td>\n",
              "      <td>0.998613</td>\n",
              "      <td>1.908286</td>\n",
              "      <td>0.579261</td>\n",
              "      <td>0.398561</td>\n",
              "      <td>0.097436</td>\n",
              "      <td>0.175767</td>\n",
              "      <td>0.844336</td>\n",
              "      <td>1.497437</td>\n",
              "      <td>0.652306</td>\n",
              "      <td>17.594721</td>\n",
              "      <td>50.535790</td>\n",
              "      <td>0.245291</td>\n",
              "      <td>0.792798</td>\n",
              "    </tr>\n",
              "    <tr>\n",
              "      <th>min</th>\n",
              "      <td>0.000000</td>\n",
              "      <td>0.000000</td>\n",
              "      <td>2015.000000</td>\n",
              "      <td>1.000000</td>\n",
              "      <td>1.000000</td>\n",
              "      <td>0.000000</td>\n",
              "      <td>0.000000</td>\n",
              "      <td>0.000000</td>\n",
              "      <td>0.000000</td>\n",
              "      <td>0.000000</td>\n",
              "      <td>0.000000</td>\n",
              "      <td>0.000000</td>\n",
              "      <td>0.000000</td>\n",
              "      <td>0.000000</td>\n",
              "      <td>0.000000</td>\n",
              "      <td>-6.380000</td>\n",
              "      <td>0.000000</td>\n",
              "      <td>0.000000</td>\n",
              "    </tr>\n",
              "    <tr>\n",
              "      <th>25%</th>\n",
              "      <td>0.000000</td>\n",
              "      <td>18.000000</td>\n",
              "      <td>2016.000000</td>\n",
              "      <td>16.000000</td>\n",
              "      <td>8.000000</td>\n",
              "      <td>0.000000</td>\n",
              "      <td>1.000000</td>\n",
              "      <td>2.000000</td>\n",
              "      <td>0.000000</td>\n",
              "      <td>0.000000</td>\n",
              "      <td>0.000000</td>\n",
              "      <td>0.000000</td>\n",
              "      <td>0.000000</td>\n",
              "      <td>0.000000</td>\n",
              "      <td>0.000000</td>\n",
              "      <td>69.290000</td>\n",
              "      <td>0.000000</td>\n",
              "      <td>0.000000</td>\n",
              "    </tr>\n",
              "    <tr>\n",
              "      <th>50%</th>\n",
              "      <td>0.000000</td>\n",
              "      <td>69.000000</td>\n",
              "      <td>2016.000000</td>\n",
              "      <td>28.000000</td>\n",
              "      <td>16.000000</td>\n",
              "      <td>1.000000</td>\n",
              "      <td>2.000000</td>\n",
              "      <td>2.000000</td>\n",
              "      <td>0.000000</td>\n",
              "      <td>0.000000</td>\n",
              "      <td>0.000000</td>\n",
              "      <td>0.000000</td>\n",
              "      <td>0.000000</td>\n",
              "      <td>0.000000</td>\n",
              "      <td>0.000000</td>\n",
              "      <td>94.575000</td>\n",
              "      <td>0.000000</td>\n",
              "      <td>0.000000</td>\n",
              "    </tr>\n",
              "    <tr>\n",
              "      <th>75%</th>\n",
              "      <td>1.000000</td>\n",
              "      <td>160.000000</td>\n",
              "      <td>2017.000000</td>\n",
              "      <td>38.000000</td>\n",
              "      <td>23.000000</td>\n",
              "      <td>2.000000</td>\n",
              "      <td>3.000000</td>\n",
              "      <td>2.000000</td>\n",
              "      <td>0.000000</td>\n",
              "      <td>0.000000</td>\n",
              "      <td>0.000000</td>\n",
              "      <td>0.000000</td>\n",
              "      <td>0.000000</td>\n",
              "      <td>0.000000</td>\n",
              "      <td>0.000000</td>\n",
              "      <td>126.000000</td>\n",
              "      <td>0.000000</td>\n",
              "      <td>1.000000</td>\n",
              "    </tr>\n",
              "    <tr>\n",
              "      <th>max</th>\n",
              "      <td>1.000000</td>\n",
              "      <td>737.000000</td>\n",
              "      <td>2017.000000</td>\n",
              "      <td>53.000000</td>\n",
              "      <td>31.000000</td>\n",
              "      <td>19.000000</td>\n",
              "      <td>50.000000</td>\n",
              "      <td>55.000000</td>\n",
              "      <td>10.000000</td>\n",
              "      <td>10.000000</td>\n",
              "      <td>1.000000</td>\n",
              "      <td>26.000000</td>\n",
              "      <td>72.000000</td>\n",
              "      <td>21.000000</td>\n",
              "      <td>391.000000</td>\n",
              "      <td>5400.000000</td>\n",
              "      <td>8.000000</td>\n",
              "      <td>5.000000</td>\n",
              "    </tr>\n",
              "  </tbody>\n",
              "</table>\n",
              "</div>"
            ],
            "text/plain": [
              "          IsCanceled  ...  TotalOfSpecialRequests\n",
              "count  119390.000000  ...           119390.000000\n",
              "mean        0.370416  ...                0.571363\n",
              "std         0.482918  ...                0.792798\n",
              "min         0.000000  ...                0.000000\n",
              "25%         0.000000  ...                0.000000\n",
              "50%         0.000000  ...                0.000000\n",
              "75%         1.000000  ...                1.000000\n",
              "max         1.000000  ...                5.000000\n",
              "\n",
              "[8 rows x 18 columns]"
            ]
          },
          "metadata": {
            "tags": []
          },
          "execution_count": 2
        }
      ]
    },
    {
      "cell_type": "markdown",
      "metadata": {
        "id": "Jy-LSopT7p6j",
        "colab_type": "text"
      },
      "source": [
        "**Analysing cancelation rates**\n"
      ]
    },
    {
      "cell_type": "code",
      "metadata": {
        "id": "WrSCAB6CjNvy",
        "colab_type": "code",
        "colab": {}
      },
      "source": [
        "import matplotlib.pyplot as plt\n",
        "\n",
        "#overall cancelation rate\n",
        "canc_rate=df_analysis.IsCanceled.sum()/len(df_analysis)*100\n",
        "print('Cancelation rate mean: %.2f' % canc_rate)\n",
        "\n",
        "\n",
        "df_analysis['ArrivalDateMonthNum']=df_analysis.ArrivalDateMonth.replace({ 'January' : '01', 'February' : '02', 'March' : '03', 'April' :'04', 'May': '05', 'June' : '06', 'July':'07', 'August' : '08', 'September' : '09', 'October' : '10', 'November': '11', 'December' : '12' })\n",
        "df_analysis['ArrivalDateYearMonth'] = df_analysis['ArrivalDateYear'].astype('str')+'-'+ df_analysis['ArrivalDateMonthNum'].astype('str')\n",
        "\n",
        "# GROUP BY\n",
        "col_name= 'ArrivalDateYearMonth'\n",
        "df=(df_analysis.groupby(['Hotel',col_name]).mean()['IsCanceled']*100).to_frame()\n",
        "df.reset_index(inplace=True)\n",
        "\n",
        "import seaborn as sns; sns.set()\n",
        "import matplotlib.pyplot as plt\n",
        "\n",
        "plt.figure(figsize=(14, 6))\n",
        "sns.set(style=\"whitegrid\")\n",
        "ax = sns.lineplot(x=\"ArrivalDateYearMonth\", y=\"IsCanceled\", hue=\"Hotel\", data=df,linewidth=5,palette=\"tab10\")\n",
        "ax.set_title(' % Booking cancelation by Hotel',fontsize=14)\n",
        "ax.set_xlabel('Year/Month',fontsize=14);\n",
        "ax.set_ylabel('% Cancellation',fontsize=14);\n",
        "ax.set_xticklabels(labels=df.ArrivalDateYearMonth,rotation=70,size=12);\n",
        "#plt.plot([df.ArrivalDateYearMonth[0], canc_rate], [df.ArrivalDateYearMonth.iloc[-1], canc_rate], linewidth=2)\n",
        "plt.axhline(y=canc_rate, color='grey', linestyle='--',linewidth=3)\n",
        "plt.show()"
      ],
      "execution_count": 0,
      "outputs": []
    },
    {
      "cell_type": "markdown",
      "metadata": {
        "id": "zpyJbtKZ9CoO",
        "colab_type": "text"
      },
      "source": [
        "**Agent**"
      ]
    },
    {
      "cell_type": "code",
      "metadata": {
        "id": "OEPjGnC1v85P",
        "colab_type": "code",
        "outputId": "58595251-f3ef-4b03-b5e8-fc18196f2b18",
        "colab": {
          "base_uri": "https://localhost:8080/",
          "height": 431
        }
      },
      "source": [
        "df_analysis.Agent.nunique() #334 unique values\n",
        "\n",
        "def levels_analysis(feature,n):\n",
        "  df=(df_analysis.groupby([feature]).count()['IsCanceled']\n",
        "      .sort_values(ascending=False).head(n)).to_frame().reset_index()\n",
        "  ax = sns.catplot(x=feature, y=\"IsCanceled\", kind=\"bar\", data=df)\n",
        "  ax.fig.set_figwidth(14)\n",
        "  ax.fig.set_figheight(6)\n",
        "  ax.fig.suptitle('Number of cancelations by ' + feature)\n",
        "\n",
        "  plt.show()\n",
        "\n",
        "levels_analysis('Agent',20)"
      ],
      "execution_count": 0,
      "outputs": [
        {
          "output_type": "display_data",
          "data": {
            "image/png": "[encoded data removed]",
            "text/plain": [
              "<Figure size 1008x432 with 1 Axes>"
            ]
          },
          "metadata": {
            "tags": []
          }
        }
      ]
    },
    {
      "cell_type": "code",
      "metadata": {
        "id": "ZSleqDpot_IJ",
        "colab_type": "code",
        "outputId": "f2793727-93db-4da6-9536-53ceab71ce72",
        "colab": {
          "base_uri": "https://localhost:8080/",
          "height": 235
        }
      },
      "source": [
        "df=(df_analysis.groupby(['Agent']).count()['IsCanceled']/len(df_analysis))*100\n",
        "df.sort_values(ascending=False).head(10)"
      ],
      "execution_count": 0,
      "outputs": [
        {
          "output_type": "execute_result",
          "data": {
            "text/plain": [
              "Agent\n",
              "          9    26.770249\n",
              "       NULL    13.686238\n",
              "        240    11.660943\n",
              "          1     6.023118\n",
              "         14     3.048832\n",
              "          7     2.964235\n",
              "          6     2.755675\n",
              "        250     2.403886\n",
              "        241     1.441494\n",
              "         28     1.395427\n",
              "Name: IsCanceled, dtype: float64"
            ]
          },
          "metadata": {
            "tags": []
          },
          "execution_count": 65
        }
      ]
    },
    {
      "cell_type": "markdown",
      "metadata": {
        "id": "vzmr4Fdd9H6P",
        "colab_type": "text"
      },
      "source": [
        "**Company**"
      ]
    },
    {
      "cell_type": "code",
      "metadata": {
        "id": "3Ir28293wPhz",
        "colab_type": "code",
        "outputId": "c70d2663-35bb-46ad-d06d-a87dc00e4784",
        "colab": {
          "base_uri": "https://localhost:8080/",
          "height": 431
        }
      },
      "source": [
        "df_analysis.Company.nunique() #353 unique values\n",
        "\n",
        "levels_analysis('Company',15)"
      ],
      "execution_count": 0,
      "outputs": [
        {
          "output_type": "display_data",
          "data": {
            "image/png": "[encoded data removed]",
            "text/plain": [
              "<Figure size 1008x432 with 1 Axes>"
            ]
          },
          "metadata": {
            "tags": []
          }
        }
      ]
    },
    {
      "cell_type": "markdown",
      "metadata": {
        "id": "V-UCDeDKXyRf",
        "colab_type": "text"
      },
      "source": [
        "For Company, 94% of rows are 'NULL'"
      ]
    },
    {
      "cell_type": "code",
      "metadata": {
        "id": "MH8bWUsbVTRE",
        "colab_type": "code",
        "outputId": "7e1ba258-0ca1-4e24-fecc-abad41d3c92b",
        "colab": {
          "base_uri": "https://localhost:8080/",
          "height": 235
        }
      },
      "source": [
        "  df=(df_analysis.groupby(['Company']).count()['IsCanceled']/len(df_analysis))*100\n",
        "  df.sort_values(ascending=False).head(10)"
      ],
      "execution_count": 0,
      "outputs": [
        {
          "output_type": "execute_result",
          "data": {
            "text/plain": [
              "Company\n",
              "       NULL    94.306893\n",
              "         40     0.776447\n",
              "        223     0.656671\n",
              "         67     0.223637\n",
              "         45     0.209398\n",
              "        153     0.180082\n",
              "        174     0.124801\n",
              "        219     0.118100\n",
              "        281     0.115588\n",
              "        154     0.111400\n",
              "Name: IsCanceled, dtype: float64"
            ]
          },
          "metadata": {
            "tags": []
          },
          "execution_count": 6
        }
      ]
    },
    {
      "cell_type": "markdown",
      "metadata": {
        "id": "5OGLmohrCOhN",
        "colab_type": "text"
      },
      "source": [
        "**ADR (Average daily rate)**"
      ]
    },
    {
      "cell_type": "code",
      "metadata": {
        "id": "GXzYJbyiCHtu",
        "colab_type": "code",
        "outputId": "a0e23af5-92e0-4719-abd4-38981609c284",
        "colab": {
          "base_uri": "https://localhost:8080/",
          "height": 383
        }
      },
      "source": [
        "df=df_analysis[df_analysis['ADR']< 5000][['IsCanceled','ADR']]\n",
        "#df.IsCanceled=df.IsCanceled.astype('str')\n",
        "sns.catplot(x=\"IsCanceled\", y=\"ADR\", kind=\"violin\", data=df)"
      ],
      "execution_count": 0,
      "outputs": [
        {
          "output_type": "execute_result",
          "data": {
            "text/plain": [
              "<seaborn.axisgrid.FacetGrid at 0x7f7729a5d9e8>"
            ]
          },
          "metadata": {
            "tags": []
          },
          "execution_count": 7
        },
        {
          "output_type": "display_data",
          "data": {
            "image/png": "[encoded data removed]",
            "text/plain": [
              "<Figure size 360x360 with 1 Axes>"
            ]
          },
          "metadata": {
            "tags": []
          }
        }
      ]
    },
    {
      "cell_type": "markdown",
      "metadata": {
        "id": "3Ak8rmKzEy_t",
        "colab_type": "text"
      },
      "source": [
        "ADR of 5400 EUR for 1 night x 2 Adults. Seems to be an error and will be deleted in preprocessing"
      ]
    },
    {
      "cell_type": "code",
      "metadata": {
        "id": "7fLQvqjRDBUM",
        "colab_type": "code",
        "outputId": "e332a892-9669-4035-81c7-93d7edc27cea",
        "colab": {
          "base_uri": "https://localhost:8080/",
          "height": 101
        }
      },
      "source": [
        "df_analysis[df_analysis['ADR']> 5000]"
      ],
      "execution_count": 0,
      "outputs": [
        {
          "output_type": "execute_result",
          "data": {
            "text/html": [
              "<div>\n",
              "<style scoped>\n",
              "    .dataframe tbody tr th:only-of-type {\n",
              "        vertical-align: middle;\n",
              "    }\n",
              "\n",
              "    .dataframe tbody tr th {\n",
              "        vertical-align: top;\n",
              "    }\n",
              "\n",
              "    .dataframe thead th {\n",
              "        text-align: right;\n",
              "    }\n",
              "</style>\n",
              "<table border=\"1\" class=\"dataframe\">\n",
              "  <thead>\n",
              "    <tr style=\"text-align: right;\">\n",
              "      <th></th>\n",
              "      <th>IsCanceled</th>\n",
              "      <th>LeadTime</th>\n",
              "      <th>ArrivalDateYear</th>\n",
              "      <th>ArrivalDateMonth</th>\n",
              "      <th>ArrivalDateWeekNumber</th>\n",
              "      <th>ArrivalDateDayOfMonth</th>\n",
              "      <th>StaysInWeekendNights</th>\n",
              "      <th>StaysInWeekNights</th>\n",
              "      <th>Adults</th>\n",
              "      <th>Children</th>\n",
              "      <th>Babies</th>\n",
              "      <th>Meal</th>\n",
              "      <th>Country</th>\n",
              "      <th>MarketSegment</th>\n",
              "      <th>DistributionChannel</th>\n",
              "      <th>IsRepeatedGuest</th>\n",
              "      <th>PreviousCancellations</th>\n",
              "      <th>PreviousBookingsNotCanceled</th>\n",
              "      <th>ReservedRoomType</th>\n",
              "      <th>AssignedRoomType</th>\n",
              "      <th>BookingChanges</th>\n",
              "      <th>DepositType</th>\n",
              "      <th>Agent</th>\n",
              "      <th>Company</th>\n",
              "      <th>DaysInWaitingList</th>\n",
              "      <th>CustomerType</th>\n",
              "      <th>ADR</th>\n",
              "      <th>RequiredCarParkingSpaces</th>\n",
              "      <th>TotalOfSpecialRequests</th>\n",
              "      <th>ReservationStatus</th>\n",
              "      <th>ReservationStatusDate</th>\n",
              "      <th>Hotel</th>\n",
              "      <th>ArrivalDateMonthNum</th>\n",
              "      <th>ArrivalDateYearMonth</th>\n",
              "    </tr>\n",
              "  </thead>\n",
              "  <tbody>\n",
              "    <tr>\n",
              "      <th>48515</th>\n",
              "      <td>1</td>\n",
              "      <td>35</td>\n",
              "      <td>2016</td>\n",
              "      <td>March</td>\n",
              "      <td>13</td>\n",
              "      <td>25</td>\n",
              "      <td>0</td>\n",
              "      <td>1</td>\n",
              "      <td>2</td>\n",
              "      <td>0.0</td>\n",
              "      <td>0</td>\n",
              "      <td>BB</td>\n",
              "      <td>PRT</td>\n",
              "      <td>Offline TA/TO</td>\n",
              "      <td>TA/TO</td>\n",
              "      <td>0</td>\n",
              "      <td>0</td>\n",
              "      <td>0</td>\n",
              "      <td>A</td>\n",
              "      <td>A</td>\n",
              "      <td>1</td>\n",
              "      <td>Non Refund</td>\n",
              "      <td>12</td>\n",
              "      <td>NULL</td>\n",
              "      <td>0</td>\n",
              "      <td>Transient</td>\n",
              "      <td>5400.0</td>\n",
              "      <td>0</td>\n",
              "      <td>0</td>\n",
              "      <td>Canceled</td>\n",
              "      <td>2016-02-19</td>\n",
              "      <td>Urban</td>\n",
              "      <td>03</td>\n",
              "      <td>2016-03</td>\n",
              "    </tr>\n",
              "  </tbody>\n",
              "</table>\n",
              "</div>"
            ],
            "text/plain": [
              "       IsCanceled  LeadTime  ...  ArrivalDateMonthNum ArrivalDateYearMonth\n",
              "48515           1        35  ...                   03              2016-03\n",
              "\n",
              "[1 rows x 34 columns]"
            ]
          },
          "metadata": {
            "tags": []
          },
          "execution_count": 51
        }
      ]
    },
    {
      "cell_type": "markdown",
      "metadata": {
        "id": "622dI-riFDfK",
        "colab_type": "text"
      },
      "source": [
        "Found booking with ADR **negative**. Sign reversed in preprocesing"
      ]
    },
    {
      "cell_type": "code",
      "metadata": {
        "id": "YXipKvozEgVT",
        "colab_type": "code",
        "outputId": "c5f8ee6a-9569-45ea-b6ff-1398313becab",
        "colab": {
          "base_uri": "https://localhost:8080/",
          "height": 53
        }
      },
      "source": [
        "index=df_analysis[df_analysis.ADR<0].index\n",
        "df_analysis.ADR.loc[index]"
      ],
      "execution_count": 0,
      "outputs": [
        {
          "output_type": "execute_result",
          "data": {
            "text/plain": [
              "14969   -6.38\n",
              "Name: ADR, dtype: float64"
            ]
          },
          "metadata": {
            "tags": []
          },
          "execution_count": 87
        }
      ]
    },
    {
      "cell_type": "markdown",
      "metadata": {
        "id": "_FBq88k_wnEH",
        "colab_type": "text"
      },
      "source": [
        "**Lead time**"
      ]
    },
    {
      "cell_type": "code",
      "metadata": {
        "id": "WGTbVt_Yx2lx",
        "colab_type": "code",
        "outputId": "9ab46d1b-1bb8-4c53-ed6f-935672e63f11",
        "colab": {
          "base_uri": "https://localhost:8080/",
          "height": 383
        }
      },
      "source": [
        "sns.catplot(x=\"IsCanceled\", y=\"LeadTime\", kind=\"box\", data=df_analysis)"
      ],
      "execution_count": 0,
      "outputs": [
        {
          "output_type": "execute_result",
          "data": {
            "text/plain": [
              "<seaborn.axisgrid.FacetGrid at 0x7f7727aecd68>"
            ]
          },
          "metadata": {
            "tags": []
          },
          "execution_count": 8
        },
        {
          "output_type": "display_data",
          "data": {
            "image/png": "[encoded data removed]",
            "text/plain": [
              "<Figure size 360x360 with 1 Axes>"
            ]
          },
          "metadata": {
            "tags": []
          }
        }
      ]
    },
    {
      "cell_type": "markdown",
      "metadata": {
        "id": "DNfVi3cLYyRt",
        "colab_type": "text"
      },
      "source": [
        "Lead time is diferent for canceled and not canceled bookings"
      ]
    },
    {
      "cell_type": "markdown",
      "metadata": {
        "id": "b7LCfPXU21Ld",
        "colab_type": "text"
      },
      "source": [
        "**Booking changes**"
      ]
    },
    {
      "cell_type": "code",
      "metadata": {
        "id": "EqUhCNit23Xv",
        "colab_type": "code",
        "outputId": "5b5f61e6-fa86-4e4b-c693-7c423ae13f34",
        "colab": {
          "base_uri": "https://localhost:8080/",
          "height": 303
        }
      },
      "source": [
        "sns.boxenplot(x=\"IsCanceled\", y=\"BookingChanges\", scale=\"linear\", data=df_analysis)"
      ],
      "execution_count": 0,
      "outputs": [
        {
          "output_type": "execute_result",
          "data": {
            "text/plain": [
              "<matplotlib.axes._subplots.AxesSubplot at 0x7fe2b843e5c0>"
            ]
          },
          "metadata": {
            "tags": []
          },
          "execution_count": 254
        },
        {
          "output_type": "display_data",
          "data": {
            "image/png": "[encoded data removed]",
            "text/plain": [
              "<Figure size 432x288 with 1 Axes>"
            ]
          },
          "metadata": {
            "tags": []
          }
        }
      ]
    },
    {
      "cell_type": "markdown",
      "metadata": {
        "id": "ABa876beO2kq",
        "colab_type": "text"
      },
      "source": [
        "**Reservation Status**"
      ]
    },
    {
      "cell_type": "code",
      "metadata": {
        "id": "OBvofvZSO8Up",
        "colab_type": "code",
        "outputId": "caadc603-f93c-4308-9783-07ff807dccb8",
        "colab": {
          "base_uri": "https://localhost:8080/",
          "height": 90
        }
      },
      "source": [
        "df_analysis.ReservationStatus.value_counts()"
      ],
      "execution_count": 0,
      "outputs": [
        {
          "output_type": "execute_result",
          "data": {
            "text/plain": [
              "Check-Out    75166\n",
              "Canceled     43017\n",
              "No-Show       1207\n",
              "Name: ReservationStatus, dtype: int64"
            ]
          },
          "metadata": {
            "tags": []
          },
          "execution_count": 124
        }
      ]
    },
    {
      "cell_type": "markdown",
      "metadata": {
        "id": "jQphSd1ZPEKi",
        "colab_type": "text"
      },
      "source": [
        "Reservation Status is fixed after booking is closed (will be deleted in preprocessing)"
      ]
    },
    {
      "cell_type": "markdown",
      "metadata": {
        "id": "ppVf1rIEyScz",
        "colab_type": "text"
      },
      "source": [
        "### Preprocessing\n",
        "\n",
        "This section includes manipulation, data cleaning and functions used in next sections"
      ]
    },
    {
      "cell_type": "code",
      "metadata": {
        "id": "1JUOMiiayWHT",
        "colab_type": "code",
        "colab": {}
      },
      "source": [
        "#Libraries\n",
        "import numpy as np\n",
        "from sklearn.linear_model import LogisticRegression\n",
        "from sklearn import model_selection\n",
        "from sklearn import metrics\n",
        "from sklearn import preprocessing\n",
        "from sklearn.model_selection import train_test_split\n",
        "from sklearn.metrics import confusion_matrix\n",
        "from sklearn.model_selection import cross_val_score\n",
        "#from sklearn.pipeline import make_pipeline\n",
        "from sklearn.pipeline import Pipeline\n",
        "from sklearn.model_selection import GridSearchCV\n",
        "import time\n",
        "\n",
        "import warnings\n",
        "warnings.filterwarnings(\"ignore\")\n",
        "\n",
        "#Preprocessing\n",
        "df_data=df_raw.copy()\n",
        "\n",
        "# NAN\n",
        "df_data.isnull().any() # nan found in Country & Children\n",
        "\n",
        "# the value of the country is unreliable\n",
        "# country is deleted\n",
        "df_data.drop(columns = 'Country', inplace = True)\n",
        "\n",
        "# nan in Children are replaced by 0\n",
        "df_data.Children.replace(np.nan, 0,inplace = True)\n",
        "\n",
        "# Month converted to numeric\n",
        "df_data['ArrivalDateMonthNum']=df_data.ArrivalDateMonth.replace({ 'January' : 1, 'February' : 2, 'March' : 3, 'April' :4, 'May': 5, 'June' : 6, 'July':7, 'August' : 8, 'September' : 9, 'October' : 10, 'November': 11, 'December' : 12 })\n",
        "df_data.drop(columns='ArrivalDateMonth',inplace=True)\n",
        "\n",
        "# Deleting last booking change\n",
        "df_data.drop(columns = 'ReservationStatusDate', inplace = True)\n",
        "\n",
        "#Deleting Reservation Status\n",
        "df_data.drop(columns = ['ReservationStatus'], inplace = True)\n",
        "\n",
        "#ADR negative\n",
        "index=df_data[df_data.ADR<0].index\n",
        "df_data.ADR.loc[index]=df_data.ADR.loc[index]*-1\n",
        "\n",
        "# ADR deleting outliers  >= 5000\n",
        "df_data=df_data[df_data['ADR'] < 5000]\n",
        "\n",
        "# Agent\n",
        "#9\n",
        "df_data[\"Agent_9\"] = [1 if x == \"          9\" else 0 for x in df_data[\"Agent\"]]\n",
        "#null\n",
        "df_data[\"Agent_null\"] = [1 if x == \"       NULL\" else 0 for x in df_data[\"Agent\"]]\n",
        "#240\n",
        "df_data[\"Agent_240\"] = [1 if x == \"        240\" else 0 for x in df_data[\"Agent\"]]\n",
        "\n",
        "df_data.drop(columns = 'Agent', inplace = True)\n",
        "\n",
        "# Company\n",
        "# Company null = 1, if Company is NULL \n",
        "df_data[\"Company_null\"] = [1 if x == \"       NULL\" else 0 for x in df_data[\"Company\"]]\n",
        "\n",
        "df_data.drop(columns = 'Company', inplace = True)\n",
        "\n",
        "# AssignedRoomType is fixed when the customer arrives to hotel (blank for cancelated bookings) \n",
        "df_data.drop(columns = 'AssignedRoomType', inplace = True)\n",
        "\n",
        "# Time execution mesure\n",
        "\n",
        "def tic():\n",
        "  global _start_time \n",
        "  _start_time = time.time()\n",
        "\n",
        "def tac():\n",
        "  t_sec = round(time.time() - _start_time)\n",
        "  (t_min, t_sec) = divmod(t_sec,60)\n",
        "  (t_hour,t_min) = divmod(t_min,60) \n",
        "  time_elapsed=print('Time elapsed: {}hour:{}min:{}sec'.format(t_hour,t_min,t_sec))\n",
        "\n",
        "# Metrics function\n",
        "\n",
        "def clf_metrics(X,y,model):\n",
        "  y_pred = pd.Series(model.predict(X))\n",
        "  y_prob= model.predict_proba(X) \n",
        "    \n",
        "  # Accuracy  \n",
        "  print('Accuracy = %0.4f' % metrics.accuracy_score(y,y_pred))\n",
        "        \n",
        "  # AUC\n",
        "  fpr, tpr, threshold = metrics.roc_curve(y, y_prob[:,1])\n",
        "  roc_auc = metrics.auc(fpr, tpr)\n",
        "  print('AUC = %0.4f' % roc_auc)\n",
        "        \n",
        "  # Logloss\n",
        "  Logloss = metrics.log_loss(y, y_prob[:,1])\n",
        "  print('LogLoss = %0.4f' % Logloss)\n",
        "\n",
        "  # F1-score\n",
        "  F1_score = metrics.f1_score(y, y_pred)\n",
        "  print('F1_score = %0.4f' % F1_score)\n",
        "\n",
        "  # Mathews correlation      \n",
        "  matthews_corr = metrics.matthews_corrcoef(y, y_pred)\n",
        "  print('Matthews_corr = %0.4f' % matthews_corr)\n",
        "  return y_pred,y_prob\n",
        "\n",
        "#New dataframes\n",
        "X=[]\n",
        "y=[]\n",
        "Z=[]\n",
        "\n",
        "X=df_data.loc[:, df_data.columns != 'IsCanceled'] #Features\n",
        "y=df_data['IsCanceled'] #Outcome\n",
        "Z=df_data.copy() #all data\n",
        "\n",
        "#dummification\n",
        "\n",
        "X=pd.get_dummies(X,drop_first=True)\n",
        "\n",
        "#Spliting train, test\n",
        "\n",
        "X_train, X_test, y_train, y_test = train_test_split(X, y, test_size=0.10, random_state=42)\n",
        "y_train= y_train.to_numpy().ravel()"
      ],
      "execution_count": 0,
      "outputs": []
    },
    {
      "cell_type": "markdown",
      "metadata": {
        "id": "OK8GDGMeFL2K",
        "colab_type": "text"
      },
      "source": [
        "### Logistic Regresion\n",
        "\n",
        "Logistic regresion analyzes a set of data points with one or more independent variables (input variables, which may affect the outcome) and finds the best fitting model to describe the data points, using the logistic regression equation: \n",
        "\n",
        "![imagen.png](data:image/png;base64,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)"
      ]
    },
    {
      "cell_type": "code",
      "metadata": {
        "id": "JCE3gEX3KsZn",
        "colab_type": "code",
        "outputId": "f4bf85e7-8124-4f2b-bffa-9c1a295f4447",
        "colab": {
          "base_uri": "https://localhost:8080/",
          "height": 617
        }
      },
      "source": [
        "# Logistic regresion using pipeline with SantandarScaler & Stratified crossValidation\n",
        "# scoring AUC\n",
        "print('Logistic regresion pipeline')\n",
        "\n",
        "def f_pipe_CV_logreg(X,Y):\n",
        "  tic() #time mesure\n",
        "  seed = 15\n",
        "  scoring='roc_auc'\n",
        "  sscaler = preprocessing.StandardScaler()\n",
        "  log_reg = LogisticRegression(random_state=seed, solver='lbfgs', max_iter=1000)\n",
        "  kfold = model_selection.StratifiedKFold(n_splits=3, random_state=seed, shuffle=True)\n",
        "  \n",
        "  #pipe_logreg = make_pipeline('sscaler',sscaler,'log_reg',log_reg)\n",
        "  pipe_logreg = Pipeline([\n",
        "    ('sscaler',sscaler),\n",
        "    ('clf',log_reg)])\n",
        "  \n",
        "  results_pipe_logreg = cross_val_score(pipe_logreg, X_train, y_train, cv=kfold, scoring=scoring)\n",
        "  \n",
        "  model_pipe_logreg=pipe_logreg.fit(X_train,y_train)\n",
        "  tac()\n",
        "  return model_pipe_logreg,results_pipe_logreg\n",
        "\n",
        "model_pipe_logreg, results_pipe_logreg = f_pipe_CV_logreg(X_train,y_train)\n",
        "\n",
        "# print metrics\n",
        "\n",
        "print('\\n***** TRAIN *****')\n",
        "print('Cross validation AUC:%.4f' % results_pipe_logreg.mean(),'( +- %.4f' %results_pipe_logreg.std(),')')\n",
        "y_pred_train,y_prob_train=clf_metrics(X_train,y_train,model_pipe_logreg)\n",
        "        \n",
        "print('\\n***** TEST *****')\n",
        "y_pred_test,y_prob_test=clf_metrics(X_test,y_test,model_pipe_logreg)\n",
        "    \n",
        "print('\\n***** ALL DATA *****')\n",
        "y_pred_all,y_prob_all=clf_metrics(X,y,model_pipe_logreg)\n",
        "\n",
        "print('\\n Confusion matrix')\n",
        "pd.crosstab(y_pred_all, y, rownames=['Actual'], colnames=['Predicted'])\n",
        "  "
      ],
      "execution_count": 8,
      "outputs": [
        {
          "output_type": "stream",
          "text": [
            "Logistic regresion pipeline\n",
            "Time elapsed: 0hour:0min:16sec\n",
            "\n",
            "***** TRAIN *****\n",
            "Cross validation AUC:0.8621 ( +- 0.0019 )\n",
            "Accuracy = 0.8176\n",
            "AUC = 0.8626\n",
            "LogLoss = 0.4177\n",
            "F1_score = 0.7199\n",
            "Matthews_corr = 0.6003\n",
            "\n",
            "***** TEST *****\n",
            "Accuracy = 0.8178\n",
            "AUC = 0.8668\n",
            "LogLoss = 0.4154\n",
            "F1_score = 0.7239\n",
            "Matthews_corr = 0.6056\n",
            "\n",
            "***** ALL DATA *****\n",
            "Accuracy = 0.8176\n",
            "AUC = 0.8630\n",
            "LogLoss = 0.4175\n",
            "F1_score = 0.7203\n",
            "Matthews_corr = 0.6008\n",
            "\n",
            " Confusion matrix\n"
          ],
          "name": "stdout"
        },
        {
          "output_type": "execute_result",
          "data": {
            "text/html": [
              "<div>\n",
              "<style scoped>\n",
              "    .dataframe tbody tr th:only-of-type {\n",
              "        vertical-align: middle;\n",
              "    }\n",
              "\n",
              "    .dataframe tbody tr th {\n",
              "        vertical-align: top;\n",
              "    }\n",
              "\n",
              "    .dataframe thead th {\n",
              "        text-align: right;\n",
              "    }\n",
              "</style>\n",
              "<table border=\"1\" class=\"dataframe\">\n",
              "  <thead>\n",
              "    <tr style=\"text-align: right;\">\n",
              "      <th>Predicted</th>\n",
              "      <th>0</th>\n",
              "      <th>1</th>\n",
              "    </tr>\n",
              "    <tr>\n",
              "      <th>Actual</th>\n",
              "      <th></th>\n",
              "      <th></th>\n",
              "    </tr>\n",
              "  </thead>\n",
              "  <tbody>\n",
              "    <tr>\n",
              "      <th>0</th>\n",
              "      <td>69121</td>\n",
              "      <td>16622</td>\n",
              "    </tr>\n",
              "    <tr>\n",
              "      <th>1</th>\n",
              "      <td>6044</td>\n",
              "      <td>27601</td>\n",
              "    </tr>\n",
              "  </tbody>\n",
              "</table>\n",
              "</div>"
            ],
            "text/plain": [
              "Predicted      0      1\n",
              "Actual                 \n",
              "0          69121  16622\n",
              "1           6044  27601"
            ]
          },
          "metadata": {
            "tags": []
          },
          "execution_count": 8
        }
      ]
    },
    {
      "cell_type": "code",
      "metadata": {
        "id": "hWU4qA0-r31S",
        "colab_type": "code",
        "colab": {
          "base_uri": "https://localhost:8080/",
          "height": 163
        },
        "outputId": "f3882c28-2a50-4edd-990f-2a0d18c4d2d6"
      },
      "source": [
        "#Feature selection\n",
        "#Recursive Feature Elimination (RFE)\n",
        "\n",
        "from sklearn.feature_selection import RFE\n",
        "\n",
        "logreg = LogisticRegression()\n",
        "rfe = RFE(logreg, 25)\n",
        "rfe = rfe.fit(X_train, y_train)\n",
        "print(rfe.support_)\n",
        "print(rfe.ranking_)"
      ],
      "execution_count": 58,
      "outputs": [
        {
          "output_type": "stream",
          "text": [
            "[False False False False False False  True  True False  True  True  True\n",
            "  True False False  True  True False  True  True  True False  True  True\n",
            " False  True False  True False False  True  True False  True  True  True\n",
            " False False  True False  True False False False False False  True False\n",
            " False  True  True False]\n",
            "[19 23 12 26  9  6  1  1  3  1  1  1  1 24 20  1  1 10  1  1  1 16  1  1\n",
            " 17  1 22  1  2 11  1  1 27  1  1  1 14  7  1 18  1  4 21 25 28 13  1 15\n",
            "  8  1  1  5]\n"
          ],
          "name": "stdout"
        }
      ]
    },
    {
      "cell_type": "code",
      "metadata": {
        "id": "VPzdeJccux4c",
        "colab_type": "code",
        "colab": {}
      },
      "source": [
        "X_rfe=X.loc[:,rfe.support_]\n",
        "X_train_rfe, X_test_rfe, y_train_rfe, y_test_rfe = train_test_split(X_rfe, y, test_size=0.10, random_state=42)\n",
        "y_train_rfe= y_train_rfe.to_numpy().ravel()"
      ],
      "execution_count": 0,
      "outputs": []
    },
    {
      "cell_type": "code",
      "metadata": {
        "id": "Nna8SSUxxSfV",
        "colab_type": "code",
        "colab": {
          "base_uri": "https://localhost:8080/",
          "height": 856
        },
        "outputId": "c3441818-4c03-4381-8d64-7e947414d8d7"
      },
      "source": [
        "import statsmodels.api as sm\n",
        "logit_model=sm.Logit(y_train_rfe,X_train_rfe)\n",
        "result=logit_model.fit()\n",
        "print(result.summary2())"
      ],
      "execution_count": 60,
      "outputs": [
        {
          "output_type": "stream",
          "text": [
            "Warning: Maximum number of iterations has been exceeded.\n",
            "         Current function value: 0.431916\n",
            "         Iterations: 35\n"
          ],
          "name": "stdout"
        },
        {
          "output_type": "stream",
          "text": [
            "/usr/local/lib/python3.6/dist-packages/statsmodels/base/model.py:512: ConvergenceWarning: Maximum Likelihood optimization failed to converge. Check mle_retvals\n",
            "  \"Check mle_retvals\", ConvergenceWarning)\n"
          ],
          "name": "stderr"
        },
        {
          "output_type": "stream",
          "text": [
            "                                   Results: Logit\n",
            "====================================================================================\n",
            "Model:                     Logit                  Pseudo R-squared:       0.344     \n",
            "Dependent Variable:        y                      AIC:                    92868.7093\n",
            "Date:                      2020-05-30 08:53       BIC:                    93108.3288\n",
            "No. Observations:          107450                 Log-Likelihood:         -46409.   \n",
            "Df Model:                  24                     LL-Null:                -70787.   \n",
            "Df Residuals:              107425                 LLR p-value:            0.0000    \n",
            "Converged:                 0.0000                 Scale:                  1.0000    \n",
            "No. Iterations:            35.0000                                                  \n",
            "------------------------------------------------------------------------------------\n",
            "                                   Coef.   Std.Err.    z     P>|z|   [0.025   0.975]\n",
            "------------------------------------------------------------------------------------\n",
            "Adults                              0.1304   0.0149   8.7449 0.0000   0.1011  0.1596\n",
            "Children                            0.2189   0.0193  11.3208 0.0000   0.1810  0.2568\n",
            "IsRepeatedGuest                    -0.9111   0.0826 -11.0310 0.0000  -1.0730 -0.7492\n",
            "PreviousCancellations               2.9577   0.0625  47.2922 0.0000   2.8351  3.0803\n",
            "PreviousBookingsNotCanceled        -0.5469   0.0262 -20.8905 0.0000  -0.5982 -0.4955\n",
            "BookingChanges                     -0.3581   0.0158 -22.7337 0.0000  -0.3890 -0.3272\n",
            "RequiredCarParkingSpaces          -37.7314  22.5411  -1.6739 0.0942 -81.9111  6.4483\n",
            "TotalOfSpecialRequests             -0.7315   0.0121 -60.5078 0.0000  -0.7552 -0.7078\n",
            "Agent_9                             1.3023   0.0306  42.5639 0.0000   1.2423  1.3623\n",
            "Agent_null                         -0.4984   0.0378 -13.1717 0.0000  -0.5725 -0.4242\n",
            "Agent_240                           1.4863   0.0348  42.6949 0.0000   1.4181  1.5545\n",
            "Meal_FB                             0.8560   0.1094   7.8229 0.0000   0.6415  1.0705\n",
            "Meal_HB                             0.1789   0.0267   6.6884 0.0000   0.1265  0.2313\n",
            "Meal_Undefined                     -0.4661   0.1022  -4.5595 0.0000  -0.6665 -0.2658\n",
            "MarketSegment_Corporate            -1.2939   0.0637 -20.3094 0.0000  -1.4188 -1.1690\n",
            "MarketSegment_Offline TA/TO        -0.7581   0.0364 -20.8071 0.0000  -0.8295 -0.6867\n",
            "MarketSegment_Online TA            -0.4716   0.0452 -10.4454 0.0000  -0.5601 -0.3831\n",
            "DistributionChannel_Direct         -1.4892   0.0500 -29.8074 0.0000  -1.5871 -1.3912\n",
            "DistributionChannel_GDS            -1.2665   0.1996  -6.3441 0.0000  -1.6578 -0.8752\n",
            "DistributionChannel_TA/TO          -1.0876   0.0503 -21.6094 0.0000  -1.1863 -0.9890\n",
            "ReservedRoomType_C                  0.5088   0.0914   5.5658 0.0000   0.3296  0.6880\n",
            "ReservedRoomType_E                  0.1992   0.0353   5.6410 0.0000   0.1300  0.2684\n",
            "DepositType_Non Refund              5.7690   0.1144  50.4336 0.0000   5.5448  5.9932\n",
            "CustomerType_Transient              0.3635   0.0411   8.8398 0.0000   0.2829  0.4441\n",
            "CustomerType_Transient-Party       -0.0921   0.0425  -2.1671 0.0302  -0.1754 -0.0088\n",
            "====================================================================================\n",
            "\n"
          ],
          "name": "stdout"
        }
      ]
    },
    {
      "cell_type": "code",
      "metadata": {
        "id": "oA4bA3PRwdi5",
        "colab_type": "code",
        "colab": {}
      },
      "source": [
        "\n",
        "X_train_rfe.drop(columns='RequiredCarParkingSpaces', inplace = True,axis=1)\n",
        "X_test_rfe.drop(columns='RequiredCarParkingSpaces', inplace = True,axis=1)"
      ],
      "execution_count": 0,
      "outputs": []
    },
    {
      "cell_type": "code",
      "metadata": {
        "colab_type": "code",
        "outputId": "7625228a-3c49-4c26-9653-79aa71f4c9bf",
        "id": "GPNMzwCywfEm",
        "colab": {
          "base_uri": "https://localhost:8080/",
          "height": 35
        }
      },
      "source": [
        "# Logistic regresion featurs selection\n",
        "\n",
        "\n",
        "model_pipe_logreg, results_pipe_logreg = f_pipe_CV_logreg(X_train_rfe,y_train_rfe)\n",
        "\n",
        "# print metrics\n",
        "\n",
        "print('\\n***** TRAIN *****')\n",
        "print('Cross validation AUC:%.4f' % results_pipe_logreg.mean(),'( +- %.4f' %results_pipe_logreg.std(),')')\n",
        "y_pred_train,y_prob_train=clf_metrics(X_train_rfe,y_train_rfe,model_pipe_logreg)\n",
        "        \n",
        "print('\\n***** TEST *****')\n",
        "y_pred_test,y_prob_test=clf_metrics(X_test_rfe,y_test_rfe,model_pipe_logreg)\n",
        "    \n",
        "print('\\n***** ALL DATA *****')\n",
        "#y_pred_all,y_prob_all=clf_metrics(X,y,model_pipe_logreg)\n",
        "\n",
        "print('\\n Confusion matrix')\n",
        "#pd.crosstab(y_pred_all, y, rownames=['Actual'], colnames=['Predicted'])\n",
        "  "
      ],
      "execution_count": 86,
      "outputs": [
        {
          "output_type": "stream",
          "text": [
            "Time elapsed: 0hour:0min:18sec\n"
          ],
          "name": "stdout"
        }
      ]
    },
    {
      "cell_type": "code",
      "metadata": {
        "id": "e-iWup0p2x6x",
        "colab_type": "code",
        "colab": {
          "base_uri": "https://localhost:8080/",
          "height": 235
        },
        "outputId": "e0e937b9-616b-467e-cbf5-62de1b7935df"
      },
      "source": [
        "model_pipe_logreg, results_pipe_logreg = f_pipe_CV_logreg(X_train_rfe,y_train_rfe)"
      ],
      "execution_count": 89,
      "outputs": [
        {
          "output_type": "execute_result",
          "data": {
            "text/plain": [
              "Pipeline(memory=None,\n",
              "         steps=[('sscaler',\n",
              "                 StandardScaler(copy=True, with_mean=True, with_std=True)),\n",
              "                ('clf',\n",
              "                 LogisticRegression(C=1.0, class_weight=None, dual=False,\n",
              "                                    fit_intercept=True, intercept_scaling=1,\n",
              "                                    l1_ratio=None, max_iter=1000,\n",
              "                                    multi_class='auto', n_jobs=None,\n",
              "                                    penalty='l2', random_state=15,\n",
              "                                    solver='lbfgs', tol=0.0001, verbose=0,\n",
              "                                    warm_start=False))],\n",
              "         verbose=False)"
            ]
          },
          "metadata": {
            "tags": []
          },
          "execution_count": 89
        }
      ]
    },
    {
      "cell_type": "code",
      "metadata": {
        "id": "6z_dsQix1ipC",
        "colab_type": "code",
        "colab": {
          "base_uri": "https://localhost:8080/",
          "height": 323
        },
        "outputId": "a794bf00-39ce-4e45-8b0e-6bb27db49ba7"
      },
      "source": [
        "y_pred = pd.Series(model_pipe_logreg.predict(X_train_rfe))\n",
        "y_prob.shape= model_pipe_logreg.predict_proba(X_train_rfe) \n",
        "    \n",
        "# Accuracy  \n",
        "print('Accuracy = %0.4f' % metrics.accuracy_score(y_train_rfe,y_pred))"
      ],
      "execution_count": 90,
      "outputs": [
        {
          "output_type": "error",
          "ename": "ValueError",
          "evalue": "ignored",
          "traceback": [
            "\u001b[0;31m---------------------------------------------------------------------------\u001b[0m",
            "\u001b[0;31mValueError\u001b[0m                                Traceback (most recent call last)",
            "\u001b[0;32m<ipython-input-90-c8d3c8761b54>\u001b[0m in \u001b[0;36m<module>\u001b[0;34m()\u001b[0m\n\u001b[0;32m----> 1\u001b[0;31m \u001b[0my_pred\u001b[0m \u001b[0;34m=\u001b[0m \u001b[0mpd\u001b[0m\u001b[0;34m.\u001b[0m\u001b[0mSeries\u001b[0m\u001b[0;34m(\u001b[0m\u001b[0mmodel_pipe_logreg\u001b[0m\u001b[0;34m.\u001b[0m\u001b[0mpredict\u001b[0m\u001b[0;34m(\u001b[0m\u001b[0mX_train_rfe\u001b[0m\u001b[0;34m)\u001b[0m\u001b[0;34m)\u001b[0m\u001b[0;34m\u001b[0m\u001b[0;34m\u001b[0m\u001b[0m\n\u001b[0m",
            "\u001b[0;32m/usr/local/lib/python3.6/dist-packages/sklearn/utils/metaestimators.py\u001b[0m in \u001b[0;36m<lambda>\u001b[0;34m(*args, **kwargs)\u001b[0m\n\u001b[1;32m    114\u001b[0m \u001b[0;34m\u001b[0m\u001b[0m\n\u001b[1;32m    115\u001b[0m         \u001b[0;31m# lambda, but not partial, allows help() to work with update_wrapper\u001b[0m\u001b[0;34m\u001b[0m\u001b[0;34m\u001b[0m\u001b[0;34m\u001b[0m\u001b[0m\n\u001b[0;32m--> 116\u001b[0;31m         \u001b[0mout\u001b[0m \u001b[0;34m=\u001b[0m \u001b[0;32mlambda\u001b[0m \u001b[0;34m*\u001b[0m\u001b[0margs\u001b[0m\u001b[0;34m,\u001b[0m \u001b[0;34m**\u001b[0m\u001b[0mkwargs\u001b[0m\u001b[0;34m:\u001b[0m \u001b[0mself\u001b[0m\u001b[0;34m.\u001b[0m\u001b[0mfn\u001b[0m\u001b[0;34m(\u001b[0m\u001b[0mobj\u001b[0m\u001b[0;34m,\u001b[0m \u001b[0;34m*\u001b[0m\u001b[0margs\u001b[0m\u001b[0;34m,\u001b[0m \u001b[0;34m**\u001b[0m\u001b[0mkwargs\u001b[0m\u001b[0;34m)\u001b[0m\u001b[0;34m\u001b[0m\u001b[0;34m\u001b[0m\u001b[0m\n\u001b[0m\u001b[1;32m    117\u001b[0m         \u001b[0;31m# update the docstring of the returned function\u001b[0m\u001b[0;34m\u001b[0m\u001b[0;34m\u001b[0m\u001b[0;34m\u001b[0m\u001b[0m\n\u001b[1;32m    118\u001b[0m         \u001b[0mupdate_wrapper\u001b[0m\u001b[0;34m(\u001b[0m\u001b[0mout\u001b[0m\u001b[0;34m,\u001b[0m \u001b[0mself\u001b[0m\u001b[0;34m.\u001b[0m\u001b[0mfn\u001b[0m\u001b[0;34m)\u001b[0m\u001b[0;34m\u001b[0m\u001b[0;34m\u001b[0m\u001b[0m\n",
            "\u001b[0;32m/usr/local/lib/python3.6/dist-packages/sklearn/pipeline.py\u001b[0m in \u001b[0;36mpredict\u001b[0;34m(self, X, **predict_params)\u001b[0m\n\u001b[1;32m    417\u001b[0m         \u001b[0mXt\u001b[0m \u001b[0;34m=\u001b[0m \u001b[0mX\u001b[0m\u001b[0;34m\u001b[0m\u001b[0;34m\u001b[0m\u001b[0m\n\u001b[1;32m    418\u001b[0m         \u001b[0;32mfor\u001b[0m \u001b[0m_\u001b[0m\u001b[0;34m,\u001b[0m \u001b[0mname\u001b[0m\u001b[0;34m,\u001b[0m \u001b[0mtransform\u001b[0m \u001b[0;32min\u001b[0m \u001b[0mself\u001b[0m\u001b[0;34m.\u001b[0m\u001b[0m_iter\u001b[0m\u001b[0;34m(\u001b[0m\u001b[0mwith_final\u001b[0m\u001b[0;34m=\u001b[0m\u001b[0;32mFalse\u001b[0m\u001b[0;34m)\u001b[0m\u001b[0;34m:\u001b[0m\u001b[0;34m\u001b[0m\u001b[0;34m\u001b[0m\u001b[0m\n\u001b[0;32m--> 419\u001b[0;31m             \u001b[0mXt\u001b[0m \u001b[0;34m=\u001b[0m \u001b[0mtransform\u001b[0m\u001b[0;34m.\u001b[0m\u001b[0mtransform\u001b[0m\u001b[0;34m(\u001b[0m\u001b[0mXt\u001b[0m\u001b[0;34m)\u001b[0m\u001b[0;34m\u001b[0m\u001b[0;34m\u001b[0m\u001b[0m\n\u001b[0m\u001b[1;32m    420\u001b[0m         \u001b[0;32mreturn\u001b[0m \u001b[0mself\u001b[0m\u001b[0;34m.\u001b[0m\u001b[0msteps\u001b[0m\u001b[0;34m[\u001b[0m\u001b[0;34m-\u001b[0m\u001b[0;36m1\u001b[0m\u001b[0;34m]\u001b[0m\u001b[0;34m[\u001b[0m\u001b[0;34m-\u001b[0m\u001b[0;36m1\u001b[0m\u001b[0;34m]\u001b[0m\u001b[0;34m.\u001b[0m\u001b[0mpredict\u001b[0m\u001b[0;34m(\u001b[0m\u001b[0mXt\u001b[0m\u001b[0;34m,\u001b[0m \u001b[0;34m**\u001b[0m\u001b[0mpredict_params\u001b[0m\u001b[0;34m)\u001b[0m\u001b[0;34m\u001b[0m\u001b[0;34m\u001b[0m\u001b[0m\n\u001b[1;32m    421\u001b[0m \u001b[0;34m\u001b[0m\u001b[0m\n",
            "\u001b[0;32m/usr/local/lib/python3.6/dist-packages/sklearn/preprocessing/_data.py\u001b[0m in \u001b[0;36mtransform\u001b[0;34m(self, X, copy)\u001b[0m\n\u001b[1;32m    804\u001b[0m         \u001b[0;32melse\u001b[0m\u001b[0;34m:\u001b[0m\u001b[0;34m\u001b[0m\u001b[0;34m\u001b[0m\u001b[0m\n\u001b[1;32m    805\u001b[0m             \u001b[0;32mif\u001b[0m \u001b[0mself\u001b[0m\u001b[0;34m.\u001b[0m\u001b[0mwith_mean\u001b[0m\u001b[0;34m:\u001b[0m\u001b[0;34m\u001b[0m\u001b[0;34m\u001b[0m\u001b[0m\n\u001b[0;32m--> 806\u001b[0;31m                 \u001b[0mX\u001b[0m \u001b[0;34m-=\u001b[0m \u001b[0mself\u001b[0m\u001b[0;34m.\u001b[0m\u001b[0mmean_\u001b[0m\u001b[0;34m\u001b[0m\u001b[0;34m\u001b[0m\u001b[0m\n\u001b[0m\u001b[1;32m    807\u001b[0m             \u001b[0;32mif\u001b[0m \u001b[0mself\u001b[0m\u001b[0;34m.\u001b[0m\u001b[0mwith_std\u001b[0m\u001b[0;34m:\u001b[0m\u001b[0;34m\u001b[0m\u001b[0;34m\u001b[0m\u001b[0m\n\u001b[1;32m    808\u001b[0m                 \u001b[0mX\u001b[0m \u001b[0;34m/=\u001b[0m \u001b[0mself\u001b[0m\u001b[0;34m.\u001b[0m\u001b[0mscale_\u001b[0m\u001b[0;34m\u001b[0m\u001b[0;34m\u001b[0m\u001b[0m\n",
            "\u001b[0;31mValueError\u001b[0m: operands could not be broadcast together with shapes (107450,24) (52,) (107450,24) "
          ]
        }
      ]
    },
    {
      "cell_type": "markdown",
      "metadata": {
        "id": "iZ4NMmdfrZPs",
        "colab_type": "text"
      },
      "source": [
        "### SVM (Support vector machine)"
      ]
    },
    {
      "cell_type": "code",
      "metadata": {
        "id": "kaZY7ELAGoeb",
        "colab_type": "code",
        "colab": {}
      },
      "source": [
        "from sklearn.svm import SVC\n",
        "from sklearn.model_selection import GridSearchCV\n",
        "\n",
        "def f_SVM_pipe_Gridsearch(X,Y):\n",
        "  tic() #time mesure\n",
        "  seed = 15\n",
        "  scoring='roc_auc'\n",
        "  sscaler = preprocessing.StandardScaler()\n",
        "  SVC = SVC()\n",
        "  kfold = model_selection.StratifiedKFold(n_splits=3, random_state=seed, shuffle=True)\n",
        "  #parameters = {'kernels': ['linear', 'rbf', 'poly']}\n",
        "  parameters = {'kernels': ['linear']}\n",
        "  pipe_SVC = Pipeline([ ('sscaler',sscaler), ('SVC',SVC)])\n",
        "  \n",
        "  #results_SVC_GridCV = cross_val_score(pipe_SVC, X_train, y_train, cv=kfold, scoring=scoring)\n",
        "  SVC_GridCV = GridSearchCV(pipe_SVC, parameters, cv=2, n_jobs=1, scoring=scoring)\n",
        "  model_SVC_GridCV = SVC_GridCV.fit(X_train,y_train)\n",
        "\n",
        "  tac()\n",
        "  return model_SVC_GridCV,results_SVC_GridCV\n",
        "\n",
        "  model_SVC_GridCV,results_SVC_GridCV = f_SVM_pipe_Gridsearch(X_train,y_train)"
      ],
      "execution_count": 0,
      "outputs": []
    },
    {
      "cell_type": "code",
      "metadata": {
        "id": "LCA-2AzmeuoJ",
        "colab_type": "code",
        "colab": {}
      },
      "source": [
        "from sklearn import svm\n",
        "from sklearn.model_selection import GridSearchCV\n",
        "\n",
        "tic() #time mesure\n",
        "seed = 15\n",
        "scoring='roc_auc'\n",
        "sscaler = preprocessing.StandardScaler()\n",
        "SVM = svm.SVC()\n",
        "kfold = model_selection.StratifiedKFold(n_splits=3, random_state=seed, shuffle=True)\n",
        "\n",
        "#parameters = {'kernels': ['linear']}\n",
        "# Specify the hyperparameter space\n",
        "    # Specify the hyperparameter space\n",
        "parameters = {}\n",
        "\n",
        "\n",
        "pipe_SVC = Pipeline([ ('sscaler',sscaler), ('SVC',SVM)])\n",
        "  \n",
        "#results_SVC_GridCV = cross_val_score(pipe_SVC, X_train, y_train, cv=kfold, scoring=scoring)\n",
        "#SVC_GridCV = GridSearchCV(pipe_SVC, parameters, cv=2, n_jobs=1, scoring=scoring)\n",
        "SVC_GridCV = GridSearchCV(pipe_SVC, parameters, cv=2, scoring=scoring)\n",
        "model_SVC_GridCV = SVC_GridCV.fit(X_train,y_train)\n",
        "\n",
        "SVM.get_params().keys()"
      ],
      "execution_count": 0,
      "outputs": []
    },
    {
      "cell_type": "code",
      "metadata": {
        "id": "jP4zmpdm5gik",
        "colab_type": "code",
        "colab": {}
      },
      "source": [
        "from sklearn import svm\n",
        "clf = svm.SVC()\n",
        "clf.fit(X, y)"
      ],
      "execution_count": 0,
      "outputs": []
    },
    {
      "cell_type": "code",
      "metadata": {
        "id": "dEuNY_MZ7L-N",
        "colab_type": "code",
        "outputId": "6153fafe-dd22-4c5e-a3e8-2847031efe9f",
        "colab": {
          "base_uri": "https://localhost:8080/",
          "height": 299
        }
      },
      "source": [
        "from sklearn import svm\n",
        "X.ax[:51,'LeadTime']\n",
        "x_prueba=X['LeadTime'].to_numpy()\n",
        "x_prueba=x_prueba.reshape(-1, 1)\n",
        "sscaler = preprocessing.StandardScaler().fit(x_prueba)\n",
        "X_ss = sscaler.transform(x_prueba)\n",
        "clf = svm.SVC()\n",
        "clf.fit(x_prueba, y)\n"
      ],
      "execution_count": 0,
      "outputs": [
        {
          "output_type": "error",
          "ename": "AttributeError",
          "evalue": "ignored",
          "traceback": [
            "\u001b[0;31m---------------------------------------------------------------------------\u001b[0m",
            "\u001b[0;31mAttributeError\u001b[0m                            Traceback (most recent call last)",
            "\u001b[0;32m<ipython-input-7-cdb1145c591a>\u001b[0m in \u001b[0;36m<module>\u001b[0;34m()\u001b[0m\n\u001b[0;32m----> 1\u001b[0;31m \u001b[0mX\u001b[0m\u001b[0;34m.\u001b[0m\u001b[0max\u001b[0m\u001b[0;34m[\u001b[0m\u001b[0;34m:\u001b[0m\u001b[0;36m51\u001b[0m\u001b[0;34m,\u001b[0m\u001b[0;34m'LeadTime'\u001b[0m\u001b[0;34m]\u001b[0m\u001b[0;34m\u001b[0m\u001b[0;34m\u001b[0m\u001b[0m\n\u001b[0m",
            "\u001b[0;32m/usr/local/lib/python3.6/dist-packages/pandas/core/generic.py\u001b[0m in \u001b[0;36m__getattr__\u001b[0;34m(self, name)\u001b[0m\n\u001b[1;32m   5272\u001b[0m             \u001b[0;32mif\u001b[0m \u001b[0mself\u001b[0m\u001b[0;34m.\u001b[0m\u001b[0m_info_axis\u001b[0m\u001b[0;34m.\u001b[0m\u001b[0m_can_hold_identifiers_and_holds_name\u001b[0m\u001b[0;34m(\u001b[0m\u001b[0mname\u001b[0m\u001b[0;34m)\u001b[0m\u001b[0;34m:\u001b[0m\u001b[0;34m\u001b[0m\u001b[0;34m\u001b[0m\u001b[0m\n\u001b[1;32m   5273\u001b[0m                 \u001b[0;32mreturn\u001b[0m \u001b[0mself\u001b[0m\u001b[0;34m[\u001b[0m\u001b[0mname\u001b[0m\u001b[0;34m]\u001b[0m\u001b[0;34m\u001b[0m\u001b[0;34m\u001b[0m\u001b[0m\n\u001b[0;32m-> 5274\u001b[0;31m             \u001b[0;32mreturn\u001b[0m \u001b[0mobject\u001b[0m\u001b[0;34m.\u001b[0m\u001b[0m__getattribute__\u001b[0m\u001b[0;34m(\u001b[0m\u001b[0mself\u001b[0m\u001b[0;34m,\u001b[0m \u001b[0mname\u001b[0m\u001b[0;34m)\u001b[0m\u001b[0;34m\u001b[0m\u001b[0;34m\u001b[0m\u001b[0m\n\u001b[0m\u001b[1;32m   5275\u001b[0m \u001b[0;34m\u001b[0m\u001b[0m\n\u001b[1;32m   5276\u001b[0m     \u001b[0;32mdef\u001b[0m \u001b[0m__setattr__\u001b[0m\u001b[0;34m(\u001b[0m\u001b[0mself\u001b[0m\u001b[0;34m,\u001b[0m \u001b[0mname\u001b[0m\u001b[0;34m:\u001b[0m \u001b[0mstr\u001b[0m\u001b[0;34m,\u001b[0m \u001b[0mvalue\u001b[0m\u001b[0;34m)\u001b[0m \u001b[0;34m->\u001b[0m \u001b[0;32mNone\u001b[0m\u001b[0;34m:\u001b[0m\u001b[0;34m\u001b[0m\u001b[0;34m\u001b[0m\u001b[0m\n",
            "\u001b[0;31mAttributeError\u001b[0m: 'DataFrame' object has no attribute 'ax'"
          ]
        }
      ]
    },
    {
      "cell_type": "markdown",
      "metadata": {
        "id": "CAYXJvdPetPr",
        "colab_type": "text"
      },
      "source": [
        "### XGboost\n",
        "\n",
        "Gradient boosting machines build sequential decision trees. Each tree will be built based on the previous tree’s error. Finally, predictions will be made by the sum of all of those trees.\n",
        "\n",
        "XGBoost is a popular and efficient open-source implementation of the gradient boosted trees algorithm. Gradient boosting is a supervised learning algorithm, which attempts to accurately predict a target variable by combining the estimates of a set of simpler, weaker models. \n",
        "\n",
        "In boosting, the trees are built sequentially such that each subsequent tree aims to reduce the errors of the previous tree. Each tree learns from its predecessors and updates the residual errors. Hence, the tree that grows next in the sequence will learn from an updated version of the residuals."
      ]
    },
    {
      "cell_type": "code",
      "metadata": {
        "id": "t7qUyRrSeyzS",
        "colab_type": "code",
        "outputId": "31117061-e72c-401c-bb77-5b965d16dd27",
        "colab": {
          "base_uri": "https://localhost:8080/",
          "height": 653
        }
      },
      "source": [
        "### Function\n",
        "import xgboost as xgb\n",
        "from xgboost import XGBClassifier\n",
        "### XG Boosting with stratified CV and GridSearch\n",
        "\n",
        "def XGBC_Boss(X,Y,params):\n",
        "    \n",
        "  tic()\n",
        "  \n",
        "  # Splitting train and test\n",
        "  \n",
        "  X_train, X_test, y_train, y_test = train_test_split(X, Y, test_size=0.10, random_state=42)   \n",
        "  y_train= y_train.to_numpy().ravel()   #convert to (n,) array\n",
        "  y_test = y_test.to_numpy().ravel()    \n",
        "    \n",
        "  # Model\n",
        "    \n",
        "  xgbmodel=XGBClassifier()\n",
        "     \n",
        "  print('Fitting...')\n",
        "    \n",
        "  scoring = ['roc_auc']\n",
        "  refit='roc_auc'\n",
        "\n",
        "  kfold = model_selection.StratifiedShuffleSplit(n_splits=3, random_state=15)\n",
        "  grid_solver = GridSearchCV(estimator = xgbmodel, # model to train\n",
        "                     param_grid = params, # param_grid\n",
        "                     scoring = scoring,\n",
        "                     cv = kfold,\n",
        "                     n_jobs=3, \n",
        "                     refit = refit,\n",
        "                     verbose = 2)\n",
        "    \n",
        "  model_result_xgboost = grid_solver.fit(X_train,y_train)\n",
        "    \n",
        " # print('Best parameters: ',model_result_xgboost.best_estimator_)\n",
        "\n",
        "  # return predictions\n",
        "  Y_pred = pd.Series(model_result_xgboost.predict(X_train))\n",
        "  Y_prob= model_result_xgboost.predict_proba(X_train)\n",
        "    \n",
        "  tac() # time elapsed\n",
        "      \n",
        "  return Y_pred,Y_prob,model_result_xgboost\n",
        "\n",
        "# parameters\n",
        "\n",
        "params={'base_score': [0.8], \n",
        "         'booster': ['gbtree'],\n",
        "         'colsample_bylevel': [1], \n",
        "         'colsample_bytree': [0.8], \n",
        "         'gamma': [0.01],\n",
        "         'learning_rate': [0.01], \n",
        "         'max_depth': [6],\n",
        "         'min_child_weight': [1],\n",
        "         'missing': [None],\n",
        "         'n_estimators': [400],\n",
        "         'n_jobs': [-1], \n",
        "         'objective': ['binary:logistic'],\n",
        "         'random_state': [15], \n",
        "         'reg_alpha': [0.01], \n",
        "         'reg_lambda': [0.01],\n",
        "         'scale_pos_weight': [1],\n",
        "         'subsample': [0.9]}  \n",
        "\n",
        "Y_pred,Y_prob,model_result_xgboost=XGBC_Boss(X,y,params)\n",
        "\n",
        "# print metrics\n",
        "\n",
        "print('\\n***** TRAIN *****')\n",
        "y_pred_train,y_prob_train=clf_metrics(X_train,y_train,model_result_xgboost)\n",
        "        \n",
        "print('\\n***** TEST *****')\n",
        "y_pred_test,y_prob_test=clf_metrics(X_test,y_test,model_result_xgboost)\n",
        "    \n",
        "print('\\n***** ALL DATA *****')\n",
        "y_pred_all,y_prob_all=clf_metrics(X,y,model_result_xgboost)\n",
        "\n",
        "print('\\n Confusion matrix')\n",
        "pd.crosstab(y_pred_all, y, rownames=['Actual'], colnames=['Predicted'])"
      ],
      "execution_count": 0,
      "outputs": [
        {
          "output_type": "stream",
          "text": [
            "Fitting...\n",
            "Fitting 3 folds for each of 1 candidates, totalling 3 fits\n"
          ],
          "name": "stdout"
        },
        {
          "output_type": "stream",
          "text": [
            "[Parallel(n_jobs=3)]: Using backend LokyBackend with 3 concurrent workers.\n",
            "[Parallel(n_jobs=3)]: Done   3 out of   3 | elapsed:  4.2min finished\n"
          ],
          "name": "stderr"
        },
        {
          "output_type": "stream",
          "text": [
            "Time elapsed: 0hour:5min:51sec\n",
            "\n",
            "***** TRAIN *****\n",
            "Accuracy = 0.8279106561191252\n",
            "AUC = 0.90\n",
            "LogLoss = 0.38\n",
            "F1_score = 0.73\n",
            "Matthews_corr = 0.63\n",
            "\n",
            "***** TEST *****\n",
            "Accuracy = 0.8258648127983919\n",
            "AUC = 0.90\n",
            "LogLoss = 0.38\n",
            "F1_score = 0.73\n",
            "Matthews_corr = 0.63\n",
            "\n",
            "***** ALL DATA *****\n",
            "Accuracy = 0.8277060700734573\n",
            "AUC = 0.90\n",
            "LogLoss = 0.38\n",
            "F1_score = 0.73\n",
            "Matthews_corr = 0.63\n",
            "\n",
            " Confusion matrix\n"
          ],
          "name": "stdout"
        },
        {
          "output_type": "execute_result",
          "data": {
            "text/html": [
              "<div>\n",
              "<style scoped>\n",
              "    .dataframe tbody tr th:only-of-type {\n",
              "        vertical-align: middle;\n",
              "    }\n",
              "\n",
              "    .dataframe tbody tr th {\n",
              "        vertical-align: top;\n",
              "    }\n",
              "\n",
              "    .dataframe thead th {\n",
              "        text-align: right;\n",
              "    }\n",
              "</style>\n",
              "<table border=\"1\" class=\"dataframe\">\n",
              "  <thead>\n",
              "    <tr style=\"text-align: right;\">\n",
              "      <th>Predicted</th>\n",
              "      <th>0</th>\n",
              "      <th>1</th>\n",
              "    </tr>\n",
              "    <tr>\n",
              "      <th>Actual</th>\n",
              "      <th></th>\n",
              "      <th></th>\n",
              "    </tr>\n",
              "  </thead>\n",
              "  <tbody>\n",
              "    <tr>\n",
              "      <th>0</th>\n",
              "      <td>70742</td>\n",
              "      <td>17135</td>\n",
              "    </tr>\n",
              "    <tr>\n",
              "      <th>1</th>\n",
              "      <td>4423</td>\n",
              "      <td>27088</td>\n",
              "    </tr>\n",
              "  </tbody>\n",
              "</table>\n",
              "</div>"
            ],
            "text/plain": [
              "Predicted      0      1\n",
              "Actual                 \n",
              "0          70742  17135\n",
              "1           4423  27088"
            ]
          },
          "metadata": {
            "tags": []
          },
          "execution_count": 39
        }
      ]
    },
    {
      "cell_type": "markdown",
      "metadata": {
        "id": "GFZvH3r5-VCD",
        "colab_type": "text"
      },
      "source": [
        "Features used in the model"
      ]
    },
    {
      "cell_type": "code",
      "metadata": {
        "id": "Zy5YAEWH9Xgt",
        "colab_type": "code",
        "outputId": "63452818-f785-48fe-f914-43b6491078e2",
        "colab": {
          "base_uri": "https://localhost:8080/",
          "height": 531
        }
      },
      "source": [
        "# Plot importance\n",
        "fig, ax = plt.subplots(figsize=(12, 8))\n",
        "xgb.plot_importance(model_result_xgboost.best_estimator_,ax=ax)"
      ],
      "execution_count": 0,
      "outputs": [
        {
          "output_type": "execute_result",
          "data": {
            "text/plain": [
              "<matplotlib.axes._subplots.AxesSubplot at 0x7f7dbe5fc978>"
            ]
          },
          "metadata": {
            "tags": []
          },
          "execution_count": 42
        },
        {
          "output_type": "display_data",
          "data": {
            "image/png": "[encoded data removed]",
            "text/plain": [
              "<Figure size 864x576 with 1 Axes>"
            ]
          },
          "metadata": {
            "tags": [],
            "needs_background": "light"
          }
        }
      ]
    },
    {
      "cell_type": "markdown",
      "metadata": {
        "id": "UeOLRS26tSKw",
        "colab_type": "text"
      },
      "source": [
        "### LightGBM"
      ]
    },
    {
      "cell_type": "markdown",
      "metadata": {
        "id": "x6PvPT70W3c5",
        "colab_type": "text"
      },
      "source": [
        "LighGBM \n",
        "\n",
        "XGBoost applies level-wise tree growth whereas LightGBM applies leaf-wise tree growth. This makes LightGBM faster.\n",
        "\n",
        "\n",
        "![imagen.png](data:image/png;base64,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)"
      ]
    },
    {
      "cell_type": "code",
      "metadata": {
        "id": "x8eJZk-Ormlk",
        "colab_type": "code",
        "outputId": "2f581a91-388c-42be-f6fd-953200d30095",
        "colab": {
          "base_uri": "https://localhost:8080/",
          "height": 871
        }
      },
      "source": [
        "### Function\n",
        "from sklearn.model_selection import StratifiedKFold\n",
        "import lightgbm as lgb\n",
        "from sklearn.model_selection import GridSearchCV\n",
        "from sklearn.model_selection import KFold\n",
        "\n",
        "### LightGBM using stratified cross validation and GridSearch\n",
        "\n",
        "def light_LGBM(X,y,param_grid):\n",
        "  tic()\n",
        "  seed=15\n",
        "  indexes_of_categories=[]\n",
        "    \n",
        "  lbl = preprocessing.LabelEncoder()\n",
        "    \n",
        "  for i in range(X_train.shape[1]):\n",
        "      if X_train.dtypes[i]=='object':\n",
        "          indexes_of_categories.append(i)\n",
        "          lbl.fit(X_train.iloc[:,i])\n",
        "          X_train.iloc[:,i]=lbl.transform(X_train.iloc[:,i])\n",
        "        \n",
        "  gkf = StratifiedKFold(n_splits=5, shuffle=True, random_state=42)\n",
        "     \n",
        "  lgb_estimator = lgb.LGBMClassifier(boosting_type='gbdt',  objective='binary') \n",
        "\n",
        "  print('Fitting...')\n",
        "    \n",
        "  scoring = ['roc_auc']\n",
        "  refit='roc_auc'\n",
        "     \n",
        "  gsearch = GridSearchCV(estimator=lgb_estimator, \n",
        "                         param_grid=param_grid, \n",
        "                         cv=gkf,scoring=scoring,\n",
        "                         refit=refit,\n",
        "                         verbose = 2)\n",
        "    \n",
        " \n",
        "  lgb_model = gsearch.fit(X=X_train, y=y_train)\n",
        "    \n",
        "    \n",
        "  print('Best parameters:',str(lgb_model.best_params_))\n",
        "  tac()\n",
        "    \n",
        "  return y_pred,y_prob,lgb_model\n",
        "\n",
        "\n",
        "param_grid = {\n",
        "'num_leaves': [40],\n",
        "'learning_rate':[0.1],\n",
        "'min_data_in_leaf': [25],\n",
        "'lambda_l1': [0],\n",
        "'lambda_l2': [0],\n",
        "'max_depth': [7],\n",
        "#'n_estimators':[400]\n",
        "#'num_iterations':[50,100]\n",
        "}  \n",
        "\n",
        "y_pred,y_prob,lgb_model = light_LGBM(X,y,param_grid)\n",
        "\n",
        "# print metrics\n",
        "\n",
        "print('\\n***** TRAIN *****')\n",
        "y_pred_train,y_prob_train=clf_metrics(X_train,y_train,lgb_model)\n",
        "        \n",
        "print('\\n***** TEST *****')\n",
        "y_pred_test,y_prob_test=clf_metrics(X_test,y_test,lgb_model)\n",
        "    \n",
        "print('\\n***** ALL DATA *****')\n",
        "y_pred_all,y_prob_all=clf_metrics(X,y,lgb_model)\n",
        "\n",
        "print('\\n Confusion matrix')\n",
        "pd.crosstab(y_pred_all, y, rownames=['Actual'], colnames=['Predicted'])"
      ],
      "execution_count": 37,
      "outputs": [
        {
          "output_type": "stream",
          "text": [
            "Fitting...\n",
            "Fitting 5 folds for each of 1 candidates, totalling 5 fits\n",
            "[CV] lambda_l1=0, lambda_l2=0, learning_rate=0.1, max_depth=7, min_data_in_leaf=25, num_leaves=40 \n"
          ],
          "name": "stdout"
        },
        {
          "output_type": "stream",
          "text": [
            "[Parallel(n_jobs=1)]: Using backend SequentialBackend with 1 concurrent workers.\n"
          ],
          "name": "stderr"
        },
        {
          "output_type": "stream",
          "text": [
            "[CV]  lambda_l1=0, lambda_l2=0, learning_rate=0.1, max_depth=7, min_data_in_leaf=25, num_leaves=40, total=   1.7s\n",
            "[CV] lambda_l1=0, lambda_l2=0, learning_rate=0.1, max_depth=7, min_data_in_leaf=25, num_leaves=40 \n"
          ],
          "name": "stdout"
        },
        {
          "output_type": "stream",
          "text": [
            "[Parallel(n_jobs=1)]: Done   1 out of   1 | elapsed:    1.7s remaining:    0.0s\n"
          ],
          "name": "stderr"
        },
        {
          "output_type": "stream",
          "text": [
            "[CV]  lambda_l1=0, lambda_l2=0, learning_rate=0.1, max_depth=7, min_data_in_leaf=25, num_leaves=40, total=   1.7s\n",
            "[CV] lambda_l1=0, lambda_l2=0, learning_rate=0.1, max_depth=7, min_data_in_leaf=25, num_leaves=40 \n",
            "[CV]  lambda_l1=0, lambda_l2=0, learning_rate=0.1, max_depth=7, min_data_in_leaf=25, num_leaves=40, total=   1.7s\n",
            "[CV] lambda_l1=0, lambda_l2=0, learning_rate=0.1, max_depth=7, min_data_in_leaf=25, num_leaves=40 \n",
            "[CV]  lambda_l1=0, lambda_l2=0, learning_rate=0.1, max_depth=7, min_data_in_leaf=25, num_leaves=40, total=   1.7s\n",
            "[CV] lambda_l1=0, lambda_l2=0, learning_rate=0.1, max_depth=7, min_data_in_leaf=25, num_leaves=40 \n",
            "[CV]  lambda_l1=0, lambda_l2=0, learning_rate=0.1, max_depth=7, min_data_in_leaf=25, num_leaves=40, total=   1.7s\n"
          ],
          "name": "stdout"
        },
        {
          "output_type": "stream",
          "text": [
            "[Parallel(n_jobs=1)]: Done   5 out of   5 | elapsed:    8.6s finished\n"
          ],
          "name": "stderr"
        },
        {
          "output_type": "stream",
          "text": [
            "Best parameters: {'lambda_l1': 0, 'lambda_l2': 0, 'learning_rate': 0.1, 'max_depth': 7, 'min_data_in_leaf': 25, 'num_leaves': 40}\n",
            "Time elapsed: 0hour:0min:11sec\n",
            "\n",
            "***** TRAIN *****\n",
            "Accuracy = 0.8441\n",
            "AUC = 0.9148\n",
            "LogLoss = 0.3427\n",
            "F1_score = 0.7630\n",
            "Matthews_corr = 0.6608\n",
            "\n",
            "***** TEST *****\n",
            "Accuracy = 0.8367\n",
            "AUC = 0.9082\n",
            "LogLoss = 0.3541\n",
            "F1_score = 0.7550\n",
            "Matthews_corr = 0.6480\n",
            "\n",
            "***** ALL DATA *****\n",
            "Accuracy = 0.8434\n",
            "AUC = 0.9141\n",
            "LogLoss = 0.3438\n",
            "F1_score = 0.7622\n",
            "Matthews_corr = 0.6595\n",
            "\n",
            " Confusion matrix\n"
          ],
          "name": "stdout"
        },
        {
          "output_type": "execute_result",
          "data": {
            "text/html": [
              "<div>\n",
              "<style scoped>\n",
              "    .dataframe tbody tr th:only-of-type {\n",
              "        vertical-align: middle;\n",
              "    }\n",
              "\n",
              "    .dataframe tbody tr th {\n",
              "        vertical-align: top;\n",
              "    }\n",
              "\n",
              "    .dataframe thead th {\n",
              "        text-align: right;\n",
              "    }\n",
              "</style>\n",
              "<table border=\"1\" class=\"dataframe\">\n",
              "  <thead>\n",
              "    <tr style=\"text-align: right;\">\n",
              "      <th>Predicted</th>\n",
              "      <th>0</th>\n",
              "      <th>1</th>\n",
              "    </tr>\n",
              "    <tr>\n",
              "      <th>Actual</th>\n",
              "      <th></th>\n",
              "      <th></th>\n",
              "    </tr>\n",
              "  </thead>\n",
              "  <tbody>\n",
              "    <tr>\n",
              "      <th>0</th>\n",
              "      <td>70187</td>\n",
              "      <td>14805</td>\n",
              "    </tr>\n",
              "    <tr>\n",
              "      <th>1</th>\n",
              "      <td>4978</td>\n",
              "      <td>29418</td>\n",
              "    </tr>\n",
              "  </tbody>\n",
              "</table>\n",
              "</div>"
            ],
            "text/plain": [
              "Predicted      0      1\n",
              "Actual                 \n",
              "0          70187  14805\n",
              "1           4978  29418"
            ]
          },
          "metadata": {
            "tags": []
          },
          "execution_count": 37
        }
      ]
    },
    {
      "cell_type": "markdown",
      "metadata": {
        "id": "acDGua88rjzM",
        "colab_type": "text"
      },
      "source": [
        "### Neural network\n",
        "\n",
        "Artificial neural networks are constructed with simple elements called neurons, which take a real value, multiply it by a weight and run a nonlinear activation function. Building several layers of neurons, each of them receives some of the input variables, passing its results to the following layers, the network can learn very complex functions. A neural network is able to learn the form of any function, given enough computational power."
      ]
    },
    {
      "cell_type": "code",
      "metadata": {
        "id": "6S-6PcpLhNUe",
        "colab_type": "code",
        "outputId": "86a1fa03-d192-45ca-eecf-ee41db61e5b3",
        "colab": {
          "base_uri": "https://localhost:8080/",
          "height": 598
        }
      },
      "source": [
        "from sklearn.neural_network import MLPClassifier\n",
        "\n",
        "#Multilayer Perceptron \n",
        "\n",
        "def f_pipe_CV_MLPClass(X,Y):\n",
        "  tic() #time mesure\n",
        "  seed = 15\n",
        "  scoring='roc_auc'\n",
        "  sscaler = preprocessing.StandardScaler()\n",
        "  mlp = MLPClassifier(hidden_layer_sizes=(13,13,13),max_iter=500)\n",
        "  kfold = model_selection.StratifiedKFold(n_splits=3, random_state=seed, shuffle=True)\n",
        "  \n",
        "  #pipe_MLPClass = make_pipeline('sscaler',sscaler,'log_reg',log_reg)\n",
        "  pipe_MLPClass = Pipeline([\n",
        "    ('sscaler',sscaler),\n",
        "    ('mlp',mlp)])\n",
        "  \n",
        "  results_pipe_MLPClass = cross_val_score(pipe_MLPClass, X_train, y_train, cv=kfold, scoring=scoring)\n",
        "  \n",
        "  model_pipe_MLPClass=pipe_MLPClass.fit(X_train,y_train)\n",
        "  tac()\n",
        "  return model_pipe_MLPClass,results_pipe_MLPClass\n",
        "\n",
        "model_pipe_MLPClass, results_pipe_MLPClass = f_pipe_CV_MLPClass(X_train,y_train)\n",
        "\n",
        "# print metrics\n",
        "\n",
        "print('\\n***** TRAIN *****')\n",
        "print('Cross validation AUC:%.4f' % results_pipe_MLPClass.mean(),'( +- %.4f' %results_pipe_MLPClass.std(),')')\n",
        "y_pred_train,y_prob_train=clf_metrics(X_train,y_train,model_pipe_MLPClass)\n",
        "        \n",
        "print('\\n***** TEST *****')\n",
        "y_pred_test,y_prob_test=clf_metrics(X_test,y_test,model_pipe_MLPClass)\n",
        "    \n",
        "print('\\n***** ALL DATA *****')\n",
        "y_pred_all,y_prob_all=clf_metrics(X,y,model_pipe_MLPClass)\n",
        "\n",
        "print('\\n Confusion matrix')\n",
        "pd.crosstab(y_pred_all, y, rownames=['Actual'], colnames=['Predicted'])\n",
        "  "
      ],
      "execution_count": 38,
      "outputs": [
        {
          "output_type": "stream",
          "text": [
            "Time elapsed: 0hour:3min:48sec\n",
            "\n",
            "***** TRAIN *****\n",
            "Cross validation AUC:0.8988 ( +- 0.0019 )\n",
            "Accuracy = 0.8430\n",
            "AUC = 0.9119\n",
            "LogLoss = 0.3426\n",
            "F1_score = 0.7656\n",
            "Matthews_corr = 0.6575\n",
            "\n",
            "***** TEST *****\n",
            "Accuracy = 0.8374\n",
            "AUC = 0.9023\n",
            "LogLoss = 0.3593\n",
            "F1_score = 0.7610\n",
            "Matthews_corr = 0.6487\n",
            "\n",
            "***** ALL DATA *****\n",
            "Accuracy = 0.8424\n",
            "AUC = 0.9109\n",
            "LogLoss = 0.3443\n",
            "F1_score = 0.7652\n",
            "Matthews_corr = 0.6566\n",
            "\n",
            " Confusion matrix\n"
          ],
          "name": "stdout"
        },
        {
          "output_type": "execute_result",
          "data": {
            "text/html": [
              "<div>\n",
              "<style scoped>\n",
              "    .dataframe tbody tr th:only-of-type {\n",
              "        vertical-align: middle;\n",
              "    }\n",
              "\n",
              "    .dataframe tbody tr th {\n",
              "        vertical-align: top;\n",
              "    }\n",
              "\n",
              "    .dataframe thead th {\n",
              "        text-align: right;\n",
              "    }\n",
              "</style>\n",
              "<table border=\"1\" class=\"dataframe\">\n",
              "  <thead>\n",
              "    <tr style=\"text-align: right;\">\n",
              "      <th>Predicted</th>\n",
              "      <th>0</th>\n",
              "      <th>1</th>\n",
              "    </tr>\n",
              "    <tr>\n",
              "      <th>Actual</th>\n",
              "      <th></th>\n",
              "      <th></th>\n",
              "    </tr>\n",
              "  </thead>\n",
              "  <tbody>\n",
              "    <tr>\n",
              "      <th>0</th>\n",
              "      <td>69412</td>\n",
              "      <td>14097</td>\n",
              "    </tr>\n",
              "    <tr>\n",
              "      <th>1</th>\n",
              "      <td>5753</td>\n",
              "      <td>30126</td>\n",
              "    </tr>\n",
              "  </tbody>\n",
              "</table>\n",
              "</div>"
            ],
            "text/plain": [
              "Predicted      0      1\n",
              "Actual                 \n",
              "0          69412  14097\n",
              "1           5753  30126"
            ]
          },
          "metadata": {
            "tags": []
          },
          "execution_count": 38
        }
      ]
    }
  ]
}