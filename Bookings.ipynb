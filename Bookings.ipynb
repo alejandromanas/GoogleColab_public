{
  "nbformat": 4,
  "nbformat_minor": 0,
  "metadata": {
    "colab": {
      "name": "Bookings.ipynb",
      "provenance": [],
      "collapsed_sections": [],
      "authorship_tag": "ABX9TyMEuIBu+xW3J1vY/ES3ccAV",
      "include_colab_link": true
    },
    "kernelspec": {
      "name": "python3",
      "display_name": "Python 3"
    }
  },
  "cells": [
    {
      "cell_type": "markdown",
      "metadata": {
        "id": "view-in-github",
        "colab_type": "text"
      },
      "source": [
        "<a href=\"https://colab.research.google.com/github/alejandromanas/GoogleColab_public/blob/master/Bookings.ipynb\" target=\"_parent\"><img src=\"https://colab.research.google.com/assets/colab-badge.svg\" alt=\"Open In Colab\"/></a>"
      ]
    },
    {
      "cell_type": "markdown",
      "metadata": {
        "id": "moNucPTF2tVw",
        "colab_type": "text"
      },
      "source": [
        "# Hotel Bookings\n"
      ]
    },
    {
      "cell_type": "markdown",
      "metadata": {
        "id": "UM_f4iFGabfl",
        "colab_type": "text"
      },
      "source": [
        "Libraries"
      ]
    },
    {
      "cell_type": "code",
      "metadata": {
        "id": "Qk6izRTUaYsy",
        "colab_type": "code",
        "colab": {}
      },
      "source": [
        "from google.colab import drive\n",
        "import pandas as pd\n",
        "import numpy as np\n"
      ],
      "execution_count": 0,
      "outputs": []
    },
    {
      "cell_type": "markdown",
      "metadata": {
        "id": "mdoP7tFH32k-",
        "colab_type": "text"
      },
      "source": [
        "### Loading Files from Drive"
      ]
    },
    {
      "cell_type": "code",
      "metadata": {
        "id": "Pmn1w28j6FoT",
        "colab_type": "code",
        "outputId": "64e27b11-818a-41f0-8cd3-8b4daad1f53e",
        "colab": {
          "base_uri": "https://localhost:8080/",
          "height": 131
        }
      },
      "source": [
        "drive.mount('/content/drive')"
      ],
      "execution_count": 2,
      "outputs": [
        {
          "output_type": "stream",
          "text": [
            "Go to this URL in a browser: https://accounts.google.com/o/oauth2/auth?client_id=947318989803-6bn6qk8qdgf4n4g3pfee6491hc0brc4i.apps.googleusercontent.com&redirect_uri=urn%3aietf%3awg%3aoauth%3a2.0%3aoob&response_type=code&scope=email%20https%3a%2f%2fwww.googleapis.com%2fauth%2fdocs.test%20https%3a%2f%2fwww.googleapis.com%2fauth%2fdrive%20https%3a%2f%2fwww.googleapis.com%2fauth%2fdrive.photos.readonly%20https%3a%2f%2fwww.googleapis.com%2fauth%2fpeopleapi.readonly\n",
            "\n",
            "Enter your authorization code:\n",
            "··········\n",
            "Mounted at /content/drive\n"
          ],
          "name": "stdout"
        }
      ]
    },
    {
      "cell_type": "code",
      "metadata": {
        "id": "c8PMj8JAE7Gu",
        "colab_type": "code",
        "colab": {}
      },
      "source": [
        "h1 = pd.read_csv(\"/content/drive/My Drive/colab files/bookings/H1.csv\", delimiter = ',')\n",
        "h2 = pd.read_csv(\"/content/drive/My Drive/colab files/bookings//H2.csv\", delimiter = ',')"
      ],
      "execution_count": 0,
      "outputs": []
    },
    {
      "cell_type": "markdown",
      "metadata": {
        "id": "exUUDFeRK3Fx",
        "colab_type": "text"
      },
      "source": [
        "### Preprocessing"
      ]
    },
    {
      "cell_type": "code",
      "metadata": {
        "id": "BgbluXVZLGt7",
        "colab_type": "code",
        "colab": {}
      },
      "source": [
        "h1['hotel_type']='resort'\n",
        "h2['hotel_type']='urban'\n",
        "df=pd.concat([h1,h2], axis=0)\n",
        "\n",
        "# Filling nan\n",
        "df['Children'] = df.Children.replace(np.nan, 0)\n",
        "df['Children'] = df.Children.astype('int')\n",
        "\n",
        "#Convert to datetime\n",
        "df['ReservationStatusDate']=pd.to_datetime(df.ReservationStatusDate)\n",
        "df['ArrivalDateMonthNum']=df.ArrivalDateMonth.replace({ 'January' : 1, 'February' : 2, 'March' : 3, 'April' :4, 'May': 5, 'June' : 6, 'July':7, 'August' : 8, 'September' : 9, 'October' : 10, 'November': 11, 'December' : 12 })\n",
        "\n",
        "# vtreat\n",
        "X_vtreat=pd.DataFrame()\n",
        "Y_vtreat=pd.DataFrame()\n",
        "# X_test=df_model.loc[:, df_model.columns != 'IsCanceled'].copy()\n",
        "X_vtreat=df_all[['Company','Agent']].copy()\n",
        "Y_vtreat=df_all['IsCanceled'].copy()\n",
        "transform = vtreat.BinomialOutcomeTreatment(\n",
        "outcome_name='Y_vtreat',    # outcome variable\n",
        "outcome_target=True,  # outcome of interest\n",
        "cols_to_copy=['X_vtreat'],   # columns to \"carry along\" but not treat as input variables\n",
        "   )\n",
        "\n",
        "# plan = vtreat.BinomialOutcomeTreatment(outcome_target=True)\n",
        "d_prepared = transform.fit_transform(X_vtreat, Y_vtreat)\n",
        "# X_vtreat.shape \n",
        "# d_prepared.shape \n",
        "# list(d_prepared.columns)\n",
        "df_all=pd.concat([df_all,d_prepared], axis=1)\n",
        "# list(df_all.columns)"
      ],
      "execution_count": 0,
      "outputs": []
    }
  ]
}