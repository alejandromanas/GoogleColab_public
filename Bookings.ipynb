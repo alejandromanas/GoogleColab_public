{
  "nbformat": 4,
  "nbformat_minor": 0,
  "metadata": {
    "colab": {
      "name": "Bookings.ipynb",
      "provenance": [],
      "collapsed_sections": [],
      "authorship_tag": "ABX9TyOFirER+8PqaKTDY3aSDMBo",
      "include_colab_link": true
    },
    "kernelspec": {
      "name": "python3",
      "display_name": "Python 3"
    }
  },
  "cells": [
    {
      "cell_type": "markdown",
      "metadata": {
        "id": "view-in-github",
        "colab_type": "text"
      },
      "source": [
        "<a href=\"https://colab.research.google.com/github/alejandromanas/GoogleColab_public/blob/master/Bookings.ipynb\" target=\"_parent\"><img src=\"https://colab.research.google.com/assets/colab-badge.svg\" alt=\"Open In Colab\"/></a>"
      ]
    },
    {
      "cell_type": "markdown",
      "metadata": {
        "id": "moNucPTF2tVw",
        "colab_type": "text"
      },
      "source": [
        "# Hotel Bookings\n"
      ]
    },
    {
      "cell_type": "markdown",
      "metadata": {
        "id": "UM_f4iFGabfl",
        "colab_type": "text"
      },
      "source": [
        "Libraries"
      ]
    },
    {
      "cell_type": "code",
      "metadata": {
        "id": "Qk6izRTUaYsy",
        "colab_type": "code",
        "outputId": "d4004808-d6b6-4ad1-dc52-24cd4ad97e0d",
        "colab": {
          "base_uri": "https://localhost:8080/",
          "height": 149
        }
      },
      "source": [
        "from google.colab import drive\n",
        "import pandas as pd\n",
        "import numpy as np\n",
        "!pip install vtreat==0.3.3\n",
        "import vtreat\n",
        "import vtreat.util"
      ],
      "execution_count": 1,
      "outputs": [
        {
          "output_type": "stream",
          "text": [
            "Requirement already satisfied: vtreat==0.3.3 in /usr/local/lib/python3.6/dist-packages (0.3.3)\n",
            "Requirement already satisfied: pandas in /usr/local/lib/python3.6/dist-packages (from vtreat==0.3.3) (1.0.3)\n",
            "Requirement already satisfied: numpy in /usr/local/lib/python3.6/dist-packages (from vtreat==0.3.3) (1.18.3)\n",
            "Requirement already satisfied: pytz>=2017.2 in /usr/local/lib/python3.6/dist-packages (from pandas->vtreat==0.3.3) (2018.9)\n",
            "Requirement already satisfied: python-dateutil>=2.6.1 in /usr/local/lib/python3.6/dist-packages (from pandas->vtreat==0.3.3) (2.8.1)\n",
            "Requirement already satisfied: six>=1.5 in /usr/local/lib/python3.6/dist-packages (from python-dateutil>=2.6.1->pandas->vtreat==0.3.3) (1.12.0)\n"
          ],
          "name": "stdout"
        }
      ]
    },
    {
      "cell_type": "markdown",
      "metadata": {
        "id": "mdoP7tFH32k-",
        "colab_type": "text"
      },
      "source": [
        "### Loading Files from Drive"
      ]
    },
    {
      "cell_type": "code",
      "metadata": {
        "id": "Pmn1w28j6FoT",
        "colab_type": "code",
        "outputId": "7d34efe8-e5a2-421d-ffd2-2385d91dcbb8",
        "colab": {
          "base_uri": "https://localhost:8080/",
          "height": 36
        }
      },
      "source": [
        "drive.mount('/content/drive')"
      ],
      "execution_count": 2,
      "outputs": [
        {
          "output_type": "stream",
          "text": [
            "Drive already mounted at /content/drive; to attempt to forcibly remount, call drive.mount(\"/content/drive\", force_remount=True).\n"
          ],
          "name": "stdout"
        }
      ]
    },
    {
      "cell_type": "code",
      "metadata": {
        "id": "c8PMj8JAE7Gu",
        "colab_type": "code",
        "colab": {}
      },
      "source": [
        "raw_data_res = pd.read_csv(\"/content/drive/My Drive/colab files/bookings/H1.csv\", delimiter = ',')\n",
        "raw_data_urb = pd.read_csv(\"/content/drive/My Drive/colab files/bookings//H2.csv\", delimiter = ',')"
      ],
      "execution_count": 0,
      "outputs": []
    },
    {
      "cell_type": "markdown",
      "metadata": {
        "id": "exUUDFeRK3Fx",
        "colab_type": "text"
      },
      "source": [
        "### Preprocessing"
      ]
    },
    {
      "cell_type": "code",
      "metadata": {
        "id": "BgbluXVZLGt7",
        "colab_type": "code",
        "colab": {
          "base_uri": "https://localhost:8080/",
          "height": 759
        },
        "outputId": "4e47e2af-e9cc-4eb5-e132-9b4fc1ffefd2"
      },
      "source": [
        "df_res=raw_data_res.copy()\n",
        "df_urb=raw_data_urb.copy() \n",
        "        \n",
        "        #Concateno valores de los dos hoteles en un unico dataframe\n",
        "        #creo nueva columna Hotel\n",
        "        \n",
        "df_res['Hotel']='Resort'\n",
        "df_urb['Hotel']='Urban'\n",
        "        \n",
        "df_all=pd.concat([df_res,df_urb], axis=0)\n",
        "df_all = df_all.reset_index()\n",
        "del df_all['index']\n",
        "        \n",
        "   \n",
        "    \n",
        "    ##########################\n",
        "    # IMPORT DATA\n",
        "    ##########################\n",
        "    \n",
        "   # list(df_all.columns)\n",
        "    \n",
        "    ##########################\n",
        "    # NAN\n",
        "    ##########################\n",
        "    \n",
        "    #Buscamos nan\n",
        "    # df_all.isnull().values.any() #Hay algun nan\n",
        "    # df_all.isnull() #matriz logica para bsucarlos\n",
        "    # df_all.isnull().any() #en que columna esta el nan\n",
        "    \n",
        "    #Hotel urbano existen NA en columna children\n",
        "    #SN cuatro reservas canceladas con campo Children NA. \n",
        "    \n",
        "    \n",
        "    \n",
        "    #CHILDREN\n",
        "df_all['Children'] = df_all.Children.replace(np.nan, 0)\n",
        "df_all['Children'] = df_all.Children.astype('int')\n",
        "    \n",
        "    # vtreat\n",
        "\n",
        "X_vtreat=pd.DataFrame()\n",
        "Y_vtreat=pd.DataFrame()\n",
        "    # X_test=df_model.loc[:, df_model.columns != 'IsCanceled'].copy()\n",
        "X_vtreat=df_all[['Company','Agent']].copy()\n",
        "Y_vtreat=df_all['IsCanceled'].copy()\n",
        "transform = vtreat.BinomialOutcomeTreatment(\n",
        "  outcome_name='IsCanceled',    # outcome variable\n",
        "  outcome_target=True,  # outcome of interest\n",
        "  cols_to_copy=['X_vtreat'],   # columns to \"carry along\" but not treat as input variables\n",
        "      )\n",
        "\n",
        "    # plan = vtreat.BinomialOutcomeTreatment(outcome_target=True)\n",
        "d_prepared = transform.fit_transform(X_vtreat,df_all['IsCancelled'])\n"
      ],
      "execution_count": 5,
      "outputs": [
        {
          "output_type": "error",
          "ename": "KeyError",
          "evalue": "ignored",
          "traceback": [
            "\u001b[0;31m---------------------------------------------------------------------------\u001b[0m",
            "\u001b[0;31mKeyError\u001b[0m                                  Traceback (most recent call last)",
            "\u001b[0;32m/usr/local/lib/python3.6/dist-packages/pandas/core/indexes/base.py\u001b[0m in \u001b[0;36mget_loc\u001b[0;34m(self, key, method, tolerance)\u001b[0m\n\u001b[1;32m   2645\u001b[0m             \u001b[0;32mtry\u001b[0m\u001b[0;34m:\u001b[0m\u001b[0;34m\u001b[0m\u001b[0;34m\u001b[0m\u001b[0m\n\u001b[0;32m-> 2646\u001b[0;31m                 \u001b[0;32mreturn\u001b[0m \u001b[0mself\u001b[0m\u001b[0;34m.\u001b[0m\u001b[0m_engine\u001b[0m\u001b[0;34m.\u001b[0m\u001b[0mget_loc\u001b[0m\u001b[0;34m(\u001b[0m\u001b[0mkey\u001b[0m\u001b[0;34m)\u001b[0m\u001b[0;34m\u001b[0m\u001b[0;34m\u001b[0m\u001b[0m\n\u001b[0m\u001b[1;32m   2647\u001b[0m             \u001b[0;32mexcept\u001b[0m \u001b[0mKeyError\u001b[0m\u001b[0;34m:\u001b[0m\u001b[0;34m\u001b[0m\u001b[0;34m\u001b[0m\u001b[0m\n",
            "\u001b[0;32mpandas/_libs/index.pyx\u001b[0m in \u001b[0;36mpandas._libs.index.IndexEngine.get_loc\u001b[0;34m()\u001b[0m\n",
            "\u001b[0;32mpandas/_libs/index.pyx\u001b[0m in \u001b[0;36mpandas._libs.index.IndexEngine.get_loc\u001b[0;34m()\u001b[0m\n",
            "\u001b[0;32mpandas/_libs/hashtable_class_helper.pxi\u001b[0m in \u001b[0;36mpandas._libs.hashtable.PyObjectHashTable.get_item\u001b[0;34m()\u001b[0m\n",
            "\u001b[0;32mpandas/_libs/hashtable_class_helper.pxi\u001b[0m in \u001b[0;36mpandas._libs.hashtable.PyObjectHashTable.get_item\u001b[0;34m()\u001b[0m\n",
            "\u001b[0;31mKeyError\u001b[0m: 'IsCancelled'",
            "\nDuring handling of the above exception, another exception occurred:\n",
            "\u001b[0;31mKeyError\u001b[0m                                  Traceback (most recent call last)",
            "\u001b[0;32m<ipython-input-5-58c90f606f25>\u001b[0m in \u001b[0;36m<module>\u001b[0;34m()\u001b[0m\n\u001b[1;32m     52\u001b[0m \u001b[0;34m\u001b[0m\u001b[0m\n\u001b[1;32m     53\u001b[0m     \u001b[0;31m# plan = vtreat.BinomialOutcomeTreatment(outcome_target=True)\u001b[0m\u001b[0;34m\u001b[0m\u001b[0;34m\u001b[0m\u001b[0;34m\u001b[0m\u001b[0m\n\u001b[0;32m---> 54\u001b[0;31m \u001b[0md_prepared\u001b[0m \u001b[0;34m=\u001b[0m \u001b[0mtransform\u001b[0m\u001b[0;34m.\u001b[0m\u001b[0mfit_transform\u001b[0m\u001b[0;34m(\u001b[0m\u001b[0mX_vtreat\u001b[0m\u001b[0;34m,\u001b[0m\u001b[0mdf_all\u001b[0m\u001b[0;34m[\u001b[0m\u001b[0;34m'IsCancelled'\u001b[0m\u001b[0;34m]\u001b[0m\u001b[0;34m)\u001b[0m\u001b[0;34m\u001b[0m\u001b[0;34m\u001b[0m\u001b[0m\n\u001b[0m",
            "\u001b[0;32m/usr/local/lib/python3.6/dist-packages/pandas/core/frame.py\u001b[0m in \u001b[0;36m__getitem__\u001b[0;34m(self, key)\u001b[0m\n\u001b[1;32m   2798\u001b[0m             \u001b[0;32mif\u001b[0m \u001b[0mself\u001b[0m\u001b[0;34m.\u001b[0m\u001b[0mcolumns\u001b[0m\u001b[0;34m.\u001b[0m\u001b[0mnlevels\u001b[0m \u001b[0;34m>\u001b[0m \u001b[0;36m1\u001b[0m\u001b[0;34m:\u001b[0m\u001b[0;34m\u001b[0m\u001b[0;34m\u001b[0m\u001b[0m\n\u001b[1;32m   2799\u001b[0m                 \u001b[0;32mreturn\u001b[0m \u001b[0mself\u001b[0m\u001b[0;34m.\u001b[0m\u001b[0m_getitem_multilevel\u001b[0m\u001b[0;34m(\u001b[0m\u001b[0mkey\u001b[0m\u001b[0;34m)\u001b[0m\u001b[0;34m\u001b[0m\u001b[0;34m\u001b[0m\u001b[0m\n\u001b[0;32m-> 2800\u001b[0;31m             \u001b[0mindexer\u001b[0m \u001b[0;34m=\u001b[0m \u001b[0mself\u001b[0m\u001b[0;34m.\u001b[0m\u001b[0mcolumns\u001b[0m\u001b[0;34m.\u001b[0m\u001b[0mget_loc\u001b[0m\u001b[0;34m(\u001b[0m\u001b[0mkey\u001b[0m\u001b[0;34m)\u001b[0m\u001b[0;34m\u001b[0m\u001b[0;34m\u001b[0m\u001b[0m\n\u001b[0m\u001b[1;32m   2801\u001b[0m             \u001b[0;32mif\u001b[0m \u001b[0mis_integer\u001b[0m\u001b[0;34m(\u001b[0m\u001b[0mindexer\u001b[0m\u001b[0;34m)\u001b[0m\u001b[0;34m:\u001b[0m\u001b[0;34m\u001b[0m\u001b[0;34m\u001b[0m\u001b[0m\n\u001b[1;32m   2802\u001b[0m                 \u001b[0mindexer\u001b[0m \u001b[0;34m=\u001b[0m \u001b[0;34m[\u001b[0m\u001b[0mindexer\u001b[0m\u001b[0;34m]\u001b[0m\u001b[0;34m\u001b[0m\u001b[0;34m\u001b[0m\u001b[0m\n",
            "\u001b[0;32m/usr/local/lib/python3.6/dist-packages/pandas/core/indexes/base.py\u001b[0m in \u001b[0;36mget_loc\u001b[0;34m(self, key, method, tolerance)\u001b[0m\n\u001b[1;32m   2646\u001b[0m                 \u001b[0;32mreturn\u001b[0m \u001b[0mself\u001b[0m\u001b[0;34m.\u001b[0m\u001b[0m_engine\u001b[0m\u001b[0;34m.\u001b[0m\u001b[0mget_loc\u001b[0m\u001b[0;34m(\u001b[0m\u001b[0mkey\u001b[0m\u001b[0;34m)\u001b[0m\u001b[0;34m\u001b[0m\u001b[0;34m\u001b[0m\u001b[0m\n\u001b[1;32m   2647\u001b[0m             \u001b[0;32mexcept\u001b[0m \u001b[0mKeyError\u001b[0m\u001b[0;34m:\u001b[0m\u001b[0;34m\u001b[0m\u001b[0;34m\u001b[0m\u001b[0m\n\u001b[0;32m-> 2648\u001b[0;31m                 \u001b[0;32mreturn\u001b[0m \u001b[0mself\u001b[0m\u001b[0;34m.\u001b[0m\u001b[0m_engine\u001b[0m\u001b[0;34m.\u001b[0m\u001b[0mget_loc\u001b[0m\u001b[0;34m(\u001b[0m\u001b[0mself\u001b[0m\u001b[0;34m.\u001b[0m\u001b[0m_maybe_cast_indexer\u001b[0m\u001b[0;34m(\u001b[0m\u001b[0mkey\u001b[0m\u001b[0;34m)\u001b[0m\u001b[0;34m)\u001b[0m\u001b[0;34m\u001b[0m\u001b[0;34m\u001b[0m\u001b[0m\n\u001b[0m\u001b[1;32m   2649\u001b[0m         \u001b[0mindexer\u001b[0m \u001b[0;34m=\u001b[0m \u001b[0mself\u001b[0m\u001b[0;34m.\u001b[0m\u001b[0mget_indexer\u001b[0m\u001b[0;34m(\u001b[0m\u001b[0;34m[\u001b[0m\u001b[0mkey\u001b[0m\u001b[0;34m]\u001b[0m\u001b[0;34m,\u001b[0m \u001b[0mmethod\u001b[0m\u001b[0;34m=\u001b[0m\u001b[0mmethod\u001b[0m\u001b[0;34m,\u001b[0m \u001b[0mtolerance\u001b[0m\u001b[0;34m=\u001b[0m\u001b[0mtolerance\u001b[0m\u001b[0;34m)\u001b[0m\u001b[0;34m\u001b[0m\u001b[0;34m\u001b[0m\u001b[0m\n\u001b[1;32m   2650\u001b[0m         \u001b[0;32mif\u001b[0m \u001b[0mindexer\u001b[0m\u001b[0;34m.\u001b[0m\u001b[0mndim\u001b[0m \u001b[0;34m>\u001b[0m \u001b[0;36m1\u001b[0m \u001b[0;32mor\u001b[0m \u001b[0mindexer\u001b[0m\u001b[0;34m.\u001b[0m\u001b[0msize\u001b[0m \u001b[0;34m>\u001b[0m \u001b[0;36m1\u001b[0m\u001b[0;34m:\u001b[0m\u001b[0;34m\u001b[0m\u001b[0;34m\u001b[0m\u001b[0m\n",
            "\u001b[0;32mpandas/_libs/index.pyx\u001b[0m in \u001b[0;36mpandas._libs.index.IndexEngine.get_loc\u001b[0;34m()\u001b[0m\n",
            "\u001b[0;32mpandas/_libs/index.pyx\u001b[0m in \u001b[0;36mpandas._libs.index.IndexEngine.get_loc\u001b[0;34m()\u001b[0m\n",
            "\u001b[0;32mpandas/_libs/hashtable_class_helper.pxi\u001b[0m in \u001b[0;36mpandas._libs.hashtable.PyObjectHashTable.get_item\u001b[0;34m()\u001b[0m\n",
            "\u001b[0;32mpandas/_libs/hashtable_class_helper.pxi\u001b[0m in \u001b[0;36mpandas._libs.hashtable.PyObjectHashTable.get_item\u001b[0;34m()\u001b[0m\n",
            "\u001b[0;31mKeyError\u001b[0m: 'IsCancelled'"
          ]
        }
      ]
    },
    {
      "cell_type": "code",
      "metadata": {
        "id": "-RsKz_JXqtkW",
        "colab_type": "code",
        "outputId": "b9582d3a-f4d4-4ff3-d7ec-b70c285c7806",
        "colab": {
          "base_uri": "https://localhost:8080/",
          "height": 1000
        }
      },
      "source": [
        "l_columns = list(df.columns) # show column names as list\n",
        "for i in l_columns:\n",
        "  print(' column :',i,'type :',df[i].dtype)\n",
        "  print(df[i].value_counts(dropna=False))\n",
        "  count.df[i].value_counts(dropna=False)"
      ],
      "execution_count": 0,
      "outputs": [
        {
          "output_type": "stream",
          "text": [
            " column : index type : int64\n",
            "2047     2\n",
            "19603    2\n",
            "21206    2\n",
            "19157    2\n",
            "17108    2\n",
            "        ..\n",
            "64069    1\n",
            "62020    1\n",
            "51779    1\n",
            "49730    1\n",
            "59944    1\n",
            "Name: index, Length: 79330, dtype: int64\n",
            " column : IsCanceled type : int64\n",
            "0    75166\n",
            "1    44224\n",
            "Name: IsCanceled, dtype: int64\n",
            " column : LeadTime type : int64\n",
            "0      6345\n",
            "1      3460\n",
            "2      2069\n",
            "3      1816\n",
            "4      1715\n",
            "       ... \n",
            "458       1\n",
            "371       1\n",
            "737       1\n",
            "435       1\n",
            "387       1\n",
            "Name: LeadTime, Length: 479, dtype: int64\n",
            " column : ArrivalDateYear type : int64\n",
            "2016    56707\n",
            "2017    40687\n",
            "2015    21996\n",
            "Name: ArrivalDateYear, dtype: int64\n",
            " column : ArrivalDateMonth type : object\n",
            "August       13877\n",
            "July         12661\n",
            "May          11791\n",
            "October      11160\n",
            "April        11089\n",
            "June         10939\n",
            "September    10508\n",
            "March         9794\n",
            "February      8068\n",
            "November      6794\n",
            "December      6780\n",
            "January       5929\n",
            "Name: ArrivalDateMonth, dtype: int64\n",
            " column : ArrivalDateWeekNumber type : int64\n",
            "33    3580\n",
            "30    3087\n",
            "32    3045\n",
            "34    3040\n",
            "18    2926\n",
            "21    2854\n",
            "28    2853\n",
            "17    2805\n",
            "20    2785\n",
            "29    2763\n",
            "42    2756\n",
            "31    2741\n",
            "41    2699\n",
            "15    2689\n",
            "27    2664\n",
            "25    2663\n",
            "38    2661\n",
            "23    2621\n",
            "35    2593\n",
            "39    2581\n",
            "22    2546\n",
            "24    2498\n",
            "13    2416\n",
            "16    2405\n",
            "19    2402\n",
            "40    2397\n",
            "26    2391\n",
            "43    2352\n",
            "44    2272\n",
            "14    2264\n",
            "37    2229\n",
            "8     2216\n",
            "36    2167\n",
            "10    2149\n",
            "9     2117\n",
            "7     2109\n",
            "12    2083\n",
            "11    2070\n",
            "45    1941\n",
            "53    1816\n",
            "49    1782\n",
            "47    1685\n",
            "46    1574\n",
            "6     1508\n",
            "50    1505\n",
            "48    1504\n",
            "4     1487\n",
            "5     1387\n",
            "3     1319\n",
            "2     1218\n",
            "52    1195\n",
            "1     1047\n",
            "51     933\n",
            "Name: ArrivalDateWeekNumber, dtype: int64\n",
            " column : ArrivalDateDayOfMonth type : int64\n",
            "17    4406\n",
            "5     4317\n",
            "15    4196\n",
            "25    4160\n",
            "26    4147\n",
            "9     4096\n",
            "12    4087\n",
            "16    4078\n",
            "2     4055\n",
            "19    4052\n",
            "20    4032\n",
            "18    4002\n",
            "24    3993\n",
            "28    3946\n",
            "8     3921\n",
            "3     3855\n",
            "30    3853\n",
            "6     3833\n",
            "14    3819\n",
            "27    3802\n",
            "21    3767\n",
            "4     3763\n",
            "13    3745\n",
            "7     3665\n",
            "1     3626\n",
            "23    3616\n",
            "11    3599\n",
            "22    3596\n",
            "29    3580\n",
            "10    3575\n",
            "31    2208\n",
            "Name: ArrivalDateDayOfMonth, dtype: int64\n",
            " column : StaysInWeekendNights type : int64\n",
            "0     51998\n",
            "2     33308\n",
            "1     30626\n",
            "4      1855\n",
            "3      1259\n",
            "6       153\n",
            "5        79\n",
            "8        60\n",
            "7        19\n",
            "9        11\n",
            "10        7\n",
            "12        5\n",
            "13        3\n",
            "16        3\n",
            "14        2\n",
            "18        1\n",
            "19        1\n",
            "Name: StaysInWeekendNights, dtype: int64\n",
            " column : StaysInWeekNights type : int64\n",
            "2     33684\n",
            "1     30310\n",
            "3     22258\n",
            "5     11077\n",
            "4      9563\n",
            "0      7645\n",
            "6      1499\n",
            "10     1036\n",
            "7      1029\n",
            "8       656\n",
            "9       231\n",
            "15       85\n",
            "11       56\n",
            "19       44\n",
            "12       42\n",
            "20       41\n",
            "14       35\n",
            "13       27\n",
            "16       16\n",
            "21       15\n",
            "22        7\n",
            "18        6\n",
            "25        6\n",
            "30        5\n",
            "17        4\n",
            "24        3\n",
            "40        2\n",
            "42        1\n",
            "26        1\n",
            "32        1\n",
            "33        1\n",
            "34        1\n",
            "35        1\n",
            "41        1\n",
            "50        1\n",
            "Name: StaysInWeekNights, dtype: int64\n",
            " column : Adults type : int64\n",
            "2     89680\n",
            "1     23027\n",
            "3      6202\n",
            "0       403\n",
            "4        62\n",
            "26        5\n",
            "27        2\n",
            "20        2\n",
            "5         2\n",
            "55        1\n",
            "50        1\n",
            "40        1\n",
            "10        1\n",
            "6         1\n",
            "Name: Adults, dtype: int64\n",
            " column : Children type : int64\n",
            "0     110800\n",
            "1       4861\n",
            "2       3652\n",
            "3         76\n",
            "10         1\n",
            "Name: Children, dtype: int64\n",
            " column : Babies type : int64\n",
            "0     118473\n",
            "1        900\n",
            "2         15\n",
            "10         1\n",
            "9          1\n",
            "Name: Babies, dtype: int64\n",
            " column : Meal type : object\n",
            "BB           92310\n",
            "HB           14463\n",
            "SC           10650\n",
            "Undefined     1169\n",
            "FB             798\n",
            "Name: Meal, dtype: int64\n",
            " column : Country type : object\n",
            "PRT    48590\n",
            "GBR    12129\n",
            "FRA    10415\n",
            "ESP     8568\n",
            "DEU     7287\n",
            "       ...  \n",
            "MLI        1\n",
            "VGB        1\n",
            "NPL        1\n",
            "SMR        1\n",
            "GUY        1\n",
            "Name: Country, Length: 178, dtype: int64\n",
            " column : MarketSegment type : object\n",
            "Online TA        56477\n",
            "Offline TA/TO    24219\n",
            "Groups           19811\n",
            "Direct           12606\n",
            "Corporate         5295\n",
            "Complementary      743\n",
            "Aviation           237\n",
            "Undefined            2\n",
            "Name: MarketSegment, dtype: int64\n",
            " column : DistributionChannel type : object\n",
            "TA/TO        97870\n",
            "Direct       14645\n",
            "Corporate     6677\n",
            "GDS            193\n",
            "Undefined        5\n",
            "Name: DistributionChannel, dtype: int64\n",
            " column : IsRepeatedGuest type : int64\n",
            "0    115580\n",
            "1      3810\n",
            "Name: IsRepeatedGuest, dtype: int64\n",
            " column : PreviousCancellations type : int64\n",
            "0     112906\n",
            "1       6051\n",
            "2        116\n",
            "3         65\n",
            "24        48\n",
            "11        35\n",
            "4         31\n",
            "26        26\n",
            "25        25\n",
            "6         22\n",
            "19        19\n",
            "5         19\n",
            "14        14\n",
            "13        12\n",
            "21         1\n",
            "Name: PreviousCancellations, dtype: int64\n",
            " column : PreviousBookingsNotCanceled type : int64\n",
            "0     115770\n",
            "1       1542\n",
            "2        580\n",
            "3        333\n",
            "4        229\n",
            "       ...  \n",
            "47         1\n",
            "36         1\n",
            "49         1\n",
            "50         1\n",
            "63         1\n",
            "Name: PreviousBookingsNotCanceled, Length: 73, dtype: int64\n",
            " column : ReservedRoomType type : object\n",
            "A                   85994\n",
            "D                   19201\n",
            "E                    6535\n",
            "F                    2897\n",
            "G                    2094\n",
            "B                    1118\n",
            "C                     932\n",
            "H                     601\n",
            "P                      12\n",
            "L                       6\n",
            "Name: ReservedRoomType, dtype: int64\n",
            " column : AssignedRoomType type : object\n",
            "A                   74053\n",
            "D                   25322\n",
            "E                    7806\n",
            "F                    3751\n",
            "G                    2553\n",
            "C                    2375\n",
            "B                    2163\n",
            "H                     712\n",
            "I                     363\n",
            "K                     279\n",
            "P                      12\n",
            "L                       1\n",
            "Name: AssignedRoomType, dtype: int64\n",
            " column : BookingChanges type : int64\n",
            "0     101314\n",
            "1      12701\n",
            "2       3805\n",
            "3        927\n",
            "4        376\n",
            "5        118\n",
            "6         63\n",
            "7         31\n",
            "8         17\n",
            "9          8\n",
            "10         6\n",
            "13         5\n",
            "14         5\n",
            "15         3\n",
            "11         2\n",
            "12         2\n",
            "16         2\n",
            "17         2\n",
            "20         1\n",
            "18         1\n",
            "21         1\n",
            "Name: BookingChanges, dtype: int64\n",
            " column : DepositType type : object\n",
            "No Deposit         104641\n",
            "Non Refund          14587\n",
            "Refundable            162\n",
            "Name: DepositType, dtype: int64\n",
            " column : Agent type : object\n",
            "          9    31961\n",
            "       NULL    16340\n",
            "        240    13922\n",
            "          1     7191\n",
            "         14     3640\n",
            "               ...  \n",
            "        285        1\n",
            "        144        1\n",
            "        278        1\n",
            "        408        1\n",
            "        433        1\n",
            "Name: Agent, Length: 334, dtype: int64\n",
            " column : Company type : object\n",
            "       NULL    112593\n",
            "         40       927\n",
            "        223       784\n",
            "         67       267\n",
            "         45       250\n",
            "                ...  \n",
            "        373         1\n",
            "        258         1\n",
            "        497         1\n",
            "         64         1\n",
            "         77         1\n",
            "Name: Company, Length: 353, dtype: int64\n",
            " column : DaysInWaitingList type : int64\n",
            "0      115692\n",
            "39        227\n",
            "58        164\n",
            "44        141\n",
            "31        127\n",
            "        ...  \n",
            "175         1\n",
            "117         1\n",
            "89          1\n",
            "92          1\n",
            "183         1\n",
            "Name: DaysInWaitingList, Length: 128, dtype: int64\n",
            " column : CustomerType type : object\n",
            "Transient          89613\n",
            "Transient-Party    25124\n",
            "Contract            4076\n",
            "Group                577\n",
            "Name: CustomerType, dtype: int64\n",
            " column : ADR type : float64\n",
            "62.00     3754\n",
            "75.00     2715\n",
            "90.00     2473\n",
            "65.00     2418\n",
            "0.00      1959\n",
            "          ... \n",
            "202.74       1\n",
            "87.64        1\n",
            "69.83        1\n",
            "160.83       1\n",
            "35.64        1\n",
            "Name: ADR, Length: 8879, dtype: int64\n",
            " column : RequiredCarParkingSpaces type : int64\n",
            "0    111974\n",
            "1      7383\n",
            "2        28\n",
            "3         3\n",
            "8         2\n",
            "Name: RequiredCarParkingSpaces, dtype: int64\n",
            " column : TotalOfSpecialRequests type : int64\n",
            "0    70318\n",
            "1    33226\n",
            "2    12969\n",
            "3     2497\n",
            "4      340\n",
            "5       40\n",
            "Name: TotalOfSpecialRequests, dtype: int64\n",
            " column : ReservationStatus type : object\n",
            "Check-Out    75166\n",
            "Canceled     43017\n",
            "No-Show       1207\n",
            "Name: ReservationStatus, dtype: int64\n",
            " column : ReservationStatusDate type : datetime64[ns]\n",
            "2015-10-21    1461\n",
            "2015-07-06     805\n",
            "2016-11-25     790\n",
            "2015-01-01     763\n",
            "2016-01-18     625\n",
            "              ... \n",
            "2015-03-18       1\n",
            "2015-06-14       1\n",
            "2015-02-06       1\n",
            "2015-03-28       1\n",
            "2015-03-10       1\n",
            "Name: ReservationStatusDate, Length: 926, dtype: int64\n",
            " column : hotel_type type : object\n",
            "urban     79330\n",
            "resort    40060\n",
            "Name: hotel_type, dtype: int64\n",
            " column : ArrivalDateMonthNum type : int64\n",
            "8     13877\n",
            "7     12661\n",
            "5     11791\n",
            "10    11160\n",
            "4     11089\n",
            "6     10939\n",
            "9     10508\n",
            "3      9794\n",
            "2      8068\n",
            "11     6794\n",
            "12     6780\n",
            "1      5929\n",
            "Name: ArrivalDateMonthNum, dtype: int64\n"
          ],
          "name": "stdout"
        }
      ]
    },
    {
      "cell_type": "code",
      "metadata": {
        "id": "fQPEsO0sDYcC",
        "colab_type": "code",
        "outputId": "0fc567ee-0f14-4773-bde9-e284ad8bfd67",
        "colab": {
          "base_uri": "https://localhost:8080/",
          "height": 36
        }
      },
      "source": [
        "Y_vtreat.shape"
      ],
      "execution_count": 14,
      "outputs": [
        {
          "output_type": "execute_result",
          "data": {
            "text/plain": [
              "(119390,)"
            ]
          },
          "metadata": {
            "tags": []
          },
          "execution_count": 14
        }
      ]
    },
    {
      "cell_type": "code",
      "metadata": {
        "id": "eNzdWLjWAkLa",
        "colab_type": "code",
        "colab": {
          "base_uri": "https://localhost:8080/",
          "height": 223
        },
        "outputId": "f7b846ca-ba2a-4c48-d778-eebfa4d94e77"
      },
      "source": [
        "df.columns"
      ],
      "execution_count": 34,
      "outputs": [
        {
          "output_type": "execute_result",
          "data": {
            "text/plain": [
              "Index(['IsCanceled', 'LeadTime', 'ArrivalDateYear', 'ArrivalDateMonth',\n",
              "       'ArrivalDateWeekNumber', 'ArrivalDateDayOfMonth',\n",
              "       'StaysInWeekendNights', 'StaysInWeekNights', 'Adults', 'Children',\n",
              "       'Babies', 'Meal', 'Country', 'MarketSegment', 'DistributionChannel',\n",
              "       'IsRepeatedGuest', 'PreviousCancellations',\n",
              "       'PreviousBookingsNotCanceled', 'ReservedRoomType', 'AssignedRoomType',\n",
              "       'BookingChanges', 'DepositType', 'Agent', 'Company',\n",
              "       'DaysInWaitingList', 'CustomerType', 'ADR', 'RequiredCarParkingSpaces',\n",
              "       'TotalOfSpecialRequests', 'ReservationStatus', 'ReservationStatusDate',\n",
              "       'hotel_type'],\n",
              "      dtype='object')"
            ]
          },
          "metadata": {
            "tags": []
          },
          "execution_count": 34
        }
      ]
    },
    {
      "cell_type": "code",
      "metadata": {
        "id": "yoRbYgtwKCQm",
        "colab_type": "code",
        "colab": {
          "base_uri": "https://localhost:8080/",
          "height": 129
        },
        "outputId": "4bdc7c6b-1bc0-4208-9582-b975802cd9ff"
      },
      "source": [
        "df.index"
      ],
      "execution_count": 35,
      "outputs": [
        {
          "output_type": "execute_result",
          "data": {
            "text/plain": [
              "Int64Index([    0,     1,     2,     3,     4,     5,     6,     7,     8,\n",
              "                9,\n",
              "            ...\n",
              "            79320, 79321, 79322, 79323, 79324, 79325, 79326, 79327, 79328,\n",
              "            79329],\n",
              "           dtype='int64', length=119390)"
            ]
          },
          "metadata": {
            "tags": []
          },
          "execution_count": 35
        }
      ]
    },
    {
      "cell_type": "code",
      "metadata": {
        "id": "RpfsOo4FJ4Ao",
        "colab_type": "code",
        "colab": {
          "base_uri": "https://localhost:8080/",
          "height": 36
        },
        "outputId": "54e7de15-1248-4cac-f641-fb2e16116d38"
      },
      "source": [
        "df.index\n"
      ],
      "execution_count": 56,
      "outputs": [
        {
          "output_type": "execute_result",
          "data": {
            "text/plain": [
              "RangeIndex(start=0, stop=119390, step=1)"
            ]
          },
          "metadata": {
            "tags": []
          },
          "execution_count": 56
        }
      ]
    }
  ]
}