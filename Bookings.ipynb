{
  "nbformat": 4,
  "nbformat_minor": 0,
  "metadata": {
    "colab": {
      "name": "Bookings.ipynb",
      "provenance": [],
      "collapsed_sections": [],
      "toc_visible": true,
      "authorship_tag": "ABX9TyPmjYuLm/7y7IK3yHrGhBBK",
      "include_colab_link": true
    },
    "kernelspec": {
      "name": "python3",
      "display_name": "Python 3"
    }
  },
  "cells": [
    {
      "cell_type": "markdown",
      "metadata": {
        "id": "view-in-github",
        "colab_type": "text"
      },
      "source": [
        "<a href=\"https://colab.research.google.com/github/alejandromanas/GoogleColab_public/blob/master/Bookings.ipynb\" target=\"_parent\"><img src=\"https://colab.research.google.com/assets/colab-badge.svg\" alt=\"Open In Colab\"/></a>"
      ]
    },
    {
      "cell_type": "markdown",
      "metadata": {
        "id": "moNucPTF2tVw",
        "colab_type": "text"
      },
      "source": [
        "# **Booking cancellation prediction**\n",
        "\n",
        "One of the most commom problems in tourism and travel industry is booking cancellations. Cancellation rate can range from 20% to 60% depending on the hotel type and location. \n",
        "\n",
        "Creating a classification model capable of predicting the probability of cancellation reduces losses and ensures better decision-making in the following areas:\n",
        "\n",
        "* Booking management- get a better prediction of net demand (bookings - cancellations)\n",
        "\n",
        "* Revenue Management- improve the data from which the pricing policy is set\n",
        "\n",
        "* Resource management- Optimize the planning of purchases, services of external suppliers and staff organization. \n",
        "\n",
        "* Overbooking policies- Reduce the additional costs of acomodate guests in other hotels and the loss of confidence and bad publicity (bad reviews) that it can cause.\n",
        "\n",
        "The project includes 3 models based on different techniques (logistic regression, XGBoost and lightGBM). All of them are classification models (the goal is to classify bookings into two groups, cancelled and not cancelled) and supervised (the response variable, the booking status, is known for each reservation and is used in the model training)"
      ]
    },
    {
      "cell_type": "markdown",
      "metadata": {
        "id": "sqd54bXZbGuQ",
        "colab_type": "text"
      },
      "source": [
        "### Origin of information\n",
        "\n",
        "The data was obtained from an article entitled \"Hotel booking demand datasets\" by Nuno Antonio, Anade Almeid and Luis Nunes .\n",
        "\n",
        "URL: https://www.sciencedirect.com/science/article/pii/S2352340918315191)\n",
        "\n",
        "The article includes a dataset with more than 120,000 reservations from two hotels of one of the major portuguese hotels brand. Both hotels have more than 200 rooms and a four stars rating. One is a city hotel located in Lisbon and the other is a resort hotel in the Algarve. The reservations have a date of arrival between 1 July 2015 and 31 August 2017. \n",
        "\n",
        "Each reservation includes about 35 variables or columns. Some of them are::\n",
        "* booking status (cancelled or not cancelled)\n",
        "* lead time\n",
        "* number of nights (weekdays and weekends)\n",
        "* average price per night\n",
        "* distribution channel\n",
        "* market segment\n",
        "* room type\n",
        "* number of guests (babes, childs or adults)"
      ]
    },
    {
      "cell_type": "markdown",
      "metadata": {
        "id": "boD55V5ijki3",
        "colab_type": "text"
      },
      "source": [
        "# **Models**"
      ]
    },
    {
      "cell_type": "markdown",
      "metadata": {
        "id": "UM_f4iFGabfl",
        "colab_type": "text"
      },
      "source": [
        "### Libraries & Functions"
      ]
    },
    {
      "cell_type": "code",
      "metadata": {
        "id": "Qk6izRTUaYsy",
        "colab_type": "code",
        "colab": {}
      },
      "source": [
        "import pandas as pd\n",
        "import numpy as np\n",
        "import matplotlib.pyplot as plt\n",
        "import time\n",
        "import xgboost as xgb\n",
        "from xgboost import XGBClassifier\n",
        "from sklearn.model_selection import GridSearchCV\n",
        "from sklearn import model_selection\n",
        "from sklearn import metrics\n",
        "from sklearn.model_selection import train_test_split\n",
        "from sklearn import preprocessing\n",
        "import lightgbm as lgb\n",
        "from sklearn.model_selection import KFold\n",
        "\n",
        "import warnings\n",
        "warnings.filterwarnings(\"ignore\")\n",
        "\n",
        "#Metrics\n",
        "\n",
        "def predict_metrics(X,y,model):\n",
        "  y_pred = pd.Series(model.predict(X))\n",
        "  y_prob= model.predict_proba(X) \n",
        "    \n",
        "  # Accuracy  \n",
        "  print('Accuracy =',str(metrics.accuracy_score(y,y_pred)))\n",
        "        \n",
        "  # AUC\n",
        "  fpr, tpr, threshold = metrics.roc_curve(y, y_prob[:,1])\n",
        "  roc_auc = metrics.auc(fpr, tpr)\n",
        "  print('AUC = %0.2f' % roc_auc)\n",
        "        \n",
        "  # Logloss\n",
        "  Logloss = metrics.log_loss(y, y_prob[:,1])\n",
        "  print('LogLoss = %0.2f' % Logloss)\n",
        "        \n",
        "  return y_pred,y_prob\n",
        "\n",
        "# Time execution mesure\n",
        "def tic():\n",
        "  global _start_time \n",
        "  _start_time = time.time()\n",
        "\n",
        "def tac():\n",
        "  t_sec = round(time.time() - _start_time)\n",
        "  (t_min, t_sec) = divmod(t_sec,60)\n",
        "  (t_hour,t_min) = divmod(t_min,60) \n",
        "  time_elapsed=print('Time passed: {}hour:{}min:{}sec'.format(t_hour,t_min,t_sec))\n",
        "\n",
        "### XG Boosting with stratified CV and GridSearch\n",
        "def XGBC_Boss(X,Y,params):\n",
        "    \n",
        "  # time \n",
        "  _start_time = time.time()\n",
        "    \n",
        "  tic()\n",
        "  \n",
        "  # Splitting train and test\n",
        "  \n",
        "  x_train, x_test, y_train, y_test = train_test_split(X, Y, test_size=0.10, random_state=42)   \n",
        "  y_train= y_train.to_numpy().ravel()   #convert to (n,) array\n",
        "  y_test = y_test.to_numpy().ravel()    \n",
        "    \n",
        "  # Model\n",
        "    \n",
        "  xgbmodel=XGBClassifier()\n",
        "     \n",
        "  print('Fitting...')\n",
        "    \n",
        "  scoring = ['roc_auc']\n",
        "  refit='roc_auc'\n",
        "\n",
        "  kfold = model_selection.StratifiedShuffleSplit(n_splits=3, random_state=15)\n",
        "  grid_solver = GridSearchCV(estimator = xgbmodel, # model to train\n",
        "                     param_grid = params, # param_grid\n",
        "                     #scoring = ['accuracy'],\n",
        "                     scoring = scoring,\n",
        "                     cv = kfold,\n",
        "                     n_jobs=3, \n",
        "                     #refit = 'accuracy',\n",
        "                     refit = refit,\n",
        "                     verbose = 2)\n",
        "    \n",
        "  model_result_xgboost = grid_solver.fit(x_train,y_train)\n",
        "    \n",
        "  print('Best parameters: ',model_result_xgboost.best_estimator_)\n",
        "\n",
        "  # return predictions\n",
        "  Y_pred = pd.Series(model_result_xgboost.predict(x_train))\n",
        "  Y_prob= model_result_xgboost.predict_proba(x_train)\n",
        "    \n",
        "  # Metrics and parameters\n",
        "\n",
        "  print('***** RESULTS ***** \\n***** TRAIN *****')\n",
        "  predict_metrics(x_train,y_train,model_result_xgboost)\n",
        "        \n",
        "  print('***** TEST *****')\n",
        "  predict_metrics(x_test,y_test,model_result_xgboost)\n",
        "    \n",
        "  print('***** ALL DATA *****')\n",
        "  Y_pd = pd.DataFrame(Y_array)\n",
        "  y_pred,y_prob=predict_metrics(X,Y,model_result_xgboost)\n",
        "\n",
        "  tac() # time elapsed\n",
        "      \n",
        "  return Y_pred,Y_prob,model_result_xgboost\n",
        "\n",
        "###LightGBM with stratified CV and GridSearch\n",
        "\n",
        "def light_LGBM(X,y,param_grid):\n",
        "    \n",
        "  _start_time = time.time()\n",
        "  tic()\n",
        "     \n",
        "  indexes_of_categories=[]\n",
        "    \n",
        "  lbl = preprocessing.LabelEncoder()\n",
        "    \n",
        "  for i in range(X.shape[1]):\n",
        "      if X.dtypes[i]=='object':\n",
        "          indexes_of_categories.append(i)\n",
        "          lbl.fit(X.iloc[:,i])\n",
        "          X.iloc[:,i]=lbl.transform(X.iloc[:,i])\n",
        "        \n",
        "  # Splitting\n",
        "           \n",
        "  X_train, X_test, y_train, y_test = train_test_split(X, y, test_size=0.10, random_state=42)    \n",
        "  y_train= y_train.to_numpy().ravel()   #convert to (n,) array\n",
        "  y_test = y_test.to_numpy().ravel()         \n",
        "          \n",
        "  Kfold = model_selection.StratifiedShuffleSplit(n_splits=3, random_state=15)          \n",
        "  gkf = KFold(n_splits=5, shuffle=True, random_state=42).split(X=X_train, y=y_train)\n",
        "     \n",
        "  lgb_estimator = lgb.LGBMClassifier(boosting_type='gbdt',  objective='binary') \n",
        "\n",
        "  print('Fitting...')\n",
        "    \n",
        "  scoring = ['roc_auc']\n",
        "  refit='roc_auc'\n",
        "     \n",
        "  gsearch = GridSearchCV(estimator=lgb_estimator, \n",
        "                         param_grid=param_grid, \n",
        "                         cv=gkf,scoring=scoring,\n",
        "                         refit=refit,\n",
        "                         verbose = 2)\n",
        "    \n",
        "  lgb_model = gsearch.fit(X=X_train, y=y_train)\n",
        "    \n",
        "  print('Results ********** ')\n",
        "      \n",
        "  print('Best parameters:',str(lgb_model.best_params_))\n",
        "   \n",
        "  print('********** TRAIN ********** ')\n",
        "  predict_metrics(X_train,y_train,lgb_model)\n",
        "        \n",
        "  print('********** TEST ********** ')\n",
        "  predict_metrics(X_test,y_test,lgb_model)\n",
        "    \n",
        "  print('********** ALL DATA ********** ')\n",
        "  y_pred,y_prob=predict_metrics(X,y,lgb_model)\n",
        "     \n",
        "  # Plot importance PENDING\n",
        "  # fig, ax = plt.subplots(figsize=(20, 15))\n",
        "    \n",
        "  # lgb.plot_importance(lgb_estimator,ax=ax)\n",
        "  # lgb.plot_importance(gsearch.Booster,ax=ax)\n",
        "  # lgb.plot_importance(lgb_model.Booster_Booster,ax=ax)\n",
        "  # lgb.plot_importance(lgb_model,ax=ax)\n",
        "    \n",
        "  # plot_tree(lgb_model._Booster)\n",
        "    \n",
        "    \n",
        "  # lgb_model.plot_importance()\n",
        "  # # fig = plot_imp.figure\n",
        "  # # fig.set_size_inches(5, 10)\n",
        "  # plt.savefig('lightLGBM.png')\n",
        "         \n",
        "  # time\n",
        "  tac()\n",
        "    \n",
        "  return y_pred,y_prob,\n"
      ],
      "execution_count": 0,
      "outputs": []
    },
    {
      "cell_type": "markdown",
      "metadata": {
        "id": "mdoP7tFH32k-",
        "colab_type": "text"
      },
      "source": [
        "### Loading Files from Github"
      ]
    },
    {
      "cell_type": "code",
      "metadata": {
        "id": "c8PMj8JAE7Gu",
        "colab_type": "code",
        "colab": {}
      },
      "source": [
        "# data was preprocessed and imported from a personal Github repo\n",
        "X = pd.read_csv(\"https://raw.githubusercontent.com/alejandromanas/GoogleColab_public/master/bookings/files/X.csv\", delimiter = ',')\n",
        "Y = pd.read_csv(\"https://raw.githubusercontent.com/alejandromanas/GoogleColab_public/master/bookings/files/Y.csv\", delimiter = ',')"
      ],
      "execution_count": 0,
      "outputs": []
    },
    {
      "cell_type": "markdown",
      "metadata": {
        "id": "OK8GDGMeFL2K",
        "colab_type": "text"
      },
      "source": [
        "### Logistic Regresion"
      ]
    },
    {
      "cell_type": "code",
      "metadata": {
        "id": "JuFmOVJDFWaE",
        "colab_type": "code",
        "colab": {
          "base_uri": "https://localhost:8080/",
          "height": 410
        },
        "outputId": "fde923ea-09a8-4c38-e9f0-c75d6e0a9020"
      },
      "source": [
        "from sklearn.linear_model import LogisticRegression\n",
        "\n",
        "# Lead Time\n",
        "# tabla de contingencia\n",
        "pd.crosstab(index=Y['IsCancelled'], columns=X['LeadTime'], margins=True)\n",
        "\n",
        "\n",
        "x_train, x_test, y_train, y_test = train_test_split(X[['LeadTime']], Y, test_size=0.10, random_state=42)\n",
        "\n",
        "clf = LogisticRegression(random_state=0, solver='lbfgs')\n",
        "clf=clf.fit(x_train,y_train)\n",
        "clf.coef_\n",
        "clf.intercept_\n",
        "\n",
        "predict_metrics(x_train,y_train,clf)\n"
      ],
      "execution_count": 42,
      "outputs": [
        {
          "output_type": "stream",
          "text": [
            "Accuracy = 0.6614642953532308\n",
            "AUC = 0.69\n",
            "LogLoss = 0.62\n"
          ],
          "name": "stdout"
        },
        {
          "output_type": "execute_result",
          "data": {
            "text/plain": [
              "(0         0\n",
              " 1         0\n",
              " 2         0\n",
              " 3         0\n",
              " 4         0\n",
              "          ..\n",
              " 107446    0\n",
              " 107447    1\n",
              " 107448    0\n",
              " 107449    0\n",
              " 107450    0\n",
              " Length: 107451, dtype: int64, array([[0.76277645, 0.23722355],\n",
              "        [0.7595872 , 0.2404128 ],\n",
              "        [0.52441936, 0.47558064],\n",
              "        ...,\n",
              "        [0.66169827, 0.33830173],\n",
              "        [0.64581506, 0.35418494],\n",
              "        [0.70590043, 0.29409957]]))"
            ]
          },
          "metadata": {
            "tags": []
          },
          "execution_count": 42
        }
      ]
    },
    {
      "cell_type": "markdown",
      "metadata": {
        "id": "CAYXJvdPetPr",
        "colab_type": "text"
      },
      "source": [
        "### XGboost\n",
        "\n",
        " “Extreme Gradient Boosting” is a method of converting weak learners into strong learners. In boosting, each new tree is a fit on a modified version of the original data set. "
      ]
    },
    {
      "cell_type": "code",
      "metadata": {
        "id": "t7qUyRrSeyzS",
        "colab_type": "code",
        "outputId": "9aa24a99-db91-480a-ac44-e52c4c0573d6",
        "colab": {
          "base_uri": "https://localhost:8080/",
          "height": 485
        }
      },
      "source": [
        "params={'base_score': [0.8], \n",
        "         'booster': ['gbtree'],\n",
        "         'colsample_bylevel': [1], \n",
        "         'colsample_bytree': [0.8], \n",
        "         'gamma': [0.01],\n",
        "         'learning_rate': [0.01], \n",
        "         'max_depth': [6],\n",
        "         'min_child_weight': [1],\n",
        "         'missing': [None],\n",
        "         'n_estimators': [400],\n",
        "         'n_jobs': [-1], \n",
        "         'objective': ['binary:logistic'],\n",
        "         'random_state': [15], \n",
        "         'reg_alpha': [0.01], \n",
        "         'reg_lambda': [0.01],\n",
        "         'scale_pos_weight': [1],\n",
        "         'subsample': [0.9]}  \n",
        "\n",
        "Y_pred,Y_prob,model_result_xgboost=XGBC_Boss(X,Y,params)"
      ],
      "execution_count": 0,
      "outputs": [
        {
          "output_type": "stream",
          "text": [
            "Fitting...\n",
            "Fitting 3 folds for each of 1 candidates, totalling 3 fits\n"
          ],
          "name": "stdout"
        },
        {
          "output_type": "stream",
          "text": [
            "[Parallel(n_jobs=3)]: Using backend LokyBackend with 3 concurrent workers.\n",
            "[Parallel(n_jobs=3)]: Done   3 out of   3 | elapsed:  3.3min finished\n"
          ],
          "name": "stderr"
        },
        {
          "output_type": "stream",
          "text": [
            "***** RESULTS ***** \n",
            "***** TRAIN *****\n",
            "Accuracy = 0.8290290457976194\n",
            "AUC = 0.90\n",
            "LogLoss = 0.37\n",
            "***** TEST *****\n",
            "Accuracy = 0.8298852500209398\n",
            "AUC = 0.90\n",
            "LogLoss = 0.37\n",
            "***** ALL DATA *****\n",
            "Accuracy = 0.8291146662199514\n",
            "AUC = 0.90\n",
            "LogLoss = 0.37\n",
            "Best parameters:  XGBClassifier(base_score=0.8, booster='gbtree', colsample_bylevel=1,\n",
            "              colsample_bynode=1, colsample_bytree=0.8, gamma=0.01,\n",
            "              learning_rate=0.01, max_delta_step=0, max_depth=6,\n",
            "              min_child_weight=1, missing=None, n_estimators=400, n_jobs=-1,\n",
            "              nthread=None, objective='binary:logistic', random_state=15,\n",
            "              reg_alpha=0.01, reg_lambda=0.01, scale_pos_weight=1, seed=None,\n",
            "              silent=None, subsample=0.9, verbosity=1)\n",
            "Time passed: 0hour:5min:1sec\n"
          ],
          "name": "stdout"
        }
      ]
    },
    {
      "cell_type": "markdown",
      "metadata": {
        "id": "RjDn7xBq60AG",
        "colab_type": "text"
      },
      "source": [
        "### Results\n",
        "\n",
        ">Split | Accuracy |  AUC |  Logloss\n",
        ">--- | --- | --- | ---\n",
        ">TRAIN | 0.82902 | 0,90 | 0,37\n",
        ">TEST | 0.82988 | 0,90 | 0,37\n",
        ">ALL | 0.82911 | 0,90 | 0,37"
      ]
    },
    {
      "cell_type": "markdown",
      "metadata": {
        "id": "GFZvH3r5-VCD",
        "colab_type": "text"
      },
      "source": [
        "### Features used in the model"
      ]
    },
    {
      "cell_type": "code",
      "metadata": {
        "id": "Zy5YAEWH9Xgt",
        "colab_type": "code",
        "outputId": "eef5667c-7b2b-456d-a8d4-7e59bd15e5e7",
        "colab": {
          "base_uri": "https://localhost:8080/",
          "height": 532
        }
      },
      "source": [
        "#xgbm=model_result_xgboost.best_estimator_\n",
        "\n",
        "# Plot importance\n",
        "#fig, ax = plt.subplots(figsize=(20, 15))\n",
        "fig, ax = plt.subplots(figsize=(12, 8))\n",
        "xgb.plot_importance(model_result_xgboost.best_estimator_,ax=ax)"
      ],
      "execution_count": 0,
      "outputs": [
        {
          "output_type": "execute_result",
          "data": {
            "text/plain": [
              "<matplotlib.axes._subplots.AxesSubplot at 0x7f8134aa6ac8>"
            ]
          },
          "metadata": {
            "tags": []
          },
          "execution_count": 76
        },
        {
          "output_type": "display_data",
          "data": {
            "image/png": "[encoded data removed]",
            "text/plain": [
              "<Figure size 864x576 with 1 Axes>"
            ]
          },
          "metadata": {
            "tags": [],
            "needs_background": "light"
          }
        }
      ]
    },
    {
      "cell_type": "markdown",
      "metadata": {
        "id": "UeOLRS26tSKw",
        "colab_type": "text"
      },
      "source": [
        "### lightGBM"
      ]
    },
    {
      "cell_type": "code",
      "metadata": {
        "id": "x8eJZk-Ormlk",
        "colab_type": "code",
        "outputId": "27c769f7-d9a8-4477-c1f1-026a6e5ae1bd",
        "colab": {
          "base_uri": "https://localhost:8080/",
          "height": 598
        }
      },
      "source": [
        "\n",
        "param_grid = {\n",
        "'num_leaves': [31],\n",
        "'learning_rate':[0.1],\n",
        "'min_data_in_leaf': [30],\n",
        "'lambda_l1': [0],\n",
        "'lambda_l2': [0],\n",
        "'max_depth': [3],\n",
        "}  \n",
        "\n",
        "y_pred,y_prob = light_LGBM(X,Y,param_grid)"
      ],
      "execution_count": 0,
      "outputs": [
        {
          "output_type": "stream",
          "text": [
            "Fitting...\n",
            "Fitting 5 folds for each of 1 candidates, totalling 5 fits\n",
            "[CV] lambda_l1=0, lambda_l2=0, learning_rate=0.1, max_depth=3, min_data_in_leaf=30, num_leaves=31 \n"
          ],
          "name": "stdout"
        },
        {
          "output_type": "stream",
          "text": [
            "[Parallel(n_jobs=1)]: Using backend SequentialBackend with 1 concurrent workers.\n"
          ],
          "name": "stderr"
        },
        {
          "output_type": "stream",
          "text": [
            "[CV]  lambda_l1=0, lambda_l2=0, learning_rate=0.1, max_depth=3, min_data_in_leaf=30, num_leaves=31, total=   1.5s\n",
            "[CV] lambda_l1=0, lambda_l2=0, learning_rate=0.1, max_depth=3, min_data_in_leaf=30, num_leaves=31 \n"
          ],
          "name": "stdout"
        },
        {
          "output_type": "stream",
          "text": [
            "[Parallel(n_jobs=1)]: Done   1 out of   1 | elapsed:    1.5s remaining:    0.0s\n"
          ],
          "name": "stderr"
        },
        {
          "output_type": "stream",
          "text": [
            "[CV]  lambda_l1=0, lambda_l2=0, learning_rate=0.1, max_depth=3, min_data_in_leaf=30, num_leaves=31, total=   1.5s\n",
            "[CV] lambda_l1=0, lambda_l2=0, learning_rate=0.1, max_depth=3, min_data_in_leaf=30, num_leaves=31 \n",
            "[CV]  lambda_l1=0, lambda_l2=0, learning_rate=0.1, max_depth=3, min_data_in_leaf=30, num_leaves=31, total=   1.6s\n",
            "[CV] lambda_l1=0, lambda_l2=0, learning_rate=0.1, max_depth=3, min_data_in_leaf=30, num_leaves=31 \n",
            "[CV]  lambda_l1=0, lambda_l2=0, learning_rate=0.1, max_depth=3, min_data_in_leaf=30, num_leaves=31, total=   1.5s\n",
            "[CV] lambda_l1=0, lambda_l2=0, learning_rate=0.1, max_depth=3, min_data_in_leaf=30, num_leaves=31 \n",
            "[CV]  lambda_l1=0, lambda_l2=0, learning_rate=0.1, max_depth=3, min_data_in_leaf=30, num_leaves=31, total=   1.5s\n"
          ],
          "name": "stdout"
        },
        {
          "output_type": "stream",
          "text": [
            "[Parallel(n_jobs=1)]: Done   5 out of   5 | elapsed:    7.6s finished\n"
          ],
          "name": "stderr"
        },
        {
          "output_type": "stream",
          "text": [
            "Results ********** \n",
            "Best parameters: {'lambda_l1': 0, 'lambda_l2': 0, 'learning_rate': 0.1, 'max_depth': 3, 'min_data_in_leaf': 30, 'num_leaves': 31}\n",
            "********** TRAIN ********** \n",
            "Accuracy = 0.8264418199923687\n",
            "AUC = 0.90\n",
            "LogLoss = 0.37\n",
            "********** TEST ********** \n",
            "Accuracy = 0.829047658932909\n",
            "AUC = 0.90\n",
            "LogLoss = 0.37\n",
            "********** ALL DATA ********** \n",
            "Accuracy = 0.8267024038864227\n",
            "AUC = 0.90\n",
            "LogLoss = 0.37\n",
            "Time passed: 0hour:0min:11sec\n"
          ],
          "name": "stdout"
        }
      ]
    },
    {
      "cell_type": "code",
      "metadata": {
        "id": "hadTSv3fDrv4",
        "colab_type": "code",
        "outputId": "80ad5f7b-02a3-4d5d-e19d-094e323c6b0e",
        "colab": {
          "base_uri": "https://localhost:8080/",
          "height": 193
        }
      },
      "source": [
        "from sklearn.model_selection import KFold\n",
        "gkf = KFold(n_splits=5, shuffle=True, random_state=42).split(X=X_train, y=y_train)"
      ],
      "execution_count": 0,
      "outputs": [
        {
          "output_type": "error",
          "ename": "NameError",
          "evalue": "ignored",
          "traceback": [
            "\u001b[0;31m---------------------------------------------------------------------------\u001b[0m",
            "\u001b[0;31mNameError\u001b[0m                                 Traceback (most recent call last)",
            "\u001b[0;32m<ipython-input-46-cce1cd99f6a1>\u001b[0m in \u001b[0;36m<module>\u001b[0;34m()\u001b[0m\n\u001b[1;32m      1\u001b[0m \u001b[0;32mfrom\u001b[0m \u001b[0msklearn\u001b[0m\u001b[0;34m.\u001b[0m\u001b[0mmodel_selection\u001b[0m \u001b[0;32mimport\u001b[0m \u001b[0mKFold\u001b[0m\u001b[0;34m\u001b[0m\u001b[0;34m\u001b[0m\u001b[0m\n\u001b[0;32m----> 2\u001b[0;31m \u001b[0mgkf\u001b[0m \u001b[0;34m=\u001b[0m \u001b[0mKFold\u001b[0m\u001b[0;34m(\u001b[0m\u001b[0mn_splits\u001b[0m\u001b[0;34m=\u001b[0m\u001b[0;36m5\u001b[0m\u001b[0;34m,\u001b[0m \u001b[0mshuffle\u001b[0m\u001b[0;34m=\u001b[0m\u001b[0;32mTrue\u001b[0m\u001b[0;34m,\u001b[0m \u001b[0mrandom_state\u001b[0m\u001b[0;34m=\u001b[0m\u001b[0;36m42\u001b[0m\u001b[0;34m)\u001b[0m\u001b[0;34m.\u001b[0m\u001b[0msplit\u001b[0m\u001b[0;34m(\u001b[0m\u001b[0mX\u001b[0m\u001b[0;34m=\u001b[0m\u001b[0mX_train\u001b[0m\u001b[0;34m,\u001b[0m \u001b[0my\u001b[0m\u001b[0;34m=\u001b[0m\u001b[0my_train\u001b[0m\u001b[0;34m)\u001b[0m\u001b[0;34m\u001b[0m\u001b[0;34m\u001b[0m\u001b[0m\n\u001b[0m",
            "\u001b[0;31mNameError\u001b[0m: name 'X_train' is not defined"
          ]
        }
      ]
    }
  ]
}